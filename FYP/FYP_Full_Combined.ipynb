{
  "nbformat": 4,
  "nbformat_minor": 0,
  "metadata": {
    "colab": {
      "name": "FYP_Full_Combined.ipynb",
      "provenance": [],
      "collapsed_sections": []
    },
    "kernelspec": {
      "name": "python3",
      "display_name": "Python 3"
    },
    "language_info": {
      "name": "python"
    },
    "accelerator": "GPU"
  },
  "cells": [
    {
      "cell_type": "code",
      "execution_count": null,
      "metadata": {
        "id": "un6R1M9GwBON"
      },
      "outputs": [],
      "source": [
        ""
      ]
    },
    {
      "cell_type": "markdown",
      "metadata": {
        "id": "tb9COvZ7TZFR"
      },
      "source": [
        "# Imports & Functions"
      ]
    },
    {
      "cell_type": "code",
      "metadata": {
        "id": "qrz0JfyxbsPO",
        "colab": {
          "base_uri": "https://localhost:8080/"
        },
        "outputId": "f2cc27e8-ca89-4885-c61d-5d1577803d01"
      },
      "source": [
        "# Installing libraries required\n",
        "!pip install mat73\n",
        "!pip install ewtpy\n",
        "!pip install scaleogram"
      ],
      "execution_count": null,
      "outputs": [
        {
          "output_type": "stream",
          "name": "stdout",
          "text": [
            "Collecting mat73\n",
            "  Downloading mat73-0.59-py3-none-any.whl (19 kB)\n",
            "Requirement already satisfied: numpy in /usr/local/lib/python3.7/dist-packages (from mat73) (1.21.6)\n",
            "Requirement already satisfied: h5py in /usr/local/lib/python3.7/dist-packages (from mat73) (3.1.0)\n",
            "Requirement already satisfied: cached-property in /usr/local/lib/python3.7/dist-packages (from h5py->mat73) (1.5.2)\n",
            "Installing collected packages: mat73\n",
            "Successfully installed mat73-0.59\n",
            "Collecting ewtpy\n",
            "  Downloading ewtpy-0.2-py2.py3-none-any.whl (8.9 kB)\n",
            "Requirement already satisfied: numpy in /usr/local/lib/python3.7/dist-packages (from ewtpy) (1.21.6)\n",
            "Requirement already satisfied: scipy in /usr/local/lib/python3.7/dist-packages (from ewtpy) (1.4.1)\n",
            "Installing collected packages: ewtpy\n",
            "Successfully installed ewtpy-0.2\n",
            "Collecting scaleogram\n",
            "  Downloading scaleogram-0.9.5-py3-none-any.whl (18 kB)\n",
            "Requirement already satisfied: numpy>=1.0 in /usr/local/lib/python3.7/dist-packages (from scaleogram) (1.21.6)\n",
            "Requirement already satisfied: PyWavelets>=1.0 in /usr/local/lib/python3.7/dist-packages (from scaleogram) (1.3.0)\n",
            "Requirement already satisfied: matplotlib>=2.0 in /usr/local/lib/python3.7/dist-packages (from scaleogram) (3.2.2)\n",
            "Requirement already satisfied: kiwisolver>=1.0.1 in /usr/local/lib/python3.7/dist-packages (from matplotlib>=2.0->scaleogram) (1.4.2)\n",
            "Requirement already satisfied: cycler>=0.10 in /usr/local/lib/python3.7/dist-packages (from matplotlib>=2.0->scaleogram) (0.11.0)\n",
            "Requirement already satisfied: pyparsing!=2.0.4,!=2.1.2,!=2.1.6,>=2.0.1 in /usr/local/lib/python3.7/dist-packages (from matplotlib>=2.0->scaleogram) (3.0.8)\n",
            "Requirement already satisfied: python-dateutil>=2.1 in /usr/local/lib/python3.7/dist-packages (from matplotlib>=2.0->scaleogram) (2.8.2)\n",
            "Requirement already satisfied: typing-extensions in /usr/local/lib/python3.7/dist-packages (from kiwisolver>=1.0.1->matplotlib>=2.0->scaleogram) (4.2.0)\n",
            "Requirement already satisfied: six>=1.5 in /usr/local/lib/python3.7/dist-packages (from python-dateutil>=2.1->matplotlib>=2.0->scaleogram) (1.15.0)\n",
            "Installing collected packages: scaleogram\n",
            "Successfully installed scaleogram-0.9.5\n"
          ]
        }
      ]
    },
    {
      "cell_type": "code",
      "metadata": {
        "id": "0Qhbbr7z7hPj"
      },
      "source": [
        "import glob\n",
        "\n",
        "import numpy as np\n",
        "import pandas as pd\n",
        "import matplotlib.pyplot as plt\n",
        "import seaborn as sns\n",
        "\n",
        "import scipy\n",
        "from scipy.io import loadmat\n",
        "from scipy import signal\n",
        "import mat73\n",
        "\n",
        "import random\n",
        "import pywt\n",
        "import gc\n",
        "import scaleogram as scg \n",
        "\n",
        "from skimage.transform import resize\n",
        "from skimage import data, color\n",
        "import ewtpy\n",
        "\n",
        "from sklearn.utils import shuffle\n",
        "from sklearn.preprocessing import StandardScaler\n",
        "from sklearn.metrics import confusion_matrix,classification_report\n",
        "from sklearn.model_selection import train_test_split\n",
        "from sklearn.utils import class_weight\n",
        "\n",
        "\n",
        "import keras\n",
        "from keras.layers import Dense, Flatten\n",
        "from keras.layers import Conv2D, MaxPooling2D\n",
        "from keras.models import Sequential\n",
        "from keras.callbacks import History \n",
        "\n",
        "import tensorflow as tf\n",
        "from tensorflow.keras.layers import Conv2D,Dense,Flatten,GlobalMaxPooling2D,MaxPooling2D,BatchNormalization,Dropout\n",
        "from tensorflow.keras.layers import Conv1D,MaxPooling1D\n",
        "from tensorflow.keras.preprocessing.image import ImageDataGenerator\n",
        "from tensorflow.keras.callbacks import ModelCheckpoint,EarlyStopping,ReduceLROnPlateau\n",
        "\n",
        "import itertools\n",
        "\n",
        "from keras.layers.wrappers import TimeDistributed\n",
        "from keras.layers.core import Dense, Dropout, Flatten, Activation\n",
        "from keras.layers.recurrent import LSTM\n",
        "from keras.layers.pooling import GlobalAveragePooling1D\n",
        "from keras.layers import Concatenate,Average\n",
        "\n"
      ],
      "execution_count": null,
      "outputs": []
    },
    {
      "cell_type": "code",
      "source": [
        "def make_confusion_matrix(y_true,y_pred,classes=None, figsize=(10,10),text_size=15):\n",
        "        \"\"\"\n",
        "        # Note: The following confusion matrix code is a remix of Scikit-Learn's \n",
        "        # plot_confusion_matrix function - https://scikit-learn.org/stable/modules/generated/sklearn.metrics.plot_confusion_matrix.html\n",
        "        # and Made with ML's introductory notebook - https://github.com/madewithml/basics/blob/master/notebooks/09_Multilayer_Perceptrons/09_TF_Multilayer_Perceptrons.ipynb\n",
        "        \"\"\"\n",
        "    \n",
        "        cm = confusion_matrix(y_true, tf.round(y_pred))\n",
        "        cm_norm = cm.astype(\"float\") / cm.sum(axis=1)[:, np.newaxis] # normalize it\n",
        "        n_classes = cm.shape[0]\n",
        "\n",
        "        fig, ax = plt.subplots(figsize=figsize)\n",
        "        cax = ax.matshow(cm, cmap=plt.cm.Blues) # https://matplotlib.org/3.2.0/api/_as_gen/matplotlib.axes.Axes.matshow.html\n",
        "        fig.colorbar(cax)\n",
        "\n",
        "        if classes:\n",
        "            labels = classes\n",
        "        else:\n",
        "            labels = np.arange(cm.shape[0])\n",
        "\n",
        "\n",
        "        ax.set(title=\"Confusion Matrix\",\n",
        "                xlabel=\"Predicted label\",\n",
        "                ylabel=\"True label\",\n",
        "                xticks=np.arange(n_classes),\n",
        "                yticks=np.arange(n_classes),\n",
        "                xticklabels=labels,\n",
        "                yticklabels=labels)\n",
        "\n",
        "    \n",
        "        ax.xaxis.set_label_position(\"bottom\")\n",
        "        ax.xaxis.tick_bottom()\n",
        "\n",
        "        ax.xaxis.label.set_size(text_size)\n",
        "        ax.yaxis.label.set_size(text_size)\n",
        "        ax.title.set_size(text_size)\n",
        "\n",
        "    \n",
        "        threshold = (cm.max() + cm.min()) / 2.\n",
        "\n",
        "\n",
        "        for i, j in itertools.product(range(cm.shape[0]), range(cm.shape[1])):\n",
        "            plt.text(j, i, f\"{cm[i, j]} ({cm_norm[i, j]*100:.1f}%)\",\n",
        "                    horizontalalignment=\"center\",\n",
        "                    color=\"white\" if cm[i, j] > threshold else \"black\",\n",
        "                    size=text_size)"
      ],
      "metadata": {
        "id": "t6PxjXcfbEdm"
      },
      "execution_count": null,
      "outputs": []
    },
    {
      "cell_type": "code",
      "source": [
        "X_train_hma=np.load(\"/content/drive/MyDrive/FYP_FINAL/HMA/X_train.npy\")\n",
        "X_test_hma=np.load(\"/content/drive/MyDrive/FYP_FINAL/HMA/X_test.npy\")\n",
        "X_val_hma=np.load(\"/content/drive/MyDrive/FYP_FINAL/HMA/X_val.npy\")\n",
        "y_train_hma=np.load(\"/content/drive/MyDrive/FYP_FINAL/HMA/y_train.npy\")\n",
        "y_test_hma=np.load(\"/content/drive/MyDrive/FYP_FINAL/HMA/y_test.npy\")\n",
        "y_val_hma=np.load(\"/content/drive/MyDrive/FYP_FINAL/HMA/y_val.npy\")\n",
        "\n",
        "X_train_ibf=np.load(\"/content/drive/MyDrive/FYP_FINAL/IBF/X_train.npy\")\n",
        "X_test_ibf=np.load(\"/content/drive/MyDrive/FYP_FINAL/IBF/X_test.npy\")\n",
        "X_val_ibf=np.load(\"/content/drive/MyDrive/FYP_FINAL/IBF/X_val.npy\")\n",
        "y_train_ibf=np.load(\"/content/drive/MyDrive/FYP_FINAL/IBF/y_train.npy\")\n",
        "y_test_ibf=np.load(\"/content/drive/MyDrive/FYP_FINAL/IBF/y_test.npy\")\n",
        "y_val_ibf=np.load(\"/content/drive/MyDrive/FYP_FINAL/IBF/y_val.npy\")\n",
        "\n",
        "X_train_ohbf=np.load(\"/content/drive/MyDrive/FYP_FINAL/OHBF/X_train.npy\")\n",
        "X_test_ohbf=np.load(\"/content/drive/MyDrive/FYP_FINAL/OHBF/X_test.npy\")\n",
        "X_val_ohbf=np.load(\"/content/drive/MyDrive/FYP_FINAL/OHBF/X_val.npy\")\n",
        "y_train_ohbf=np.load(\"/content/drive/MyDrive/FYP_FINAL/OHBF/y_train.npy\")\n",
        "y_test_ohbf=np.load(\"/content/drive/MyDrive/FYP_FINAL/OHBF/y_test.npy\")\n",
        "y_val_ohbf=np.load(\"/content/drive/MyDrive/FYP_FINAL/OHBF/y_val.npy\")\n",
        "\n",
        "X_train_uhbf=np.load(\"/content/drive/MyDrive/FYP_FINAL/UHBF/X_train.npy\")\n",
        "X_test_uhbf=np.load(\"/content/drive/MyDrive/FYP_FINAL/UHBF/X_test.npy\")\n",
        "X_val_uhbf=np.load(\"/content/drive/MyDrive/FYP_FINAL/UHBF/X_val.npy\")\n",
        "y_train_uhbf=np.load(\"/content/drive/MyDrive/FYP_FINAL/UHBF/y_train.npy\")\n",
        "y_test_uhbf=np.load(\"/content/drive/MyDrive/FYP_FINAL/UHBF/y_test.npy\")\n",
        "y_val_uhbf=np.load(\"/content/drive/MyDrive/FYP_FINAL/UHBF/y_val.npy\")\n",
        "\n",
        "X_train_vma=np.load(\"/content/drive/MyDrive/FYP_FINAL/VMA/X_train.npy\")\n",
        "X_test_vma=np.load(\"/content/drive/MyDrive/FYP_FINAL/VMA/X_test.npy\")\n",
        "X_val_vma=np.load(\"/content/drive/MyDrive/FYP_FINAL/VMA/X_val.npy\")\n",
        "y_train_vma=np.load(\"/content/drive/MyDrive/FYP_FINAL/VMA/y_train.npy\")\n",
        "y_test_vma=np.load(\"/content/drive/MyDrive/FYP_FINAL/VMA/y_test.npy\")\n",
        "y_val_vma=np.load(\"/content/drive/MyDrive/FYP_FINAL/VMA/y_val.npy\")"
      ],
      "metadata": {
        "id": "_V_GHaS6bLRu"
      },
      "execution_count": null,
      "outputs": []
    },
    {
      "cell_type": "code",
      "source": [
        "X_hma=np.vstack((X_train_hma,X_test_hma,X_val_hma))\n",
        "y_hma=np.vstack((y_train_hma.reshape(-1,1),y_test_hma.reshape(-1,1),y_val_hma.reshape(-1,1)))\n",
        "\n",
        "X_ibf=np.vstack((X_train_ibf,X_test_ibf,X_val_ibf))\n",
        "y_ibf=np.vstack((y_train_ibf.reshape(-1,1),y_test_ibf.reshape(-1,1),y_val_ibf.reshape(-1,1)))\n",
        "\n",
        "X_ohbf=np.vstack((X_train_ohbf,X_test_ohbf,X_val_ohbf))\n",
        "y_ohbf=np.vstack((y_train_ohbf.reshape(-1,1),y_test_ohbf.reshape(-1,1),y_val_ohbf.reshape(-1,1)))\n",
        "\n",
        "X_uhbf=np.vstack((X_train_uhbf,X_test_uhbf,X_val_uhbf))\n",
        "y_uhbf=np.vstack((y_train_uhbf.reshape(-1,1),y_test_uhbf.reshape(-1,1),y_val_uhbf.reshape(-1,1)))\n",
        "\n",
        "X_vma=np.vstack((X_train_vma,X_test_vma,X_val_vma))\n",
        "y_vma=np.vstack((y_train_vma.reshape(-1,1),y_test_vma.reshape(-1,1),y_val_vma.reshape(-1,1)))"
      ],
      "metadata": {
        "id": "rscupV5l37MY"
      },
      "execution_count": null,
      "outputs": []
    },
    {
      "cell_type": "code",
      "source": [
        "X_hma.shape,y_hma.shape, X_ibf.shape,y_ibf.shape, X_ohbf.shape,y_ohbf.shape, X_uhbf.shape,y_uhbf.shape, X_vma.shape,y_vma.shape"
      ],
      "metadata": {
        "colab": {
          "base_uri": "https://localhost:8080/"
        },
        "id": "CFfmtKkj43QR",
        "outputId": "0b9c9fa1-c906-4ae8-a456-4d28fa70c5cb"
      },
      "execution_count": null,
      "outputs": [
        {
          "output_type": "execute_result",
          "data": {
            "text/plain": [
              "((4920, 1000, 8),\n",
              " (4920, 1),\n",
              " (7640, 1000, 8),\n",
              " (7640, 1),\n",
              " (11240, 1000, 8),\n",
              " (11240, 1),\n",
              " (12140, 1000, 8),\n",
              " (12140, 1),\n",
              " (7000, 1000, 8),\n",
              " (7000, 1))"
            ]
          },
          "metadata": {},
          "execution_count": 6
        }
      ]
    },
    {
      "cell_type": "code",
      "source": [
        "def cleaner(x,y):\n",
        "  cleaned_array =[]\n",
        "  normal_array = []\n",
        "  idx = np.where(y != 0)[0]\n",
        "  normal = np.where(y == 0)[0]\n",
        "  \n",
        "  for i in range(len(x)):\n",
        "    if i in normal:\n",
        "      normal_array.append(x[i])\n",
        "\n",
        "    else:\n",
        "      cleaned_array.append(x[i])\n",
        "\n",
        "  return np.array(normal_array),np.array(cleaned_array)\n",
        "\n"
      ],
      "metadata": {
        "id": "tQrXdJ-NktOo"
      },
      "execution_count": null,
      "outputs": []
    },
    {
      "cell_type": "code",
      "source": [
        "cleaner(X_hma,y_hma)[1].shape"
      ],
      "metadata": {
        "colab": {
          "base_uri": "https://localhost:8080/"
        },
        "id": "aFXTiIzal1Mk",
        "outputId": "ef03dd11-76c0-429a-cb55-38f06ee12282"
      },
      "execution_count": null,
      "outputs": [
        {
          "output_type": "execute_result",
          "data": {
            "text/plain": [
              "(3940, 1000, 8)"
            ]
          },
          "metadata": {},
          "execution_count": 8
        }
      ]
    },
    {
      "cell_type": "code",
      "source": [
        "cleaner(X_hma,y_hma)[0].shape"
      ],
      "metadata": {
        "colab": {
          "base_uri": "https://localhost:8080/"
        },
        "id": "9CKEIOn0qDby",
        "outputId": "3fea90c9-92a5-4399-bdad-6699b358dd3f"
      },
      "execution_count": null,
      "outputs": [
        {
          "output_type": "execute_result",
          "data": {
            "text/plain": [
              "(980, 1000, 8)"
            ]
          },
          "metadata": {},
          "execution_count": 9
        }
      ]
    },
    {
      "cell_type": "code",
      "source": [
        "cleaner(X_vma,y_vma)[0].shape"
      ],
      "metadata": {
        "colab": {
          "base_uri": "https://localhost:8080/"
        },
        "id": "k7_lpI_wqJR0",
        "outputId": "6bb7b9f3-378a-4533-ebf1-24b88cfcdedb"
      },
      "execution_count": null,
      "outputs": [
        {
          "output_type": "execute_result",
          "data": {
            "text/plain": [
              "(980, 1000, 8)"
            ]
          },
          "metadata": {},
          "execution_count": 10
        }
      ]
    },
    {
      "cell_type": "code",
      "source": [
        "cleaner(X_vma,y_vma)[1].shape"
      ],
      "metadata": {
        "colab": {
          "base_uri": "https://localhost:8080/"
        },
        "id": "xicWHp3-qW7g",
        "outputId": "5c518982-a49e-46d5-dd94-68ff1ea1a89b"
      },
      "execution_count": null,
      "outputs": [
        {
          "output_type": "execute_result",
          "data": {
            "text/plain": [
              "(6020, 1000, 8)"
            ]
          },
          "metadata": {},
          "execution_count": 11
        }
      ]
    },
    {
      "cell_type": "code",
      "source": [
        "cleaner(X_uhbf,y_uhbf)[0].shape"
      ],
      "metadata": {
        "colab": {
          "base_uri": "https://localhost:8080/"
        },
        "id": "lbFfhbiBqF6s",
        "outputId": "544e38ba-c58f-45ff-b197-b93f5f43ed66"
      },
      "execution_count": null,
      "outputs": [
        {
          "output_type": "execute_result",
          "data": {
            "text/plain": [
              "(980, 1000, 8)"
            ]
          },
          "metadata": {},
          "execution_count": 12
        }
      ]
    },
    {
      "cell_type": "code",
      "source": [
        "cleaner(X_uhbf,y_uhbf)[1].shape"
      ],
      "metadata": {
        "colab": {
          "base_uri": "https://localhost:8080/"
        },
        "id": "45C5oBtTqS0S",
        "outputId": "0fd4cdfa-095e-4460-81b9-9b06cbd516ce"
      },
      "execution_count": null,
      "outputs": [
        {
          "output_type": "execute_result",
          "data": {
            "text/plain": [
              "(11160, 1000, 8)"
            ]
          },
          "metadata": {},
          "execution_count": 13
        }
      ]
    },
    {
      "cell_type": "code",
      "source": [
        "cleaner(X_ohbf,y_ohbf)[0].shape"
      ],
      "metadata": {
        "colab": {
          "base_uri": "https://localhost:8080/"
        },
        "id": "evBCx02Hqf0I",
        "outputId": "08b14f91-6c6e-427e-ef17-fdebe5fb2578"
      },
      "execution_count": null,
      "outputs": [
        {
          "output_type": "execute_result",
          "data": {
            "text/plain": [
              "(980, 1000, 8)"
            ]
          },
          "metadata": {},
          "execution_count": 14
        }
      ]
    },
    {
      "cell_type": "code",
      "source": [
        "cleaner(X_ohbf,y_ohbf)[1].shape"
      ],
      "metadata": {
        "colab": {
          "base_uri": "https://localhost:8080/"
        },
        "id": "4TmkEO5Kqftn",
        "outputId": "2331be6f-74ed-4e99-fcb5-2df2951e910f"
      },
      "execution_count": null,
      "outputs": [
        {
          "output_type": "execute_result",
          "data": {
            "text/plain": [
              "(10260, 1000, 8)"
            ]
          },
          "metadata": {},
          "execution_count": 15
        }
      ]
    },
    {
      "cell_type": "code",
      "source": [
        "X_normal = cleaner(X_hma,y_hma)[0] # Cz normal set is same for all\n",
        "\n",
        "X_hma = cleaner(X_hma,y_hma)[1]\n",
        "\n",
        "X_ibf=cleaner(X_ibf,y_ibf)[1]\n",
        "\n",
        "X_ohbf=cleaner(X_ohbf,y_ohbf)[1]\n",
        "\n",
        "X_uhbf=cleaner(X_uhbf,y_uhbf)[1]\n",
        "\n",
        "X_vma=cleaner(X_vma,y_vma)[1]\n"
      ],
      "metadata": {
        "id": "Ld1Z0zNxiEm8"
      },
      "execution_count": null,
      "outputs": []
    },
    {
      "cell_type": "code",
      "source": [
        "X_normal.shape, X_hma.shape, X_ibf.shape, X_ohbf.shape, X_uhbf.shape, X_vma.shape"
      ],
      "metadata": {
        "colab": {
          "base_uri": "https://localhost:8080/"
        },
        "id": "15G7o9Kv2plg",
        "outputId": "0d8bd44f-af2f-4839-a558-a6abd9f92c8d"
      },
      "execution_count": null,
      "outputs": [
        {
          "output_type": "execute_result",
          "data": {
            "text/plain": [
              "((980, 1000, 8),\n",
              " (3940, 1000, 8),\n",
              " (6660, 1000, 8),\n",
              " (10260, 1000, 8),\n",
              " (11160, 1000, 8),\n",
              " (6020, 1000, 8))"
            ]
          },
          "metadata": {},
          "execution_count": 17
        }
      ]
    },
    {
      "cell_type": "code",
      "source": [
        "X = np.vstack((X_normal,X_hma,X_ibf,X_ohbf,X_uhbf,X_vma))\n",
        "X.shape"
      ],
      "metadata": {
        "colab": {
          "base_uri": "https://localhost:8080/"
        },
        "id": "MxbFoeIR87yG",
        "outputId": "5fbbe855-f44d-43bd-df9d-4a2f5cc04fe2"
      },
      "execution_count": null,
      "outputs": [
        {
          "output_type": "execute_result",
          "data": {
            "text/plain": [
              "(39020, 1000, 8)"
            ]
          },
          "metadata": {},
          "execution_count": 18
        }
      ]
    },
    {
      "cell_type": "code",
      "source": [
        "y_0 = pd.DataFrame(np.zeros(int(len(X_normal)),dtype=int))\n",
        "y_1 = pd.DataFrame(np.ones(int(len(X_hma)),dtype=int))\n",
        "y_2 = pd.DataFrame(np.full((int(len(X_ibf)),1),2))\n",
        "y_3 = pd.DataFrame(np.full((int(len(X_ohbf)),1),3))\n",
        "y_4 = pd.DataFrame(np.full((int(len(X_uhbf)),1),4))\n",
        "y_5 = pd.DataFrame(np.full((int(len(X_vma)),1),5))\n",
        "y = pd.concat([y_0,y_1,y_2,y_3,y_4,y_5], ignore_index=True).to_numpy()"
      ],
      "metadata": {
        "id": "RqyHJ19czxo_"
      },
      "execution_count": null,
      "outputs": []
    },
    {
      "cell_type": "code",
      "source": [
        "y.shape"
      ],
      "metadata": {
        "colab": {
          "base_uri": "https://localhost:8080/"
        },
        "id": "qs3rrMyC214Q",
        "outputId": "7c2d8544-f353-49fc-93de-1a34d67d4519"
      },
      "execution_count": null,
      "outputs": [
        {
          "output_type": "execute_result",
          "data": {
            "text/plain": [
              "(39020, 1)"
            ]
          },
          "metadata": {},
          "execution_count": 20
        }
      ]
    },
    {
      "cell_type": "code",
      "source": [
        "pd.DataFrame(y).plot()"
      ],
      "metadata": {
        "colab": {
          "base_uri": "https://localhost:8080/",
          "height": 283
        },
        "id": "YFwhEZVO21z0",
        "outputId": "dcbd2533-a1a3-4ff3-e9e5-1ade4a89716b"
      },
      "execution_count": null,
      "outputs": [
        {
          "output_type": "execute_result",
          "data": {
            "text/plain": [
              "<matplotlib.axes._subplots.AxesSubplot at 0x7f4b91fb2690>"
            ]
          },
          "metadata": {},
          "execution_count": 21
        },
        {
          "output_type": "display_data",
          "data": {
            "text/plain": [
              "<Figure size 432x288 with 1 Axes>"
            ],
            "image/png": "[encoded data removed]"
          },
          "metadata": {
            "needs_background": "light"
          }
        }
      ]
    },
    {
      "cell_type": "code",
      "source": [
        "X,y=shuffle(X, y)"
      ],
      "metadata": {
        "id": "FjLlN_3B21wA"
      },
      "execution_count": null,
      "outputs": []
    },
    {
      "cell_type": "code",
      "source": [
        "pd.DataFrame(y).plot()"
      ],
      "metadata": {
        "colab": {
          "base_uri": "https://localhost:8080/",
          "height": 283
        },
        "id": "uLffWd9521s0",
        "outputId": "4c00ed77-4f27-430b-8960-ccc8d1f4b0ef"
      },
      "execution_count": null,
      "outputs": [
        {
          "output_type": "execute_result",
          "data": {
            "text/plain": [
              "<matplotlib.axes._subplots.AxesSubplot at 0x7f4b91f62590>"
            ]
          },
          "metadata": {},
          "execution_count": 23
        },
        {
          "output_type": "display_data",
          "data": {
            "text/plain": [
              "<Figure size 432x288 with 1 Axes>"
            ],
            "image/png": "[encoded data removed]"
          },
          "metadata": {
            "needs_background": "light"
          }
        }
      ]
    },
    {
      "cell_type": "code",
      "source": [
        "np.unique(y,return_counts= True)"
      ],
      "metadata": {
        "colab": {
          "base_uri": "https://localhost:8080/"
        },
        "id": "rBBA0O3_-ZH-",
        "outputId": "40a96a79-a6b4-4f81-bee4-b279d34f4044"
      },
      "execution_count": null,
      "outputs": [
        {
          "output_type": "execute_result",
          "data": {
            "text/plain": [
              "(array([0, 1, 2, 3, 4, 5]), array([  980,  3940,  6660, 10260, 11160,  6020]))"
            ]
          },
          "metadata": {},
          "execution_count": 24
        }
      ]
    },
    {
      "cell_type": "code",
      "source": [
        "# all_variables = dir()\n",
        "  \n",
        "# # Iterate over the whole list where dir( )\n",
        "# # is stored.\n",
        "# for name in all_variables:\n",
        "    \n",
        "#     # Print the item if it doesn't start with '__'\n",
        "#     if not name.startswith('__'):\n",
        "#         myvalue = eval(name)\n",
        "#         print(name, \"is\", type(myvalue))"
      ],
      "metadata": {
        "id": "LeTzFwy0_w_3"
      },
      "execution_count": null,
      "outputs": []
    },
    {
      "cell_type": "code",
      "source": [
        "del X_hma \n",
        "del X_ibf \n",
        "del X_normal \n",
        "del X_ohbf\n",
        "del X_uhbf\n"
      ],
      "metadata": {
        "id": "MNUaLChpAXWf"
      },
      "execution_count": null,
      "outputs": []
    },
    {
      "cell_type": "code",
      "source": [
        "train_ratio = 0.7\n",
        "validation_ratio = 0.15\n",
        "test_ratio = 0.15\n",
        "\n",
        "# train is now 75% of the entire data set\n",
        "X_train, X_test, y_train, y_test = train_test_split(X, y, test_size=1 - train_ratio,stratify=y)\n",
        "\n",
        "# test is now 10% of the initial data set\n",
        "# validation is now 15% of the initial data set\n",
        "X_val, X_test, y_val, y_test = train_test_split(X_test, y_test, test_size=test_ratio/(test_ratio + validation_ratio),stratify=y_test) \n"
      ],
      "metadata": {
        "id": "NZelViv3-AEm"
      },
      "execution_count": null,
      "outputs": []
    },
    {
      "cell_type": "code",
      "source": [
        "np.save(\"/content/drive/MyDrive/FYP_FINAL/FINAL/full_X_train\",X_train)\n",
        "np.save(\"/content/drive/MyDrive/FYP_FINAL/FINAL/full_X_test\",X_test)\n",
        "np.save(\"/content/drive/MyDrive/FYP_FINAL/FINAL/full_X_val\",X_val)\n",
        "\n",
        "np.save(\"/content/drive/MyDrive/FYP_FINAL/FINAL/full_y_train\",y_train)\n",
        "np.save(\"/content/drive/MyDrive/FYP_FINAL/FINAL/full_y_test\",y_test)\n",
        "np.save(\"/content/drive/MyDrive/FYP_FINAL/FINAL/full_y_val\",y_val)"
      ],
      "metadata": {
        "id": "hq6nAgLp_Whv"
      },
      "execution_count": null,
      "outputs": []
    },
    {
      "cell_type": "markdown",
      "source": [
        "#Modelling\n"
      ],
      "metadata": {
        "id": "Bg2IUVnJ_lVs"
      }
    },
    {
      "cell_type": "code",
      "source": [
        "X_train=np.load(\"/content/drive/MyDrive/FYP_FINAL/FINAL/full_X_train.npy\")\n",
        "X_test=np.load(\"/content/drive/MyDrive/FYP_FINAL/FINAL/full_X_test.npy\")\n",
        "X_val=np.load(\"/content/drive/MyDrive/FYP_FINAL/FINAL/full_X_val.npy\")\n",
        "\n",
        "y_train=np.load(\"/content/drive/MyDrive/FYP_FINAL/FINAL/full_y_train.npy\")\n",
        "y_test=np.load(\"/content/drive/MyDrive/FYP_FINAL/FINAL/full_y_test.npy\")\n",
        "y_val=np.load(\"/content/drive/MyDrive/FYP_FINAL/FINAL/full_y_val.npy\")"
      ],
      "metadata": {
        "id": "pr6laglqAqHE"
      },
      "execution_count": null,
      "outputs": []
    },
    {
      "cell_type": "code",
      "source": [
        "X_train.shape, X_test.shape, X_val.shape, y_train.shape, y_test.shape, y_val.shape"
      ],
      "metadata": {
        "colab": {
          "base_uri": "https://localhost:8080/"
        },
        "id": "2n9krl4PxrW0",
        "outputId": "117298fb-76b5-4c5e-ca3b-3b4e3193f7f2"
      },
      "execution_count": null,
      "outputs": [
        {
          "output_type": "execute_result",
          "data": {
            "text/plain": [
              "((27313, 1000, 8),\n",
              " (5854, 1000, 8),\n",
              " (5853, 1000, 8),\n",
              " (27313, 1),\n",
              " (5854, 1),\n",
              " (5853, 1))"
            ]
          },
          "metadata": {},
          "execution_count": 6
        }
      ]
    },
    {
      "cell_type": "code",
      "source": [
        "num_classes=6\n",
        "n_timesteps=1000\n",
        "n_features=8"
      ],
      "metadata": {
        "id": "AWYoBAIR-jCM"
      },
      "execution_count": null,
      "outputs": []
    },
    {
      "cell_type": "code",
      "source": [
        "class_weights  = class_weight.compute_class_weight('balanced',classes = np.unique(y_train),y=y_train.reshape(-1,))"
      ],
      "metadata": {
        "id": "-t5wGeXfJyAp"
      },
      "execution_count": null,
      "outputs": []
    },
    {
      "cell_type": "code",
      "source": [
        "class_weights = dict(zip(np.unique(y_train), class_weights))\n",
        "class_weights"
      ],
      "metadata": {
        "colab": {
          "base_uri": "https://localhost:8080/"
        },
        "id": "lGxVtsMkKP9J",
        "outputId": "0509d3ca-b6c8-46f7-8ed6-14458b5fd6f0"
      },
      "execution_count": null,
      "outputs": [
        {
          "output_type": "execute_result",
          "data": {
            "text/plain": [
              "{0: 6.63581146744412,\n",
              " 1: 1.6505317863185884,\n",
              " 2: 0.9764407264407264,\n",
              " 3: 0.633829945233454,\n",
              " 4: 0.5827892288652755,\n",
              " 5: 1.0802483784211359}"
            ]
          },
          "metadata": {},
          "execution_count": 9
        }
      ]
    },
    {
      "cell_type": "code",
      "source": [
        "y_train = keras.utils.np_utils.to_categorical(y_train, num_classes)\n",
        "y_test = keras.utils.np_utils.to_categorical(y_test, num_classes)\n",
        "y_val = keras.utils.np_utils.to_categorical(y_val, num_classes)"
      ],
      "metadata": {
        "id": "h9NEEd0L-0YN"
      },
      "execution_count": null,
      "outputs": []
    },
    {
      "cell_type": "code",
      "source": [
        "# batch_size = 32\n",
        "# epochs =100\n",
        "\n",
        "# train_size = X_train.shape[0]\n",
        "# val_size=X_val.shape[0]\n",
        "# test_size= X_test.shape[0]"
      ],
      "metadata": {
        "id": "PB3cSXII-2PD"
      },
      "execution_count": null,
      "outputs": []
    },
    {
      "cell_type": "code",
      "source": [
        "# model = Sequential()\n",
        "# model.add(Conv1D(filters=32, kernel_size=2, activation='relu', input_shape=(n_timesteps,n_features)))\n",
        "# model.add(Dropout(0.2))\n",
        "# model.add(MaxPooling1D(pool_size=2))\n",
        "# model.add(Conv1D(filters=64, kernel_size=2, activation='relu'))\n",
        "# model.add(Dropout(0.2))\n",
        "# model.add(MaxPooling1D(pool_size=2))\n",
        "# model.add(Conv1D(filters=128, kernel_size=2, activation='relu'))\n",
        "# model.add(Dropout(0.2))\n",
        "# model.add(MaxPooling1D(pool_size=2))\n",
        "# model.add(Flatten())\n",
        "# model.add(Dense(128, activation='relu'))\n",
        "# model.add(Dense(num_classes, activation='softmax'))\n",
        "# model.compile(loss='sparse_categorical_crossentropy', optimizer='adam', metrics=['accuracy'])"
      ],
      "metadata": {
        "id": "ubwDeZLO-4Q6"
      },
      "execution_count": null,
      "outputs": []
    },
    {
      "cell_type": "code",
      "source": [
        "# model.summary()"
      ],
      "metadata": {
        "id": "uqCS-FV_-53t"
      },
      "execution_count": null,
      "outputs": []
    },
    {
      "cell_type": "code",
      "source": [
        "# checkpoint=ModelCheckpoint(\"/content/trained_model/full_final_base_CNN.hd5\",monitor=\"val_loss\",mode=\"min\",\n",
        "#                            save_best_only=True,verbose=1)\n",
        "\n",
        "# earlystop=EarlyStopping(monitor=\"val_loss\",min_delta=0,patience=6,verbose=1,restore_best_weights=True)\n",
        "\n",
        "# reduce_lr=ReduceLROnPlateau(monitor=\"val_loss\",factor=0.2,patience=2,verbose=1,min_delta=0.0001)\n",
        "\n",
        "# callbacks=[checkpoint,earlystop,reduce_lr]"
      ],
      "metadata": {
        "id": "KtajT8NG-8Mx"
      },
      "execution_count": null,
      "outputs": []
    },
    {
      "cell_type": "code",
      "source": [
        "batch_size = 16\n",
        "epochs =100\n",
        "\n",
        "train_size = X_train.shape[0]\n",
        "val_size=X_val.shape[0]\n",
        "test_size= X_test.shape[0]"
      ],
      "metadata": {
        "id": "ZexHm6RHoFlI"
      },
      "execution_count": null,
      "outputs": []
    },
    {
      "cell_type": "code",
      "source": [
        "alpha = 0.4\n",
        "model = Sequential()\n",
        "model.add(Conv1D(filters=128, kernel_size=2, activation=tf.keras.layers.LeakyReLU(alpha), input_shape=(n_timesteps,n_features)))\n",
        "# model.add(Dropout(0.3))\n",
        "model.add(MaxPooling1D(pool_size=2))\n",
        "model.add(Conv1D(filters=64, kernel_size=2, activation=tf.keras.layers.LeakyReLU(alpha)))\n",
        "# model.add(Dropout(0.3))\n",
        "model.add(MaxPooling1D(pool_size=2))\n",
        "model.add(Conv1D(filters=32, kernel_size=2, activation=tf.keras.layers.LeakyReLU(alpha)))\n",
        "# model.add(Dropout(0.3))\n",
        "model.add(MaxPooling1D(pool_size=2))\n",
        "model.add(Flatten())\n",
        "model.add(Dense(64, activation=tf.keras.layers.LeakyReLU(alpha)))\n",
        "model.add(Dropout(0.35))\n",
        "model.add(Dense(64, activation=tf.keras.layers.LeakyReLU(alpha)))\n",
        "model.add(Dropout(0.35))\n",
        "model.add(Dense(num_classes, activation='softmax'))\n",
        "model.compile(loss='categorical_crossentropy', optimizer='adam', metrics=['accuracy'])"
      ],
      "metadata": {
        "id": "FA6CEpeBoGCd"
      },
      "execution_count": null,
      "outputs": []
    },
    {
      "cell_type": "code",
      "source": [
        "model.summary()"
      ],
      "metadata": {
        "colab": {
          "base_uri": "https://localhost:8080/"
        },
        "id": "YaTpd2B6oHkR",
        "outputId": "6bd91ad8-a808-43c3-ac1d-c29f9ac46339"
      },
      "execution_count": null,
      "outputs": [
        {
          "output_type": "stream",
          "name": "stdout",
          "text": [
            "Model: \"sequential\"\n",
            "_________________________________________________________________\n",
            " Layer (type)                Output Shape              Param #   \n",
            "=================================================================\n",
            " conv1d (Conv1D)             (None, 999, 128)          2176      \n",
            "                                                                 \n",
            " max_pooling1d (MaxPooling1D  (None, 499, 128)         0         \n",
            " )                                                               \n",
            "                                                                 \n",
            " conv1d_1 (Conv1D)           (None, 498, 64)           16448     \n",
            "                                                                 \n",
            " max_pooling1d_1 (MaxPooling  (None, 249, 64)          0         \n",
            " 1D)                                                             \n",
            "                                                                 \n",
            " conv1d_2 (Conv1D)           (None, 248, 32)           4128      \n",
            "                                                                 \n",
            " max_pooling1d_2 (MaxPooling  (None, 124, 32)          0         \n",
            " 1D)                                                             \n",
            "                                                                 \n",
            " flatten (Flatten)           (None, 3968)              0         \n",
            "                                                                 \n",
            " dense (Dense)               (None, 64)                254016    \n",
            "                                                                 \n",
            " dropout (Dropout)           (None, 64)                0         \n",
            "                                                                 \n",
            " dense_1 (Dense)             (None, 64)                4160      \n",
            "                                                                 \n",
            " dropout_1 (Dropout)         (None, 64)                0         \n",
            "                                                                 \n",
            " dense_2 (Dense)             (None, 6)                 390       \n",
            "                                                                 \n",
            "=================================================================\n",
            "Total params: 281,318\n",
            "Trainable params: 281,318\n",
            "Non-trainable params: 0\n",
            "_________________________________________________________________\n"
          ]
        }
      ]
    },
    {
      "cell_type": "code",
      "source": [
        "checkpoint=ModelCheckpoint(\"/content/trained_model/full_base_CNN.hd5\",monitor=\"val_loss\",mode=\"min\",\n",
        "                           save_best_only=True,verbose=1)\n",
        "\n",
        "earlystop=EarlyStopping(monitor=\"val_loss\",min_delta=0,patience=8,verbose=1,restore_best_weights=True)\n",
        "\n",
        "reduce_lr=ReduceLROnPlateau(monitor=\"val_loss\",factor=0.2,patience=3,verbose=1,min_delta=0.0001)\n",
        "\n",
        "callbacks=[checkpoint,earlystop,reduce_lr]"
      ],
      "metadata": {
        "id": "UWk8cb8noKd8"
      },
      "execution_count": null,
      "outputs": []
    },
    {
      "cell_type": "code",
      "source": [
        "history = model.fit(X_train, y_train,steps_per_epoch=train_size//batch_size,\n",
        "          batch_size=batch_size,\n",
        "          epochs=epochs, validation_steps=val_size//batch_size,\n",
        "          validation_data=(X_val, y_val),class_weight=class_weights,\n",
        "          callbacks=callbacks)\n",
        " "
      ],
      "metadata": {
        "colab": {
          "base_uri": "https://localhost:8080/"
        },
        "id": "jKznwXKS-_G3",
        "outputId": "da2bceaf-7942-497d-d9a3-a7bd8607f36f"
      },
      "execution_count": null,
      "outputs": [
        {
          "output_type": "stream",
          "name": "stdout",
          "text": [
            "Epoch 1/100\n",
            "1706/1707 [============================>.] - ETA: 0s - loss: 0.6914 - accuracy: 0.7973\n",
            "Epoch 1: val_loss improved from inf to 0.19442, saving model to /content/trained_model/full_base_CNN.hd5\n"
          ]
        },
        {
          "output_type": "stream",
          "name": "stderr",
          "text": [
            "WARNING:absl:Found untraced functions such as leaky_re_lu_layer_call_fn, leaky_re_lu_layer_call_and_return_conditional_losses, leaky_re_lu_1_layer_call_fn, leaky_re_lu_1_layer_call_and_return_conditional_losses, leaky_re_lu_2_layer_call_fn while saving (showing 5 of 10). These functions will not be directly callable after loading.\n"
          ]
        },
        {
          "output_type": "stream",
          "name": "stdout",
          "text": [
            "INFO:tensorflow:Assets written to: /content/trained_model/full_base_CNN.hd5/assets\n"
          ]
        },
        {
          "output_type": "stream",
          "name": "stderr",
          "text": [
            "INFO:tensorflow:Assets written to: /content/trained_model/full_base_CNN.hd5/assets\n"
          ]
        },
        {
          "output_type": "stream",
          "name": "stdout",
          "text": [
            "\b\b\b\b\b\b\b\b\b\b\b\b\b\b\b\b\b\b\b\b\b\b\b\b\b\b\b\b\b\b\b\b\b\b\b\b\b\b\b\b\b\b\b\b\b\b\b\b\b\b\b\b\b\b\b\b\b\b\b\b\b\b\b\b\b\b\b\b\b\b\b\b\b\b\b\b\b\b\b\b\b\b\b\b\b\b\r1707/1707 [==============================] - 23s 7ms/step - loss: 0.6916 - accuracy: 0.7974 - val_loss: 0.1944 - val_accuracy: 0.9384 - lr: 0.0010\n",
            "Epoch 2/100\n",
            "1697/1707 [============================>.] - ETA: 0s - loss: 0.3092 - accuracy: 0.9312\n",
            "Epoch 2: val_loss improved from 0.19442 to 0.04941, saving model to /content/trained_model/full_base_CNN.hd5\n"
          ]
        },
        {
          "output_type": "stream",
          "name": "stderr",
          "text": [
            "WARNING:absl:Found untraced functions such as leaky_re_lu_layer_call_fn, leaky_re_lu_layer_call_and_return_conditional_losses, leaky_re_lu_1_layer_call_fn, leaky_re_lu_1_layer_call_and_return_conditional_losses, leaky_re_lu_2_layer_call_fn while saving (showing 5 of 10). These functions will not be directly callable after loading.\n"
          ]
        },
        {
          "output_type": "stream",
          "name": "stdout",
          "text": [
            "INFO:tensorflow:Assets written to: /content/trained_model/full_base_CNN.hd5/assets\n"
          ]
        },
        {
          "output_type": "stream",
          "name": "stderr",
          "text": [
            "INFO:tensorflow:Assets written to: /content/trained_model/full_base_CNN.hd5/assets\n"
          ]
        },
        {
          "output_type": "stream",
          "name": "stdout",
          "text": [
            "\b\b\b\b\b\b\b\b\b\b\b\b\b\b\b\b\b\b\b\b\b\b\b\b\b\b\b\b\b\b\b\b\b\b\b\b\b\b\b\b\b\b\b\b\b\b\b\b\b\b\b\b\b\b\b\b\b\b\b\b\b\b\b\b\b\b\b\b\b\b\b\b\b\b\b\b\b\b\b\b\b\b\b\b\b\b\r1707/1707 [==============================] - 13s 7ms/step - loss: 0.3079 - accuracy: 0.9315 - val_loss: 0.0494 - val_accuracy: 0.9851 - lr: 0.0010\n",
            "Epoch 3/100\n",
            "1702/1707 [============================>.] - ETA: 0s - loss: 0.1891 - accuracy: 0.9574\n",
            "Epoch 3: val_loss did not improve from 0.04941\n",
            "1707/1707 [==============================] - 11s 7ms/step - loss: 0.1891 - accuracy: 0.9574 - val_loss: 0.0657 - val_accuracy: 0.9796 - lr: 0.0010\n",
            "Epoch 4/100\n",
            "1700/1707 [============================>.] - ETA: 0s - loss: 0.1377 - accuracy: 0.9699\n",
            "Epoch 4: val_loss did not improve from 0.04941\n",
            "1707/1707 [==============================] - 10s 6ms/step - loss: 0.1373 - accuracy: 0.9700 - val_loss: 0.0510 - val_accuracy: 0.9842 - lr: 0.0010\n",
            "Epoch 5/100\n",
            "1697/1707 [============================>.] - ETA: 0s - loss: 0.1375 - accuracy: 0.9721\n",
            "Epoch 5: val_loss did not improve from 0.04941\n",
            "\n",
            "Epoch 5: ReduceLROnPlateau reducing learning rate to 0.00020000000949949026.\n",
            "1707/1707 [==============================] - 11s 6ms/step - loss: 0.1383 - accuracy: 0.9719 - val_loss: 0.0628 - val_accuracy: 0.9779 - lr: 0.0010\n",
            "Epoch 6/100\n",
            "1703/1707 [============================>.] - ETA: 0s - loss: 0.0307 - accuracy: 0.9935\n",
            "Epoch 6: val_loss improved from 0.04941 to 0.02011, saving model to /content/trained_model/full_base_CNN.hd5\n"
          ]
        },
        {
          "output_type": "stream",
          "name": "stderr",
          "text": [
            "WARNING:absl:Found untraced functions such as leaky_re_lu_layer_call_fn, leaky_re_lu_layer_call_and_return_conditional_losses, leaky_re_lu_1_layer_call_fn, leaky_re_lu_1_layer_call_and_return_conditional_losses, leaky_re_lu_2_layer_call_fn while saving (showing 5 of 10). These functions will not be directly callable after loading.\n"
          ]
        },
        {
          "output_type": "stream",
          "name": "stdout",
          "text": [
            "INFO:tensorflow:Assets written to: /content/trained_model/full_base_CNN.hd5/assets\n"
          ]
        },
        {
          "output_type": "stream",
          "name": "stderr",
          "text": [
            "INFO:tensorflow:Assets written to: /content/trained_model/full_base_CNN.hd5/assets\n"
          ]
        },
        {
          "output_type": "stream",
          "name": "stdout",
          "text": [
            "\b\b\b\b\b\b\b\b\b\b\b\b\b\b\b\b\b\b\b\b\b\b\b\b\b\b\b\b\b\b\b\b\b\b\b\b\b\b\b\b\b\b\b\b\b\b\b\b\b\b\b\b\b\b\b\b\b\b\b\b\b\b\b\b\b\b\b\b\b\b\b\b\b\b\b\b\b\b\b\b\b\b\b\b\b\b\r1707/1707 [==============================] - 11s 7ms/step - loss: 0.0307 - accuracy: 0.9935 - val_loss: 0.0201 - val_accuracy: 0.9928 - lr: 2.0000e-04\n",
            "Epoch 7/100\n",
            "1702/1707 [============================>.] - ETA: 0s - loss: 0.0148 - accuracy: 0.9967\n",
            "Epoch 7: val_loss improved from 0.02011 to 0.01626, saving model to /content/trained_model/full_base_CNN.hd5\n"
          ]
        },
        {
          "output_type": "stream",
          "name": "stderr",
          "text": [
            "WARNING:absl:Found untraced functions such as leaky_re_lu_layer_call_fn, leaky_re_lu_layer_call_and_return_conditional_losses, leaky_re_lu_1_layer_call_fn, leaky_re_lu_1_layer_call_and_return_conditional_losses, leaky_re_lu_2_layer_call_fn while saving (showing 5 of 10). These functions will not be directly callable after loading.\n"
          ]
        },
        {
          "output_type": "stream",
          "name": "stdout",
          "text": [
            "INFO:tensorflow:Assets written to: /content/trained_model/full_base_CNN.hd5/assets\n"
          ]
        },
        {
          "output_type": "stream",
          "name": "stderr",
          "text": [
            "INFO:tensorflow:Assets written to: /content/trained_model/full_base_CNN.hd5/assets\n"
          ]
        },
        {
          "output_type": "stream",
          "name": "stdout",
          "text": [
            "\b\b\b\b\b\b\b\b\b\b\b\b\b\b\b\b\b\b\b\b\b\b\b\b\b\b\b\b\b\b\b\b\b\b\b\b\b\b\b\b\b\b\b\b\b\b\b\b\b\b\b\b\b\b\b\b\b\b\b\b\b\b\b\b\b\b\b\b\b\b\b\b\b\b\b\b\b\b\b\b\b\b\b\b\b\b\r1707/1707 [==============================] - 11s 7ms/step - loss: 0.0148 - accuracy: 0.9967 - val_loss: 0.0163 - val_accuracy: 0.9949 - lr: 2.0000e-04\n",
            "Epoch 8/100\n",
            "1702/1707 [============================>.] - ETA: 0s - loss: 0.0101 - accuracy: 0.9979\n",
            "Epoch 8: val_loss did not improve from 0.01626\n",
            "1707/1707 [==============================] - 10s 6ms/step - loss: 0.0101 - accuracy: 0.9978 - val_loss: 0.0385 - val_accuracy: 0.9902 - lr: 2.0000e-04\n",
            "Epoch 9/100\n",
            "1707/1707 [==============================] - ETA: 0s - loss: 0.0119 - accuracy: 0.9973\n",
            "Epoch 9: val_loss did not improve from 0.01626\n",
            "1707/1707 [==============================] - 10s 6ms/step - loss: 0.0119 - accuracy: 0.9973 - val_loss: 0.0362 - val_accuracy: 0.9863 - lr: 2.0000e-04\n",
            "Epoch 10/100\n",
            "1702/1707 [============================>.] - ETA: 0s - loss: 0.0100 - accuracy: 0.9982\n",
            "Epoch 10: val_loss did not improve from 0.01626\n",
            "\n",
            "Epoch 10: ReduceLROnPlateau reducing learning rate to 4.0000001899898055e-05.\n",
            "1707/1707 [==============================] - 10s 6ms/step - loss: 0.0100 - accuracy: 0.9982 - val_loss: 0.0177 - val_accuracy: 0.9962 - lr: 2.0000e-04\n",
            "Epoch 11/100\n",
            "1707/1707 [==============================] - ETA: 0s - loss: 0.0032 - accuracy: 0.9993\n",
            "Epoch 11: val_loss improved from 0.01626 to 0.01278, saving model to /content/trained_model/full_base_CNN.hd5\n"
          ]
        },
        {
          "output_type": "stream",
          "name": "stderr",
          "text": [
            "WARNING:absl:Found untraced functions such as leaky_re_lu_layer_call_fn, leaky_re_lu_layer_call_and_return_conditional_losses, leaky_re_lu_1_layer_call_fn, leaky_re_lu_1_layer_call_and_return_conditional_losses, leaky_re_lu_2_layer_call_fn while saving (showing 5 of 10). These functions will not be directly callable after loading.\n"
          ]
        },
        {
          "output_type": "stream",
          "name": "stdout",
          "text": [
            "INFO:tensorflow:Assets written to: /content/trained_model/full_base_CNN.hd5/assets\n"
          ]
        },
        {
          "output_type": "stream",
          "name": "stderr",
          "text": [
            "INFO:tensorflow:Assets written to: /content/trained_model/full_base_CNN.hd5/assets\n"
          ]
        },
        {
          "output_type": "stream",
          "name": "stdout",
          "text": [
            "\b\b\b\b\b\b\b\b\b\b\b\b\b\b\b\b\b\b\b\b\b\b\b\b\b\b\b\b\b\b\b\b\b\b\b\b\b\b\b\b\b\b\b\b\b\b\b\b\b\b\b\b\b\b\b\b\b\b\b\b\b\b\b\b\b\b\b\b\b\b\b\b\b\b\b\b\b\b\b\b\b\b\b\b\b\b\r1707/1707 [==============================] - 12s 7ms/step - loss: 0.0032 - accuracy: 0.9993 - val_loss: 0.0128 - val_accuracy: 0.9971 - lr: 4.0000e-05\n",
            "Epoch 12/100\n",
            "1701/1707 [============================>.] - ETA: 0s - loss: 0.0032 - accuracy: 0.9995\n",
            "Epoch 12: val_loss improved from 0.01278 to 0.01125, saving model to /content/trained_model/full_base_CNN.hd5\n"
          ]
        },
        {
          "output_type": "stream",
          "name": "stderr",
          "text": [
            "WARNING:absl:Found untraced functions such as leaky_re_lu_layer_call_fn, leaky_re_lu_layer_call_and_return_conditional_losses, leaky_re_lu_1_layer_call_fn, leaky_re_lu_1_layer_call_and_return_conditional_losses, leaky_re_lu_2_layer_call_fn while saving (showing 5 of 10). These functions will not be directly callable after loading.\n"
          ]
        },
        {
          "output_type": "stream",
          "name": "stdout",
          "text": [
            "INFO:tensorflow:Assets written to: /content/trained_model/full_base_CNN.hd5/assets\n"
          ]
        },
        {
          "output_type": "stream",
          "name": "stderr",
          "text": [
            "INFO:tensorflow:Assets written to: /content/trained_model/full_base_CNN.hd5/assets\n"
          ]
        },
        {
          "output_type": "stream",
          "name": "stdout",
          "text": [
            "\b\b\b\b\b\b\b\b\b\b\b\b\b\b\b\b\b\b\b\b\b\b\b\b\b\b\b\b\b\b\b\b\b\b\b\b\b\b\b\b\b\b\b\b\b\b\b\b\b\b\b\b\b\b\b\b\b\b\b\b\b\b\b\b\b\b\b\b\b\b\b\b\b\b\b\b\b\b\b\b\b\b\b\b\b\b\r1707/1707 [==============================] - 12s 7ms/step - loss: 0.0032 - accuracy: 0.9995 - val_loss: 0.0113 - val_accuracy: 0.9974 - lr: 4.0000e-05\n",
            "Epoch 13/100\n",
            "1706/1707 [============================>.] - ETA: 0s - loss: 0.0012 - accuracy: 0.9998\n",
            "Epoch 13: val_loss did not improve from 0.01125\n",
            "1707/1707 [==============================] - 10s 6ms/step - loss: 0.0012 - accuracy: 0.9998 - val_loss: 0.0129 - val_accuracy: 0.9976 - lr: 4.0000e-05\n",
            "Epoch 14/100\n",
            "1697/1707 [============================>.] - ETA: 0s - loss: 0.0017 - accuracy: 0.9997\n",
            "Epoch 14: val_loss did not improve from 0.01125\n",
            "1707/1707 [==============================] - 10s 6ms/step - loss: 0.0017 - accuracy: 0.9997 - val_loss: 0.0131 - val_accuracy: 0.9962 - lr: 4.0000e-05\n",
            "Epoch 15/100\n",
            "1699/1707 [============================>.] - ETA: 0s - loss: 0.0010 - accuracy: 0.9998\n",
            "Epoch 15: val_loss did not improve from 0.01125\n",
            "\n",
            "Epoch 15: ReduceLROnPlateau reducing learning rate to 8.000000525498762e-06.\n",
            "1707/1707 [==============================] - 10s 6ms/step - loss: 0.0010 - accuracy: 0.9998 - val_loss: 0.0114 - val_accuracy: 0.9979 - lr: 4.0000e-05\n",
            "Epoch 16/100\n",
            "1704/1707 [============================>.] - ETA: 0s - loss: 6.9402e-04 - accuracy: 0.9999\n",
            "Epoch 16: val_loss did not improve from 0.01125\n",
            "1707/1707 [==============================] - 10s 6ms/step - loss: 6.9294e-04 - accuracy: 0.9999 - val_loss: 0.0121 - val_accuracy: 0.9978 - lr: 8.0000e-06\n",
            "Epoch 17/100\n",
            "1699/1707 [============================>.] - ETA: 0s - loss: 0.0011 - accuracy: 0.9999\n",
            "Epoch 17: val_loss did not improve from 0.01125\n",
            "1707/1707 [==============================] - 10s 6ms/step - loss: 0.0011 - accuracy: 0.9999 - val_loss: 0.0115 - val_accuracy: 0.9981 - lr: 8.0000e-06\n",
            "Epoch 18/100\n",
            "1698/1707 [============================>.] - ETA: 0s - loss: 9.5423e-04 - accuracy: 0.9999\n",
            "Epoch 18: val_loss improved from 0.01125 to 0.01071, saving model to /content/trained_model/full_base_CNN.hd5\n"
          ]
        },
        {
          "output_type": "stream",
          "name": "stderr",
          "text": [
            "WARNING:absl:Found untraced functions such as leaky_re_lu_layer_call_fn, leaky_re_lu_layer_call_and_return_conditional_losses, leaky_re_lu_1_layer_call_fn, leaky_re_lu_1_layer_call_and_return_conditional_losses, leaky_re_lu_2_layer_call_fn while saving (showing 5 of 10). These functions will not be directly callable after loading.\n"
          ]
        },
        {
          "output_type": "stream",
          "name": "stdout",
          "text": [
            "INFO:tensorflow:Assets written to: /content/trained_model/full_base_CNN.hd5/assets\n"
          ]
        },
        {
          "output_type": "stream",
          "name": "stderr",
          "text": [
            "INFO:tensorflow:Assets written to: /content/trained_model/full_base_CNN.hd5/assets\n"
          ]
        },
        {
          "output_type": "stream",
          "name": "stdout",
          "text": [
            "\b\b\b\b\b\b\b\b\b\b\b\b\b\b\b\b\b\b\b\b\b\b\b\b\b\b\b\b\b\b\b\b\b\b\b\b\b\b\b\b\b\b\b\b\b\b\b\b\b\b\b\b\b\b\b\b\b\b\b\b\b\b\b\b\b\b\b\b\b\b\b\b\b\b\b\b\b\b\b\b\b\b\b\b\b\b\b\b\b\b\r1707/1707 [==============================] - 11s 7ms/step - loss: 0.0011 - accuracy: 0.9999 - val_loss: 0.0107 - val_accuracy: 0.9983 - lr: 8.0000e-06\n",
            "Epoch 19/100\n",
            "1700/1707 [============================>.] - ETA: 0s - loss: 0.0015 - accuracy: 0.9997\n",
            "Epoch 19: val_loss improved from 0.01071 to 0.01029, saving model to /content/trained_model/full_base_CNN.hd5\n"
          ]
        },
        {
          "output_type": "stream",
          "name": "stderr",
          "text": [
            "WARNING:absl:Found untraced functions such as leaky_re_lu_layer_call_fn, leaky_re_lu_layer_call_and_return_conditional_losses, leaky_re_lu_1_layer_call_fn, leaky_re_lu_1_layer_call_and_return_conditional_losses, leaky_re_lu_2_layer_call_fn while saving (showing 5 of 10). These functions will not be directly callable after loading.\n"
          ]
        },
        {
          "output_type": "stream",
          "name": "stdout",
          "text": [
            "INFO:tensorflow:Assets written to: /content/trained_model/full_base_CNN.hd5/assets\n"
          ]
        },
        {
          "output_type": "stream",
          "name": "stderr",
          "text": [
            "INFO:tensorflow:Assets written to: /content/trained_model/full_base_CNN.hd5/assets\n"
          ]
        },
        {
          "output_type": "stream",
          "name": "stdout",
          "text": [
            "\b\b\b\b\b\b\b\b\b\b\b\b\b\b\b\b\b\b\b\b\b\b\b\b\b\b\b\b\b\b\b\b\b\b\b\b\b\b\b\b\b\b\b\b\b\b\b\b\b\b\b\b\b\b\b\b\b\b\b\b\b\b\b\b\b\b\b\b\b\b\b\b\b\b\b\b\b\b\b\b\b\b\b\b\b\b\r1707/1707 [==============================] - 11s 6ms/step - loss: 0.0015 - accuracy: 0.9997 - val_loss: 0.0103 - val_accuracy: 0.9983 - lr: 8.0000e-06\n",
            "Epoch 20/100\n",
            "1702/1707 [============================>.] - ETA: 0s - loss: 0.0027 - accuracy: 0.9997\n",
            "Epoch 20: val_loss did not improve from 0.01029\n",
            "1707/1707 [==============================] - 10s 6ms/step - loss: 0.0027 - accuracy: 0.9997 - val_loss: 0.0105 - val_accuracy: 0.9981 - lr: 8.0000e-06\n",
            "Epoch 21/100\n",
            "1700/1707 [============================>.] - ETA: 0s - loss: 6.1980e-04 - accuracy: 0.9999\n",
            "Epoch 21: val_loss did not improve from 0.01029\n",
            "1707/1707 [==============================] - 10s 6ms/step - loss: 6.1745e-04 - accuracy: 0.9999 - val_loss: 0.0109 - val_accuracy: 0.9981 - lr: 8.0000e-06\n",
            "Epoch 22/100\n",
            "1701/1707 [============================>.] - ETA: 0s - loss: 6.4610e-04 - accuracy: 0.9999\n",
            "Epoch 22: val_loss did not improve from 0.01029\n",
            "\n",
            "Epoch 22: ReduceLROnPlateau reducing learning rate to 1.6000001778593287e-06.\n",
            "1707/1707 [==============================] - 10s 6ms/step - loss: 6.4450e-04 - accuracy: 0.9999 - val_loss: 0.0104 - val_accuracy: 0.9979 - lr: 8.0000e-06\n",
            "Epoch 23/100\n",
            "1703/1707 [============================>.] - ETA: 0s - loss: 6.1616e-04 - accuracy: 0.9999\n",
            "Epoch 23: val_loss did not improve from 0.01029\n",
            "1707/1707 [==============================] - 10s 6ms/step - loss: 6.1483e-04 - accuracy: 0.9999 - val_loss: 0.0106 - val_accuracy: 0.9979 - lr: 1.6000e-06\n",
            "Epoch 24/100\n",
            "1702/1707 [============================>.] - ETA: 0s - loss: 6.6359e-04 - accuracy: 0.9999\n",
            "Epoch 24: val_loss did not improve from 0.01029\n",
            "1707/1707 [==============================] - 10s 6ms/step - loss: 6.6183e-04 - accuracy: 0.9999 - val_loss: 0.0108 - val_accuracy: 0.9981 - lr: 1.6000e-06\n",
            "Epoch 25/100\n",
            "1702/1707 [============================>.] - ETA: 0s - loss: 6.3686e-04 - accuracy: 0.9998\n",
            "Epoch 25: val_loss did not improve from 0.01029\n",
            "\n",
            "Epoch 25: ReduceLROnPlateau reducing learning rate to 3.200000264769187e-07.\n",
            "1707/1707 [==============================] - 10s 6ms/step - loss: 6.3525e-04 - accuracy: 0.9998 - val_loss: 0.0111 - val_accuracy: 0.9979 - lr: 1.6000e-06\n",
            "Epoch 26/100\n",
            "1706/1707 [============================>.] - ETA: 0s - loss: 7.5373e-04 - accuracy: 0.9998\n",
            "Epoch 26: val_loss did not improve from 0.01029\n",
            "1707/1707 [==============================] - 10s 6ms/step - loss: 7.5328e-04 - accuracy: 0.9998 - val_loss: 0.0110 - val_accuracy: 0.9981 - lr: 3.2000e-07\n",
            "Epoch 27/100\n",
            "1699/1707 [============================>.] - ETA: 0s - loss: 7.1278e-04 - accuracy: 0.9999\n",
            "Epoch 27: val_loss did not improve from 0.01029\n",
            "Restoring model weights from the end of the best epoch: 19.\n",
            "1707/1707 [==============================] - 10s 6ms/step - loss: 7.0954e-04 - accuracy: 0.9999 - val_loss: 0.0109 - val_accuracy: 0.9981 - lr: 3.2000e-07\n",
            "Epoch 27: early stopping\n"
          ]
        }
      ]
    },
    {
      "cell_type": "code",
      "source": [
        "plt.plot(history.history['accuracy'])\n",
        "plt.plot(history.history['val_accuracy'])\n",
        "plt.title('Model accuracy')\n",
        "plt.ylabel('Accuracy')\n",
        "plt.xlabel('Epoch')\n",
        "plt.legend(['Train', 'Validation'], loc='upper right')\n",
        "plt.show()"
      ],
      "metadata": {
        "colab": {
          "base_uri": "https://localhost:8080/",
          "height": 295
        },
        "id": "kWXOx9UextJJ",
        "outputId": "beb51a93-5b0b-403d-ab1d-a737cb2069d1"
      },
      "execution_count": null,
      "outputs": [
        {
          "output_type": "display_data",
          "data": {
            "text/plain": [
              "<Figure size 432x288 with 1 Axes>"
            ],
            "image/png": "[encoded data removed]"
          },
          "metadata": {
            "needs_background": "light"
          }
        }
      ]
    },
    {
      "cell_type": "code",
      "source": [
        "plt.plot(history.history['loss'])\n",
        "plt.plot(history.history['val_loss'])\n",
        "plt.title('Model loss')\n",
        "plt.ylabel('Loss')\n",
        "plt.xlabel('Epoch')\n",
        "plt.legend(['Train', 'Validation'], loc='upper right')\n",
        "plt.show()"
      ],
      "metadata": {
        "colab": {
          "base_uri": "https://localhost:8080/",
          "height": 295
        },
        "id": "dlQirxPZylao",
        "outputId": "e7980016-e37f-4fef-e76a-3968e08fb8d4"
      },
      "execution_count": null,
      "outputs": [
        {
          "output_type": "display_data",
          "data": {
            "text/plain": [
              "<Figure size 432x288 with 1 Axes>"
            ],
            "image/png": "[encoded data removed]"
          },
          "metadata": {
            "needs_background": "light"
          }
        }
      ]
    },
    {
      "cell_type": "code",
      "source": [
        "class_names=[\"Normal\",\"HMA\",\"IBF\",\"OHBF\",\"UHBF\",\"VMA\"]"
      ],
      "metadata": {
        "id": "slcNnULB_Aqo"
      },
      "execution_count": null,
      "outputs": []
    },
    {
      "cell_type": "code",
      "source": [
        "y_pred_probs=model.predict(X_test)\n",
        "y_true= np.argmax(y_test,axis=1)"
      ],
      "metadata": {
        "id": "r0obD7HSBTMU"
      },
      "execution_count": null,
      "outputs": []
    },
    {
      "cell_type": "code",
      "source": [
        "y_pred=np.argmax(y_pred_probs,axis=1)"
      ],
      "metadata": {
        "id": "4Qt9BUFQBXW_"
      },
      "execution_count": null,
      "outputs": []
    },
    {
      "cell_type": "code",
      "source": [
        "make_confusion_matrix(y_true,y_pred,classes=class_names,figsize=(25,20))"
      ],
      "metadata": {
        "colab": {
          "base_uri": "https://localhost:8080/",
          "height": 797
        },
        "id": "Af9Zse7rBXSs",
        "outputId": "b7c1d7cc-73d0-45f9-ad50-9e332d1c1883"
      },
      "execution_count": null,
      "outputs": [
        {
          "output_type": "display_data",
          "data": {
            "text/plain": [
              "<Figure size 1800x1440 with 2 Axes>"
            ],
            "image/png": "[encoded data removed]"
          },
          "metadata": {
            "needs_background": "light"
          }
        }
      ]
    },
    {
      "cell_type": "code",
      "source": [
        "print(classification_report(y_true,y_pred,target_names=class_names))"
      ],
      "metadata": {
        "colab": {
          "base_uri": "https://localhost:8080/"
        },
        "id": "RQ4suF-pBXOw",
        "outputId": "d2e0dd66-ce70-431d-b4f5-fba3bb50327a"
      },
      "execution_count": null,
      "outputs": [
        {
          "output_type": "stream",
          "name": "stdout",
          "text": [
            "              precision    recall  f1-score   support\n",
            "\n",
            "      Normal       0.99      0.96      0.98       147\n",
            "         HMA       0.99      1.00      0.99       591\n",
            "         IBF       1.00      1.00      1.00       999\n",
            "        OHBF       1.00      1.00      1.00      1539\n",
            "        UHBF       1.00      1.00      1.00      1675\n",
            "         VMA       1.00      1.00      1.00       903\n",
            "\n",
            "    accuracy                           1.00      5854\n",
            "   macro avg       1.00      0.99      0.99      5854\n",
            "weighted avg       1.00      1.00      1.00      5854\n",
            "\n"
          ]
        }
      ]
    },
    {
      "cell_type": "code",
      "source": [
        "model.evaluate(X_test,y_test)"
      ],
      "metadata": {
        "colab": {
          "base_uri": "https://localhost:8080/"
        },
        "id": "xXIrI0EqBXL9",
        "outputId": "3ed238fb-2e46-489e-c476-532b690c5b65"
      },
      "execution_count": null,
      "outputs": [
        {
          "output_type": "stream",
          "name": "stdout",
          "text": [
            "183/183 [==============================] - 1s 5ms/step - loss: 0.0081 - accuracy: 0.9983\n"
          ]
        },
        {
          "output_type": "execute_result",
          "data": {
            "text/plain": [
              "[0.0081194918602705, 0.9982917904853821]"
            ]
          },
          "metadata": {},
          "execution_count": 27
        }
      ]
    },
    {
      "cell_type": "code",
      "source": [
        "!zip -r /content/drive/MyDrive/FYP_FINAL/FINAL/full_cnn_trained_model_apr.zip /content/trained_model"
      ],
      "metadata": {
        "colab": {
          "base_uri": "https://localhost:8080/"
        },
        "id": "R0LB5fSsBXJB",
        "outputId": "63771495-b8c9-41e5-c03e-1d7514ebf41f"
      },
      "execution_count": null,
      "outputs": [
        {
          "output_type": "stream",
          "name": "stdout",
          "text": [
            "updating: content/trained_model/ (stored 0%)\n",
            "  adding: content/trained_model/full_base_CNN.hd5/ (stored 0%)\n",
            "  adding: content/trained_model/full_base_CNN.hd5/variables/ (stored 0%)\n",
            "  adding: content/trained_model/full_base_CNN.hd5/variables/variables.index (deflated 67%)\n",
            "  adding: content/trained_model/full_base_CNN.hd5/variables/variables.data-00000-of-00001 (deflated 7%)\n",
            "  adding: content/trained_model/full_base_CNN.hd5/assets/ (stored 0%)\n",
            "  adding: content/trained_model/full_base_CNN.hd5/keras_metadata.pb (deflated 92%)\n",
            "  adding: content/trained_model/full_base_CNN.hd5/saved_model.pb (deflated 89%)\n"
          ]
        }
      ]
    },
    {
      "cell_type": "code",
      "source": [
        ""
      ],
      "metadata": {
        "id": "TVgS7ThTBWub"
      },
      "execution_count": null,
      "outputs": []
    }
  ]
}