{
 "metadata": {
  "language_info": {
   "codemirror_mode": {
    "name": "ipython",
    "version": 3
   },
   "file_extension": ".py",
   "mimetype": "text/x-python",
   "name": "python",
   "nbconvert_exporter": "python",
   "pygments_lexer": "ipython3",
   "version": "3.8.10"
  },
  "orig_nbformat": 4,
  "kernelspec": {
   "name": "python3",
   "display_name": "Python 3.8.10 64-bit ('base': conda)"
  },
  "interpreter": {
   "hash": "ff480e63e399c2b314f59e3833d4af68f8e77545aea2a09ff77ee9a3718da042"
  }
 },
 "nbformat": 4,
 "nbformat_minor": 2,
 "cells": [
  {
   "source": [
    "Obective : To build a product recommender system for an ecommerce website\n",
    "\n",
    "Data source : https://www.kaggle.com/carrie1/ecommerce-data/activity"
   ],
   "cell_type": "markdown",
   "metadata": {}
  },
  {
   "cell_type": "code",
   "execution_count": 1,
   "metadata": {},
   "outputs": [],
   "source": [
    "import pandas as pd\n",
    "import numpy as np\n",
    "import matplotlib.pyplot as plt\n",
    "\n",
    "import random\n",
    "\n",
    "from sklearn.metrics.pairwise import cosine_similarity\n",
    "\n",
    "# import tensorflow as tf"
   ]
  },
  {
   "cell_type": "code",
   "execution_count": 2,
   "metadata": {},
   "outputs": [],
   "source": [
    "df=pd.read_csv(\"/home/noname797/Work/ML_projects/Case_study/Datasets/recommender.csv\")"
   ]
  },
  {
   "cell_type": "code",
   "execution_count": 3,
   "metadata": {},
   "outputs": [
    {
     "output_type": "execute_result",
     "data": {
      "text/plain": [
       "  InvoiceNo StockCode                          Description  Quantity  \\\n",
       "0    536365    85123A   WHITE HANGING HEART T-LIGHT HOLDER         6   \n",
       "1    536365     71053                  WHITE METAL LANTERN         6   \n",
       "2    536365    84406B       CREAM CUPID HEARTS COAT HANGER         8   \n",
       "3    536365    84029G  KNITTED UNION FLAG HOT WATER BOTTLE         6   \n",
       "4    536365    84029E       RED WOOLLY HOTTIE WHITE HEART.         6   \n",
       "\n",
       "      InvoiceDate  UnitPrice  CustomerID         Country  \n",
       "0  12/1/2010 8:26       2.55     17850.0  United Kingdom  \n",
       "1  12/1/2010 8:26       3.39     17850.0  United Kingdom  \n",
       "2  12/1/2010 8:26       2.75     17850.0  United Kingdom  \n",
       "3  12/1/2010 8:26       3.39     17850.0  United Kingdom  \n",
       "4  12/1/2010 8:26       3.39     17850.0  United Kingdom  "
      ],
      "text/html": "<div>\n<style scoped>\n    .dataframe tbody tr th:only-of-type {\n        vertical-align: middle;\n    }\n\n    .dataframe tbody tr th {\n        vertical-align: top;\n    }\n\n    .dataframe thead th {\n        text-align: right;\n    }\n</style>\n<table border=\"1\" class=\"dataframe\">\n  <thead>\n    <tr style=\"text-align: right;\">\n      <th></th>\n      <th>InvoiceNo</th>\n      <th>StockCode</th>\n      <th>Description</th>\n      <th>Quantity</th>\n      <th>InvoiceDate</th>\n      <th>UnitPrice</th>\n      <th>CustomerID</th>\n      <th>Country</th>\n    </tr>\n  </thead>\n  <tbody>\n    <tr>\n      <th>0</th>\n      <td>536365</td>\n      <td>85123A</td>\n      <td>WHITE HANGING HEART T-LIGHT HOLDER</td>\n      <td>6</td>\n      <td>12/1/2010 8:26</td>\n      <td>2.55</td>\n      <td>17850.0</td>\n      <td>United Kingdom</td>\n    </tr>\n    <tr>\n      <th>1</th>\n      <td>536365</td>\n      <td>71053</td>\n      <td>WHITE METAL LANTERN</td>\n      <td>6</td>\n      <td>12/1/2010 8:26</td>\n      <td>3.39</td>\n      <td>17850.0</td>\n      <td>United Kingdom</td>\n    </tr>\n    <tr>\n      <th>2</th>\n      <td>536365</td>\n      <td>84406B</td>\n      <td>CREAM CUPID HEARTS COAT HANGER</td>\n      <td>8</td>\n      <td>12/1/2010 8:26</td>\n      <td>2.75</td>\n      <td>17850.0</td>\n      <td>United Kingdom</td>\n    </tr>\n    <tr>\n      <th>3</th>\n      <td>536365</td>\n      <td>84029G</td>\n      <td>KNITTED UNION FLAG HOT WATER BOTTLE</td>\n      <td>6</td>\n      <td>12/1/2010 8:26</td>\n      <td>3.39</td>\n      <td>17850.0</td>\n      <td>United Kingdom</td>\n    </tr>\n    <tr>\n      <th>4</th>\n      <td>536365</td>\n      <td>84029E</td>\n      <td>RED WOOLLY HOTTIE WHITE HEART.</td>\n      <td>6</td>\n      <td>12/1/2010 8:26</td>\n      <td>3.39</td>\n      <td>17850.0</td>\n      <td>United Kingdom</td>\n    </tr>\n  </tbody>\n</table>\n</div>"
     },
     "metadata": {},
     "execution_count": 3
    }
   ],
   "source": [
    "df.head()"
   ]
  },
  {
   "cell_type": "code",
   "execution_count": 4,
   "metadata": {},
   "outputs": [
    {
     "output_type": "stream",
     "name": "stdout",
     "text": [
      "df shape :  (541909, 8)\n",
      "Missing values :  136534\n"
     ]
    }
   ],
   "source": [
    "print(\"df shape : \",df.shape)\n",
    "print(\"Missing values : \" ,df.isnull().sum().values.sum())"
   ]
  },
  {
   "cell_type": "code",
   "execution_count": 5,
   "metadata": {},
   "outputs": [
    {
     "output_type": "execute_result",
     "data": {
      "text/plain": [
       "            Quantity      UnitPrice     CustomerID\n",
       "count  541909.000000  541909.000000  406829.000000\n",
       "mean        9.552250       4.611114   15287.690570\n",
       "std       218.081158      96.759853    1713.600303\n",
       "min    -80995.000000  -11062.060000   12346.000000\n",
       "25%         1.000000       1.250000   13953.000000\n",
       "50%         3.000000       2.080000   15152.000000\n",
       "75%        10.000000       4.130000   16791.000000\n",
       "max     80995.000000   38970.000000   18287.000000"
      ],
      "text/html": "<div>\n<style scoped>\n    .dataframe tbody tr th:only-of-type {\n        vertical-align: middle;\n    }\n\n    .dataframe tbody tr th {\n        vertical-align: top;\n    }\n\n    .dataframe thead th {\n        text-align: right;\n    }\n</style>\n<table border=\"1\" class=\"dataframe\">\n  <thead>\n    <tr style=\"text-align: right;\">\n      <th></th>\n      <th>Quantity</th>\n      <th>UnitPrice</th>\n      <th>CustomerID</th>\n    </tr>\n  </thead>\n  <tbody>\n    <tr>\n      <th>count</th>\n      <td>541909.000000</td>\n      <td>541909.000000</td>\n      <td>406829.000000</td>\n    </tr>\n    <tr>\n      <th>mean</th>\n      <td>9.552250</td>\n      <td>4.611114</td>\n      <td>15287.690570</td>\n    </tr>\n    <tr>\n      <th>std</th>\n      <td>218.081158</td>\n      <td>96.759853</td>\n      <td>1713.600303</td>\n    </tr>\n    <tr>\n      <th>min</th>\n      <td>-80995.000000</td>\n      <td>-11062.060000</td>\n      <td>12346.000000</td>\n    </tr>\n    <tr>\n      <th>25%</th>\n      <td>1.000000</td>\n      <td>1.250000</td>\n      <td>13953.000000</td>\n    </tr>\n    <tr>\n      <th>50%</th>\n      <td>3.000000</td>\n      <td>2.080000</td>\n      <td>15152.000000</td>\n    </tr>\n    <tr>\n      <th>75%</th>\n      <td>10.000000</td>\n      <td>4.130000</td>\n      <td>16791.000000</td>\n    </tr>\n    <tr>\n      <th>max</th>\n      <td>80995.000000</td>\n      <td>38970.000000</td>\n      <td>18287.000000</td>\n    </tr>\n  </tbody>\n</table>\n</div>"
     },
     "metadata": {},
     "execution_count": 5
    }
   ],
   "source": [
    "df.describe()\n"
   ]
  },
  {
   "cell_type": "code",
   "execution_count": 6,
   "metadata": {},
   "outputs": [],
   "source": [
    "df=df.loc[df[\"Quantity\"]>0]\n",
    "df=df.loc[df[\"UnitPrice\"]>0]"
   ]
  },
  {
   "cell_type": "code",
   "execution_count": 7,
   "metadata": {},
   "outputs": [
    {
     "output_type": "execute_result",
     "data": {
      "text/plain": [
       "InvoiceNo           0\n",
       "StockCode           0\n",
       "Description         0\n",
       "Quantity            0\n",
       "InvoiceDate         0\n",
       "UnitPrice           0\n",
       "CustomerID     132220\n",
       "Country             0\n",
       "dtype: int64"
      ]
     },
     "metadata": {},
     "execution_count": 7
    }
   ],
   "source": [
    "df.isnull().sum()"
   ]
  },
  {
   "cell_type": "code",
   "execution_count": 8,
   "metadata": {},
   "outputs": [],
   "source": [
    "df=df.dropna(subset=[\"CustomerID\"])"
   ]
  },
  {
   "cell_type": "code",
   "execution_count": 9,
   "metadata": {},
   "outputs": [
    {
     "output_type": "execute_result",
     "data": {
      "text/plain": [
       "(397884, 8)"
      ]
     },
     "metadata": {},
     "execution_count": 9
    }
   ],
   "source": [
    "df.shape"
   ]
  },
  {
   "cell_type": "code",
   "execution_count": 10,
   "metadata": {},
   "outputs": [
    {
     "output_type": "execute_result",
     "data": {
      "text/plain": [
       "InvoiceNo      0\n",
       "StockCode      0\n",
       "Description    0\n",
       "Quantity       0\n",
       "InvoiceDate    0\n",
       "UnitPrice      0\n",
       "CustomerID     0\n",
       "Country        0\n",
       "dtype: int64"
      ]
     },
     "metadata": {},
     "execution_count": 10
    }
   ],
   "source": [
    "df.isnull().sum()"
   ]
  },
  {
   "cell_type": "code",
   "execution_count": 11,
   "metadata": {},
   "outputs": [
    {
     "output_type": "execute_result",
     "data": {
      "text/plain": [
       "StockCode   10002  10080  10120  10123C  10124A  10124G  10125  10133  10135  \\\n",
       "CustomerID                                                                     \n",
       "12346.0       NaN    NaN    NaN     NaN     NaN     NaN    NaN    NaN    NaN   \n",
       "12347.0       NaN    NaN    NaN     NaN     NaN     NaN    NaN    NaN    NaN   \n",
       "12348.0       NaN    NaN    NaN     NaN     NaN     NaN    NaN    NaN    NaN   \n",
       "12349.0       NaN    NaN    NaN     NaN     NaN     NaN    NaN    NaN    NaN   \n",
       "12350.0       NaN    NaN    NaN     NaN     NaN     NaN    NaN    NaN    NaN   \n",
       "\n",
       "StockCode   11001  ...  90214V  90214W  90214Y  90214Z  BANK CHARGES  C2  DOT  \\\n",
       "CustomerID         ...                                                          \n",
       "12346.0       NaN  ...     NaN     NaN     NaN     NaN           NaN NaN  NaN   \n",
       "12347.0       NaN  ...     NaN     NaN     NaN     NaN           NaN NaN  NaN   \n",
       "12348.0       NaN  ...     NaN     NaN     NaN     NaN           NaN NaN  NaN   \n",
       "12349.0       NaN  ...     NaN     NaN     NaN     NaN           NaN NaN  NaN   \n",
       "12350.0       NaN  ...     NaN     NaN     NaN     NaN           NaN NaN  NaN   \n",
       "\n",
       "StockCode    M  PADS  POST  \n",
       "CustomerID                  \n",
       "12346.0    NaN   NaN   NaN  \n",
       "12347.0    NaN   NaN   NaN  \n",
       "12348.0    NaN   NaN   9.0  \n",
       "12349.0    NaN   NaN   1.0  \n",
       "12350.0    NaN   NaN   1.0  \n",
       "\n",
       "[5 rows x 3665 columns]"
      ],
      "text/html": "<div>\n<style scoped>\n    .dataframe tbody tr th:only-of-type {\n        vertical-align: middle;\n    }\n\n    .dataframe tbody tr th {\n        vertical-align: top;\n    }\n\n    .dataframe thead th {\n        text-align: right;\n    }\n</style>\n<table border=\"1\" class=\"dataframe\">\n  <thead>\n    <tr style=\"text-align: right;\">\n      <th>StockCode</th>\n      <th>10002</th>\n      <th>10080</th>\n      <th>10120</th>\n      <th>10123C</th>\n      <th>10124A</th>\n      <th>10124G</th>\n      <th>10125</th>\n      <th>10133</th>\n      <th>10135</th>\n      <th>11001</th>\n      <th>...</th>\n      <th>90214V</th>\n      <th>90214W</th>\n      <th>90214Y</th>\n      <th>90214Z</th>\n      <th>BANK CHARGES</th>\n      <th>C2</th>\n      <th>DOT</th>\n      <th>M</th>\n      <th>PADS</th>\n      <th>POST</th>\n    </tr>\n    <tr>\n      <th>CustomerID</th>\n      <th></th>\n      <th></th>\n      <th></th>\n      <th></th>\n      <th></th>\n      <th></th>\n      <th></th>\n      <th></th>\n      <th></th>\n      <th></th>\n      <th></th>\n      <th></th>\n      <th></th>\n      <th></th>\n      <th></th>\n      <th></th>\n      <th></th>\n      <th></th>\n      <th></th>\n      <th></th>\n      <th></th>\n    </tr>\n  </thead>\n  <tbody>\n    <tr>\n      <th>12346.0</th>\n      <td>NaN</td>\n      <td>NaN</td>\n      <td>NaN</td>\n      <td>NaN</td>\n      <td>NaN</td>\n      <td>NaN</td>\n      <td>NaN</td>\n      <td>NaN</td>\n      <td>NaN</td>\n      <td>NaN</td>\n      <td>...</td>\n      <td>NaN</td>\n      <td>NaN</td>\n      <td>NaN</td>\n      <td>NaN</td>\n      <td>NaN</td>\n      <td>NaN</td>\n      <td>NaN</td>\n      <td>NaN</td>\n      <td>NaN</td>\n      <td>NaN</td>\n    </tr>\n    <tr>\n      <th>12347.0</th>\n      <td>NaN</td>\n      <td>NaN</td>\n      <td>NaN</td>\n      <td>NaN</td>\n      <td>NaN</td>\n      <td>NaN</td>\n      <td>NaN</td>\n      <td>NaN</td>\n      <td>NaN</td>\n      <td>NaN</td>\n      <td>...</td>\n      <td>NaN</td>\n      <td>NaN</td>\n      <td>NaN</td>\n      <td>NaN</td>\n      <td>NaN</td>\n      <td>NaN</td>\n      <td>NaN</td>\n      <td>NaN</td>\n      <td>NaN</td>\n      <td>NaN</td>\n    </tr>\n    <tr>\n      <th>12348.0</th>\n      <td>NaN</td>\n      <td>NaN</td>\n      <td>NaN</td>\n      <td>NaN</td>\n      <td>NaN</td>\n      <td>NaN</td>\n      <td>NaN</td>\n      <td>NaN</td>\n      <td>NaN</td>\n      <td>NaN</td>\n      <td>...</td>\n      <td>NaN</td>\n      <td>NaN</td>\n      <td>NaN</td>\n      <td>NaN</td>\n      <td>NaN</td>\n      <td>NaN</td>\n      <td>NaN</td>\n      <td>NaN</td>\n      <td>NaN</td>\n      <td>9.0</td>\n    </tr>\n    <tr>\n      <th>12349.0</th>\n      <td>NaN</td>\n      <td>NaN</td>\n      <td>NaN</td>\n      <td>NaN</td>\n      <td>NaN</td>\n      <td>NaN</td>\n      <td>NaN</td>\n      <td>NaN</td>\n      <td>NaN</td>\n      <td>NaN</td>\n      <td>...</td>\n      <td>NaN</td>\n      <td>NaN</td>\n      <td>NaN</td>\n      <td>NaN</td>\n      <td>NaN</td>\n      <td>NaN</td>\n      <td>NaN</td>\n      <td>NaN</td>\n      <td>NaN</td>\n      <td>1.0</td>\n    </tr>\n    <tr>\n      <th>12350.0</th>\n      <td>NaN</td>\n      <td>NaN</td>\n      <td>NaN</td>\n      <td>NaN</td>\n      <td>NaN</td>\n      <td>NaN</td>\n      <td>NaN</td>\n      <td>NaN</td>\n      <td>NaN</td>\n      <td>NaN</td>\n      <td>...</td>\n      <td>NaN</td>\n      <td>NaN</td>\n      <td>NaN</td>\n      <td>NaN</td>\n      <td>NaN</td>\n      <td>NaN</td>\n      <td>NaN</td>\n      <td>NaN</td>\n      <td>NaN</td>\n      <td>1.0</td>\n    </tr>\n  </tbody>\n</table>\n<p>5 rows × 3665 columns</p>\n</div>"
     },
     "metadata": {},
     "execution_count": 11
    }
   ],
   "source": [
    "matrix=df.pivot_table(index=\"CustomerID\",columns=\"StockCode\",values=\"Quantity\",aggfunc=\"sum\")\n",
    "matrix.head()"
   ]
  },
  {
   "cell_type": "code",
   "execution_count": 12,
   "metadata": {},
   "outputs": [
    {
     "output_type": "execute_result",
     "data": {
      "text/plain": [
       "StockCode   10002  10080  10120  10123C  10124A  10124G  10125  10133  10135  \\\n",
       "CustomerID                                                                     \n",
       "12346.0         0      0      0       0       0       0      0      0      0   \n",
       "12347.0         0      0      0       0       0       0      0      0      0   \n",
       "12348.0         0      0      0       0       0       0      0      0      0   \n",
       "12349.0         0      0      0       0       0       0      0      0      0   \n",
       "12350.0         0      0      0       0       0       0      0      0      0   \n",
       "\n",
       "StockCode   11001  ...  90214V  90214W  90214Y  90214Z  BANK CHARGES  C2  DOT  \\\n",
       "CustomerID         ...                                                          \n",
       "12346.0         0  ...       0       0       0       0             0   0    0   \n",
       "12347.0         0  ...       0       0       0       0             0   0    0   \n",
       "12348.0         0  ...       0       0       0       0             0   0    0   \n",
       "12349.0         0  ...       0       0       0       0             0   0    0   \n",
       "12350.0         0  ...       0       0       0       0             0   0    0   \n",
       "\n",
       "StockCode   M  PADS  POST  \n",
       "CustomerID                 \n",
       "12346.0     0     0     0  \n",
       "12347.0     0     0     0  \n",
       "12348.0     0     0     1  \n",
       "12349.0     0     0     1  \n",
       "12350.0     0     0     1  \n",
       "\n",
       "[5 rows x 3665 columns]"
      ],
      "text/html": "<div>\n<style scoped>\n    .dataframe tbody tr th:only-of-type {\n        vertical-align: middle;\n    }\n\n    .dataframe tbody tr th {\n        vertical-align: top;\n    }\n\n    .dataframe thead th {\n        text-align: right;\n    }\n</style>\n<table border=\"1\" class=\"dataframe\">\n  <thead>\n    <tr style=\"text-align: right;\">\n      <th>StockCode</th>\n      <th>10002</th>\n      <th>10080</th>\n      <th>10120</th>\n      <th>10123C</th>\n      <th>10124A</th>\n      <th>10124G</th>\n      <th>10125</th>\n      <th>10133</th>\n      <th>10135</th>\n      <th>11001</th>\n      <th>...</th>\n      <th>90214V</th>\n      <th>90214W</th>\n      <th>90214Y</th>\n      <th>90214Z</th>\n      <th>BANK CHARGES</th>\n      <th>C2</th>\n      <th>DOT</th>\n      <th>M</th>\n      <th>PADS</th>\n      <th>POST</th>\n    </tr>\n    <tr>\n      <th>CustomerID</th>\n      <th></th>\n      <th></th>\n      <th></th>\n      <th></th>\n      <th></th>\n      <th></th>\n      <th></th>\n      <th></th>\n      <th></th>\n      <th></th>\n      <th></th>\n      <th></th>\n      <th></th>\n      <th></th>\n      <th></th>\n      <th></th>\n      <th></th>\n      <th></th>\n      <th></th>\n      <th></th>\n      <th></th>\n    </tr>\n  </thead>\n  <tbody>\n    <tr>\n      <th>12346.0</th>\n      <td>0</td>\n      <td>0</td>\n      <td>0</td>\n      <td>0</td>\n      <td>0</td>\n      <td>0</td>\n      <td>0</td>\n      <td>0</td>\n      <td>0</td>\n      <td>0</td>\n      <td>...</td>\n      <td>0</td>\n      <td>0</td>\n      <td>0</td>\n      <td>0</td>\n      <td>0</td>\n      <td>0</td>\n      <td>0</td>\n      <td>0</td>\n      <td>0</td>\n      <td>0</td>\n    </tr>\n    <tr>\n      <th>12347.0</th>\n      <td>0</td>\n      <td>0</td>\n      <td>0</td>\n      <td>0</td>\n      <td>0</td>\n      <td>0</td>\n      <td>0</td>\n      <td>0</td>\n      <td>0</td>\n      <td>0</td>\n      <td>...</td>\n      <td>0</td>\n      <td>0</td>\n      <td>0</td>\n      <td>0</td>\n      <td>0</td>\n      <td>0</td>\n      <td>0</td>\n      <td>0</td>\n      <td>0</td>\n      <td>0</td>\n    </tr>\n    <tr>\n      <th>12348.0</th>\n      <td>0</td>\n      <td>0</td>\n      <td>0</td>\n      <td>0</td>\n      <td>0</td>\n      <td>0</td>\n      <td>0</td>\n      <td>0</td>\n      <td>0</td>\n      <td>0</td>\n      <td>...</td>\n      <td>0</td>\n      <td>0</td>\n      <td>0</td>\n      <td>0</td>\n      <td>0</td>\n      <td>0</td>\n      <td>0</td>\n      <td>0</td>\n      <td>0</td>\n      <td>1</td>\n    </tr>\n    <tr>\n      <th>12349.0</th>\n      <td>0</td>\n      <td>0</td>\n      <td>0</td>\n      <td>0</td>\n      <td>0</td>\n      <td>0</td>\n      <td>0</td>\n      <td>0</td>\n      <td>0</td>\n      <td>0</td>\n      <td>...</td>\n      <td>0</td>\n      <td>0</td>\n      <td>0</td>\n      <td>0</td>\n      <td>0</td>\n      <td>0</td>\n      <td>0</td>\n      <td>0</td>\n      <td>0</td>\n      <td>1</td>\n    </tr>\n    <tr>\n      <th>12350.0</th>\n      <td>0</td>\n      <td>0</td>\n      <td>0</td>\n      <td>0</td>\n      <td>0</td>\n      <td>0</td>\n      <td>0</td>\n      <td>0</td>\n      <td>0</td>\n      <td>0</td>\n      <td>...</td>\n      <td>0</td>\n      <td>0</td>\n      <td>0</td>\n      <td>0</td>\n      <td>0</td>\n      <td>0</td>\n      <td>0</td>\n      <td>0</td>\n      <td>0</td>\n      <td>1</td>\n    </tr>\n  </tbody>\n</table>\n<p>5 rows × 3665 columns</p>\n</div>"
     },
     "metadata": {},
     "execution_count": 12
    }
   ],
   "source": [
    "matrix=matrix.applymap(lambda x: 1 if x>0 else 0)\n",
    "matrix.head()"
   ]
  },
  {
   "cell_type": "code",
   "execution_count": 13,
   "metadata": {},
   "outputs": [
    {
     "output_type": "execute_result",
     "data": {
      "text/plain": [
       "(4338, 3665)"
      ]
     },
     "metadata": {},
     "execution_count": 13
    }
   ],
   "source": [
    "matrix.shape"
   ]
  },
  {
   "cell_type": "code",
   "execution_count": 14,
   "metadata": {},
   "outputs": [
    {
     "output_type": "execute_result",
     "data": {
      "text/plain": [
       "   0         1         2         3         4         5     6         7     \\\n",
       "0   1.0  0.000000  0.000000  0.000000  0.000000  0.000000   0.0  0.000000   \n",
       "1   0.0  1.000000  0.063022  0.046130  0.047795  0.038484   0.0  0.025876   \n",
       "2   0.0  0.063022  1.000000  0.024953  0.051709  0.027756   0.0  0.027995   \n",
       "3   0.0  0.046130  0.024953  1.000000  0.056773  0.137137   0.0  0.030737   \n",
       "4   0.0  0.047795  0.051709  0.056773  1.000000  0.031575   0.0  0.000000   \n",
       "\n",
       "       8         9     ...  4328      4329      4330  4331      4332  \\\n",
       "0  0.000000  0.000000  ...   0.0  0.000000  0.000000   0.0  0.000000   \n",
       "1  0.136641  0.094742  ...   0.0  0.029709  0.052668   0.0  0.032844   \n",
       "2  0.118262  0.146427  ...   0.0  0.064282  0.113961   0.0  0.000000   \n",
       "3  0.032461  0.144692  ...   0.0  0.105868  0.000000   0.0  0.039014   \n",
       "4  0.000000  0.033315  ...   0.0  0.000000  0.000000   0.0  0.000000   \n",
       "\n",
       "       4333  4334      4335      4336      4337  \n",
       "0  0.000000   0.0  0.000000  0.000000  0.000000  \n",
       "1  0.062318   0.0  0.113776  0.109364  0.012828  \n",
       "2  0.000000   0.0  0.000000  0.170905  0.083269  \n",
       "3  0.000000   0.0  0.067574  0.137124  0.030475  \n",
       "4  0.000000   0.0  0.000000  0.044866  0.000000  \n",
       "\n",
       "[5 rows x 4338 columns]"
      ],
      "text/html": "<div>\n<style scoped>\n    .dataframe tbody tr th:only-of-type {\n        vertical-align: middle;\n    }\n\n    .dataframe tbody tr th {\n        vertical-align: top;\n    }\n\n    .dataframe thead th {\n        text-align: right;\n    }\n</style>\n<table border=\"1\" class=\"dataframe\">\n  <thead>\n    <tr style=\"text-align: right;\">\n      <th></th>\n      <th>0</th>\n      <th>1</th>\n      <th>2</th>\n      <th>3</th>\n      <th>4</th>\n      <th>5</th>\n      <th>6</th>\n      <th>7</th>\n      <th>8</th>\n      <th>9</th>\n      <th>...</th>\n      <th>4328</th>\n      <th>4329</th>\n      <th>4330</th>\n      <th>4331</th>\n      <th>4332</th>\n      <th>4333</th>\n      <th>4334</th>\n      <th>4335</th>\n      <th>4336</th>\n      <th>4337</th>\n    </tr>\n  </thead>\n  <tbody>\n    <tr>\n      <th>0</th>\n      <td>1.0</td>\n      <td>0.000000</td>\n      <td>0.000000</td>\n      <td>0.000000</td>\n      <td>0.000000</td>\n      <td>0.000000</td>\n      <td>0.0</td>\n      <td>0.000000</td>\n      <td>0.000000</td>\n      <td>0.000000</td>\n      <td>...</td>\n      <td>0.0</td>\n      <td>0.000000</td>\n      <td>0.000000</td>\n      <td>0.0</td>\n      <td>0.000000</td>\n      <td>0.000000</td>\n      <td>0.0</td>\n      <td>0.000000</td>\n      <td>0.000000</td>\n      <td>0.000000</td>\n    </tr>\n    <tr>\n      <th>1</th>\n      <td>0.0</td>\n      <td>1.000000</td>\n      <td>0.063022</td>\n      <td>0.046130</td>\n      <td>0.047795</td>\n      <td>0.038484</td>\n      <td>0.0</td>\n      <td>0.025876</td>\n      <td>0.136641</td>\n      <td>0.094742</td>\n      <td>...</td>\n      <td>0.0</td>\n      <td>0.029709</td>\n      <td>0.052668</td>\n      <td>0.0</td>\n      <td>0.032844</td>\n      <td>0.062318</td>\n      <td>0.0</td>\n      <td>0.113776</td>\n      <td>0.109364</td>\n      <td>0.012828</td>\n    </tr>\n    <tr>\n      <th>2</th>\n      <td>0.0</td>\n      <td>0.063022</td>\n      <td>1.000000</td>\n      <td>0.024953</td>\n      <td>0.051709</td>\n      <td>0.027756</td>\n      <td>0.0</td>\n      <td>0.027995</td>\n      <td>0.118262</td>\n      <td>0.146427</td>\n      <td>...</td>\n      <td>0.0</td>\n      <td>0.064282</td>\n      <td>0.113961</td>\n      <td>0.0</td>\n      <td>0.000000</td>\n      <td>0.000000</td>\n      <td>0.0</td>\n      <td>0.000000</td>\n      <td>0.170905</td>\n      <td>0.083269</td>\n    </tr>\n    <tr>\n      <th>3</th>\n      <td>0.0</td>\n      <td>0.046130</td>\n      <td>0.024953</td>\n      <td>1.000000</td>\n      <td>0.056773</td>\n      <td>0.137137</td>\n      <td>0.0</td>\n      <td>0.030737</td>\n      <td>0.032461</td>\n      <td>0.144692</td>\n      <td>...</td>\n      <td>0.0</td>\n      <td>0.105868</td>\n      <td>0.000000</td>\n      <td>0.0</td>\n      <td>0.039014</td>\n      <td>0.000000</td>\n      <td>0.0</td>\n      <td>0.067574</td>\n      <td>0.137124</td>\n      <td>0.030475</td>\n    </tr>\n    <tr>\n      <th>4</th>\n      <td>0.0</td>\n      <td>0.047795</td>\n      <td>0.051709</td>\n      <td>0.056773</td>\n      <td>1.000000</td>\n      <td>0.031575</td>\n      <td>0.0</td>\n      <td>0.000000</td>\n      <td>0.000000</td>\n      <td>0.033315</td>\n      <td>...</td>\n      <td>0.0</td>\n      <td>0.000000</td>\n      <td>0.000000</td>\n      <td>0.0</td>\n      <td>0.000000</td>\n      <td>0.000000</td>\n      <td>0.0</td>\n      <td>0.000000</td>\n      <td>0.044866</td>\n      <td>0.000000</td>\n    </tr>\n  </tbody>\n</table>\n<p>5 rows × 4338 columns</p>\n</div>"
     },
     "metadata": {},
     "execution_count": 14
    }
   ],
   "source": [
    "# Creating user to user similarity matrix using cosine rule\n",
    "\n",
    "sim_matrix=pd.DataFrame(cosine_similarity(matrix))\n",
    "sim_matrix.head()"
   ]
  },
  {
   "cell_type": "code",
   "execution_count": 15,
   "metadata": {},
   "outputs": [
    {
     "output_type": "execute_result",
     "data": {
      "text/plain": [
       "CustomerID  12346.0   12347.0   12348.0   12349.0   12350.0   12352.0  \\\n",
       "CustomerID                                                              \n",
       "12346.0         1.0  0.000000  0.000000  0.000000  0.000000  0.000000   \n",
       "12347.0         0.0  1.000000  0.063022  0.046130  0.047795  0.038484   \n",
       "12348.0         0.0  0.063022  1.000000  0.024953  0.051709  0.027756   \n",
       "12349.0         0.0  0.046130  0.024953  1.000000  0.056773  0.137137   \n",
       "12350.0         0.0  0.047795  0.051709  0.056773  1.000000  0.031575   \n",
       "\n",
       "CustomerID  12353.0   12354.0   12355.0   12356.0  ...  18273.0   18274.0  \\\n",
       "CustomerID                                         ...                      \n",
       "12346.0         0.0  0.000000  0.000000  0.000000  ...      0.0  0.000000   \n",
       "12347.0         0.0  0.025876  0.136641  0.094742  ...      0.0  0.029709   \n",
       "12348.0         0.0  0.027995  0.118262  0.146427  ...      0.0  0.064282   \n",
       "12349.0         0.0  0.030737  0.032461  0.144692  ...      0.0  0.105868   \n",
       "12350.0         0.0  0.000000  0.000000  0.033315  ...      0.0  0.000000   \n",
       "\n",
       "CustomerID   18276.0  18277.0   18278.0   18280.0  18281.0   18282.0  \\\n",
       "CustomerID                                                             \n",
       "12346.0     0.000000      0.0  0.000000  0.000000      0.0  0.000000   \n",
       "12347.0     0.052668      0.0  0.032844  0.062318      0.0  0.113776   \n",
       "12348.0     0.113961      0.0  0.000000  0.000000      0.0  0.000000   \n",
       "12349.0     0.000000      0.0  0.039014  0.000000      0.0  0.067574   \n",
       "12350.0     0.000000      0.0  0.000000  0.000000      0.0  0.000000   \n",
       "\n",
       "CustomerID   18283.0   18287.0  \n",
       "CustomerID                      \n",
       "12346.0     0.000000  0.000000  \n",
       "12347.0     0.109364  0.012828  \n",
       "12348.0     0.170905  0.083269  \n",
       "12349.0     0.137124  0.030475  \n",
       "12350.0     0.044866  0.000000  \n",
       "\n",
       "[5 rows x 4338 columns]"
      ],
      "text/html": "<div>\n<style scoped>\n    .dataframe tbody tr th:only-of-type {\n        vertical-align: middle;\n    }\n\n    .dataframe tbody tr th {\n        vertical-align: top;\n    }\n\n    .dataframe thead th {\n        text-align: right;\n    }\n</style>\n<table border=\"1\" class=\"dataframe\">\n  <thead>\n    <tr style=\"text-align: right;\">\n      <th>CustomerID</th>\n      <th>12346.0</th>\n      <th>12347.0</th>\n      <th>12348.0</th>\n      <th>12349.0</th>\n      <th>12350.0</th>\n      <th>12352.0</th>\n      <th>12353.0</th>\n      <th>12354.0</th>\n      <th>12355.0</th>\n      <th>12356.0</th>\n      <th>...</th>\n      <th>18273.0</th>\n      <th>18274.0</th>\n      <th>18276.0</th>\n      <th>18277.0</th>\n      <th>18278.0</th>\n      <th>18280.0</th>\n      <th>18281.0</th>\n      <th>18282.0</th>\n      <th>18283.0</th>\n      <th>18287.0</th>\n    </tr>\n    <tr>\n      <th>CustomerID</th>\n      <th></th>\n      <th></th>\n      <th></th>\n      <th></th>\n      <th></th>\n      <th></th>\n      <th></th>\n      <th></th>\n      <th></th>\n      <th></th>\n      <th></th>\n      <th></th>\n      <th></th>\n      <th></th>\n      <th></th>\n      <th></th>\n      <th></th>\n      <th></th>\n      <th></th>\n      <th></th>\n      <th></th>\n    </tr>\n  </thead>\n  <tbody>\n    <tr>\n      <th>12346.0</th>\n      <td>1.0</td>\n      <td>0.000000</td>\n      <td>0.000000</td>\n      <td>0.000000</td>\n      <td>0.000000</td>\n      <td>0.000000</td>\n      <td>0.0</td>\n      <td>0.000000</td>\n      <td>0.000000</td>\n      <td>0.000000</td>\n      <td>...</td>\n      <td>0.0</td>\n      <td>0.000000</td>\n      <td>0.000000</td>\n      <td>0.0</td>\n      <td>0.000000</td>\n      <td>0.000000</td>\n      <td>0.0</td>\n      <td>0.000000</td>\n      <td>0.000000</td>\n      <td>0.000000</td>\n    </tr>\n    <tr>\n      <th>12347.0</th>\n      <td>0.0</td>\n      <td>1.000000</td>\n      <td>0.063022</td>\n      <td>0.046130</td>\n      <td>0.047795</td>\n      <td>0.038484</td>\n      <td>0.0</td>\n      <td>0.025876</td>\n      <td>0.136641</td>\n      <td>0.094742</td>\n      <td>...</td>\n      <td>0.0</td>\n      <td>0.029709</td>\n      <td>0.052668</td>\n      <td>0.0</td>\n      <td>0.032844</td>\n      <td>0.062318</td>\n      <td>0.0</td>\n      <td>0.113776</td>\n      <td>0.109364</td>\n      <td>0.012828</td>\n    </tr>\n    <tr>\n      <th>12348.0</th>\n      <td>0.0</td>\n      <td>0.063022</td>\n      <td>1.000000</td>\n      <td>0.024953</td>\n      <td>0.051709</td>\n      <td>0.027756</td>\n      <td>0.0</td>\n      <td>0.027995</td>\n      <td>0.118262</td>\n      <td>0.146427</td>\n      <td>...</td>\n      <td>0.0</td>\n      <td>0.064282</td>\n      <td>0.113961</td>\n      <td>0.0</td>\n      <td>0.000000</td>\n      <td>0.000000</td>\n      <td>0.0</td>\n      <td>0.000000</td>\n      <td>0.170905</td>\n      <td>0.083269</td>\n    </tr>\n    <tr>\n      <th>12349.0</th>\n      <td>0.0</td>\n      <td>0.046130</td>\n      <td>0.024953</td>\n      <td>1.000000</td>\n      <td>0.056773</td>\n      <td>0.137137</td>\n      <td>0.0</td>\n      <td>0.030737</td>\n      <td>0.032461</td>\n      <td>0.144692</td>\n      <td>...</td>\n      <td>0.0</td>\n      <td>0.105868</td>\n      <td>0.000000</td>\n      <td>0.0</td>\n      <td>0.039014</td>\n      <td>0.000000</td>\n      <td>0.0</td>\n      <td>0.067574</td>\n      <td>0.137124</td>\n      <td>0.030475</td>\n    </tr>\n    <tr>\n      <th>12350.0</th>\n      <td>0.0</td>\n      <td>0.047795</td>\n      <td>0.051709</td>\n      <td>0.056773</td>\n      <td>1.000000</td>\n      <td>0.031575</td>\n      <td>0.0</td>\n      <td>0.000000</td>\n      <td>0.000000</td>\n      <td>0.033315</td>\n      <td>...</td>\n      <td>0.0</td>\n      <td>0.000000</td>\n      <td>0.000000</td>\n      <td>0.0</td>\n      <td>0.000000</td>\n      <td>0.000000</td>\n      <td>0.0</td>\n      <td>0.000000</td>\n      <td>0.044866</td>\n      <td>0.000000</td>\n    </tr>\n  </tbody>\n</table>\n<p>5 rows × 4338 columns</p>\n</div>"
     },
     "metadata": {},
     "execution_count": 15
    }
   ],
   "source": [
    "sim_matrix.columns=matrix.index\n",
    "sim_matrix[\"CustomerID\"]=matrix.index\n",
    "sim_matrix=sim_matrix.set_index(\"CustomerID\")\n",
    "sim_matrix.head()"
   ]
  },
  {
   "cell_type": "code",
   "execution_count": 16,
   "metadata": {},
   "outputs": [
    {
     "output_type": "execute_result",
     "data": {
      "text/plain": [
       "CustomerID\n",
       "18080.0    1.000000\n",
       "15049.0    0.408248\n",
       "12873.0    0.353553\n",
       "16698.0    0.353553\n",
       "17991.0    0.353553\n",
       "             ...   \n",
       "14437.0    0.000000\n",
       "14438.0    0.000000\n",
       "14439.0    0.000000\n",
       "14440.0    0.000000\n",
       "18287.0    0.000000\n",
       "Name: 18080.0, Length: 4338, dtype: float64"
      ]
     },
     "metadata": {},
     "execution_count": 16
    }
   ],
   "source": [
    "i=random.choice(sim_matrix.index)\n",
    "sim_matrix.loc[i].sort_values(ascending=False)"
   ]
  },
  {
   "cell_type": "code",
   "execution_count": 17,
   "metadata": {},
   "outputs": [
    {
     "output_type": "execute_result",
     "data": {
      "text/plain": [
       "Index(['22084', '84988'], dtype='object', name='StockCode')"
      ]
     },
     "metadata": {},
     "execution_count": 17
    }
   ],
   "source": [
    "matrix.loc[i][matrix.loc[i]==1].index"
   ]
  },
  {
   "cell_type": "code",
   "execution_count": 18,
   "metadata": {},
   "outputs": [
    {
     "output_type": "execute_result",
     "data": {
      "text/plain": [
       "Index(['22084', '22090', '23152', '23202', '23203', '23208', '23209'], dtype='object', name='StockCode')"
      ]
     },
     "metadata": {},
     "execution_count": 18
    }
   ],
   "source": [
    "matrix.loc[18064][matrix.loc[18064]==1].index"
   ]
  },
  {
   "cell_type": "code",
   "execution_count": 19,
   "metadata": {},
   "outputs": [],
   "source": [
    "# What one bought and other didnot\n",
    "rec_list=[i for i in matrix.loc[i][matrix.loc[i]==1].index if i not in matrix.loc[18064][matrix.loc[18064]==1].index]"
   ]
  },
  {
   "cell_type": "code",
   "execution_count": 20,
   "metadata": {},
   "outputs": [
    {
     "output_type": "execute_result",
     "data": {
      "text/plain": [
       "                                  Description\n",
       "StockCode                                    \n",
       "84988      SET OF 72 PINK HEART PAPER DOILIES"
      ],
      "text/html": "<div>\n<style scoped>\n    .dataframe tbody tr th:only-of-type {\n        vertical-align: middle;\n    }\n\n    .dataframe tbody tr th {\n        vertical-align: top;\n    }\n\n    .dataframe thead th {\n        text-align: right;\n    }\n</style>\n<table border=\"1\" class=\"dataframe\">\n  <thead>\n    <tr style=\"text-align: right;\">\n      <th></th>\n      <th>Description</th>\n    </tr>\n    <tr>\n      <th>StockCode</th>\n      <th></th>\n    </tr>\n  </thead>\n  <tbody>\n    <tr>\n      <th>84988</th>\n      <td>SET OF 72 PINK HEART PAPER DOILIES</td>\n    </tr>\n  </tbody>\n</table>\n</div>"
     },
     "metadata": {},
     "execution_count": 20
    }
   ],
   "source": [
    "df.loc[df[\"StockCode\"].isin(rec_list),[\"StockCode\",\"Description\"]].drop_duplicates().set_index(\"StockCode\")"
   ]
  },
  {
   "cell_type": "code",
   "execution_count": 21,
   "metadata": {},
   "outputs": [
    {
     "output_type": "execute_result",
     "data": {
      "text/plain": [
       "       0     1         2         3     4         5         6         7     \\\n",
       "0  1.000000   0.0  0.094868  0.091287   0.0  0.000000  0.090351  0.062932   \n",
       "1  0.000000   1.0  0.000000  0.000000   0.0  0.000000  0.032774  0.045655   \n",
       "2  0.094868   0.0  1.000000  0.115470   0.0  0.000000  0.057143  0.059702   \n",
       "3  0.091287   0.0  0.115470  1.000000   0.0  0.000000  0.164957  0.000000   \n",
       "4  0.000000   0.0  0.000000  0.000000   1.0  0.447214  0.063888  0.044499   \n",
       "\n",
       "       8         9     ...  3655  3656  3657  3658  3659      3660  3661  \\\n",
       "0  0.098907  0.095346  ...   0.0   0.0   0.0   0.0   0.0  0.029361   0.0   \n",
       "1  0.047836  0.000000  ...   0.0   0.0   0.0   0.0   0.0  0.000000   0.0   \n",
       "2  0.041703  0.060302  ...   0.0   0.0   0.0   0.0   0.0  0.000000   0.0   \n",
       "3  0.000000  0.000000  ...   0.0   0.0   0.0   0.0   0.0  0.000000   0.0   \n",
       "4  0.000000  0.000000  ...   0.0   0.0   0.0   0.0   0.0  0.000000   0.0   \n",
       "\n",
       "       3662  3663      3664  \n",
       "0  0.067591   0.0  0.078217  \n",
       "1  0.016345   0.0  0.000000  \n",
       "2  0.071247   0.0  0.010993  \n",
       "3  0.000000   0.0  0.000000  \n",
       "4  0.000000   0.0  0.000000  \n",
       "\n",
       "[5 rows x 3665 columns]"
      ],
      "text/html": "<div>\n<style scoped>\n    .dataframe tbody tr th:only-of-type {\n        vertical-align: middle;\n    }\n\n    .dataframe tbody tr th {\n        vertical-align: top;\n    }\n\n    .dataframe thead th {\n        text-align: right;\n    }\n</style>\n<table border=\"1\" class=\"dataframe\">\n  <thead>\n    <tr style=\"text-align: right;\">\n      <th></th>\n      <th>0</th>\n      <th>1</th>\n      <th>2</th>\n      <th>3</th>\n      <th>4</th>\n      <th>5</th>\n      <th>6</th>\n      <th>7</th>\n      <th>8</th>\n      <th>9</th>\n      <th>...</th>\n      <th>3655</th>\n      <th>3656</th>\n      <th>3657</th>\n      <th>3658</th>\n      <th>3659</th>\n      <th>3660</th>\n      <th>3661</th>\n      <th>3662</th>\n      <th>3663</th>\n      <th>3664</th>\n    </tr>\n  </thead>\n  <tbody>\n    <tr>\n      <th>0</th>\n      <td>1.000000</td>\n      <td>0.0</td>\n      <td>0.094868</td>\n      <td>0.091287</td>\n      <td>0.0</td>\n      <td>0.000000</td>\n      <td>0.090351</td>\n      <td>0.062932</td>\n      <td>0.098907</td>\n      <td>0.095346</td>\n      <td>...</td>\n      <td>0.0</td>\n      <td>0.0</td>\n      <td>0.0</td>\n      <td>0.0</td>\n      <td>0.0</td>\n      <td>0.029361</td>\n      <td>0.0</td>\n      <td>0.067591</td>\n      <td>0.0</td>\n      <td>0.078217</td>\n    </tr>\n    <tr>\n      <th>1</th>\n      <td>0.000000</td>\n      <td>1.0</td>\n      <td>0.000000</td>\n      <td>0.000000</td>\n      <td>0.0</td>\n      <td>0.000000</td>\n      <td>0.032774</td>\n      <td>0.045655</td>\n      <td>0.047836</td>\n      <td>0.000000</td>\n      <td>...</td>\n      <td>0.0</td>\n      <td>0.0</td>\n      <td>0.0</td>\n      <td>0.0</td>\n      <td>0.0</td>\n      <td>0.000000</td>\n      <td>0.0</td>\n      <td>0.016345</td>\n      <td>0.0</td>\n      <td>0.000000</td>\n    </tr>\n    <tr>\n      <th>2</th>\n      <td>0.094868</td>\n      <td>0.0</td>\n      <td>1.000000</td>\n      <td>0.115470</td>\n      <td>0.0</td>\n      <td>0.000000</td>\n      <td>0.057143</td>\n      <td>0.059702</td>\n      <td>0.041703</td>\n      <td>0.060302</td>\n      <td>...</td>\n      <td>0.0</td>\n      <td>0.0</td>\n      <td>0.0</td>\n      <td>0.0</td>\n      <td>0.0</td>\n      <td>0.000000</td>\n      <td>0.0</td>\n      <td>0.071247</td>\n      <td>0.0</td>\n      <td>0.010993</td>\n    </tr>\n    <tr>\n      <th>3</th>\n      <td>0.091287</td>\n      <td>0.0</td>\n      <td>0.115470</td>\n      <td>1.000000</td>\n      <td>0.0</td>\n      <td>0.000000</td>\n      <td>0.164957</td>\n      <td>0.000000</td>\n      <td>0.000000</td>\n      <td>0.000000</td>\n      <td>...</td>\n      <td>0.0</td>\n      <td>0.0</td>\n      <td>0.0</td>\n      <td>0.0</td>\n      <td>0.0</td>\n      <td>0.000000</td>\n      <td>0.0</td>\n      <td>0.000000</td>\n      <td>0.0</td>\n      <td>0.000000</td>\n    </tr>\n    <tr>\n      <th>4</th>\n      <td>0.000000</td>\n      <td>0.0</td>\n      <td>0.000000</td>\n      <td>0.000000</td>\n      <td>1.0</td>\n      <td>0.447214</td>\n      <td>0.063888</td>\n      <td>0.044499</td>\n      <td>0.000000</td>\n      <td>0.000000</td>\n      <td>...</td>\n      <td>0.0</td>\n      <td>0.0</td>\n      <td>0.0</td>\n      <td>0.0</td>\n      <td>0.0</td>\n      <td>0.000000</td>\n      <td>0.0</td>\n      <td>0.000000</td>\n      <td>0.0</td>\n      <td>0.000000</td>\n    </tr>\n  </tbody>\n</table>\n<p>5 rows × 3665 columns</p>\n</div>"
     },
     "metadata": {},
     "execution_count": 21
    }
   ],
   "source": [
    "item_matrix=pd.DataFrame(cosine_similarity(matrix.T))\n",
    "item_matrix.head()"
   ]
  },
  {
   "cell_type": "code",
   "execution_count": 22,
   "metadata": {},
   "outputs": [
    {
     "output_type": "execute_result",
     "data": {
      "text/plain": [
       "StockCode     10002  10080     10120    10123C  10124A    10124G     10125  \\\n",
       "StockCode                                                                    \n",
       "10002      1.000000    0.0  0.094868  0.091287     0.0  0.000000  0.090351   \n",
       "10080      0.000000    1.0  0.000000  0.000000     0.0  0.000000  0.032774   \n",
       "10120      0.094868    0.0  1.000000  0.115470     0.0  0.000000  0.057143   \n",
       "10123C     0.091287    0.0  0.115470  1.000000     0.0  0.000000  0.164957   \n",
       "10124A     0.000000    0.0  0.000000  0.000000     1.0  0.447214  0.063888   \n",
       "\n",
       "StockCode     10133     10135     11001  ...  90214V  90214W  90214Y  90214Z  \\\n",
       "StockCode                                ...                                   \n",
       "10002      0.062932  0.098907  0.095346  ...     0.0     0.0     0.0     0.0   \n",
       "10080      0.045655  0.047836  0.000000  ...     0.0     0.0     0.0     0.0   \n",
       "10120      0.059702  0.041703  0.060302  ...     0.0     0.0     0.0     0.0   \n",
       "10123C     0.000000  0.000000  0.000000  ...     0.0     0.0     0.0     0.0   \n",
       "10124A     0.044499  0.000000  0.000000  ...     0.0     0.0     0.0     0.0   \n",
       "\n",
       "StockCode  BANK CHARGES        C2  DOT         M  PADS      POST  \n",
       "StockCode                                                         \n",
       "10002               0.0  0.029361  0.0  0.067591   0.0  0.078217  \n",
       "10080               0.0  0.000000  0.0  0.016345   0.0  0.000000  \n",
       "10120               0.0  0.000000  0.0  0.071247   0.0  0.010993  \n",
       "10123C              0.0  0.000000  0.0  0.000000   0.0  0.000000  \n",
       "10124A              0.0  0.000000  0.0  0.000000   0.0  0.000000  \n",
       "\n",
       "[5 rows x 3665 columns]"
      ],
      "text/html": "<div>\n<style scoped>\n    .dataframe tbody tr th:only-of-type {\n        vertical-align: middle;\n    }\n\n    .dataframe tbody tr th {\n        vertical-align: top;\n    }\n\n    .dataframe thead th {\n        text-align: right;\n    }\n</style>\n<table border=\"1\" class=\"dataframe\">\n  <thead>\n    <tr style=\"text-align: right;\">\n      <th>StockCode</th>\n      <th>10002</th>\n      <th>10080</th>\n      <th>10120</th>\n      <th>10123C</th>\n      <th>10124A</th>\n      <th>10124G</th>\n      <th>10125</th>\n      <th>10133</th>\n      <th>10135</th>\n      <th>11001</th>\n      <th>...</th>\n      <th>90214V</th>\n      <th>90214W</th>\n      <th>90214Y</th>\n      <th>90214Z</th>\n      <th>BANK CHARGES</th>\n      <th>C2</th>\n      <th>DOT</th>\n      <th>M</th>\n      <th>PADS</th>\n      <th>POST</th>\n    </tr>\n    <tr>\n      <th>StockCode</th>\n      <th></th>\n      <th></th>\n      <th></th>\n      <th></th>\n      <th></th>\n      <th></th>\n      <th></th>\n      <th></th>\n      <th></th>\n      <th></th>\n      <th></th>\n      <th></th>\n      <th></th>\n      <th></th>\n      <th></th>\n      <th></th>\n      <th></th>\n      <th></th>\n      <th></th>\n      <th></th>\n      <th></th>\n    </tr>\n  </thead>\n  <tbody>\n    <tr>\n      <th>10002</th>\n      <td>1.000000</td>\n      <td>0.0</td>\n      <td>0.094868</td>\n      <td>0.091287</td>\n      <td>0.0</td>\n      <td>0.000000</td>\n      <td>0.090351</td>\n      <td>0.062932</td>\n      <td>0.098907</td>\n      <td>0.095346</td>\n      <td>...</td>\n      <td>0.0</td>\n      <td>0.0</td>\n      <td>0.0</td>\n      <td>0.0</td>\n      <td>0.0</td>\n      <td>0.029361</td>\n      <td>0.0</td>\n      <td>0.067591</td>\n      <td>0.0</td>\n      <td>0.078217</td>\n    </tr>\n    <tr>\n      <th>10080</th>\n      <td>0.000000</td>\n      <td>1.0</td>\n      <td>0.000000</td>\n      <td>0.000000</td>\n      <td>0.0</td>\n      <td>0.000000</td>\n      <td>0.032774</td>\n      <td>0.045655</td>\n      <td>0.047836</td>\n      <td>0.000000</td>\n      <td>...</td>\n      <td>0.0</td>\n      <td>0.0</td>\n      <td>0.0</td>\n      <td>0.0</td>\n      <td>0.0</td>\n      <td>0.000000</td>\n      <td>0.0</td>\n      <td>0.016345</td>\n      <td>0.0</td>\n      <td>0.000000</td>\n    </tr>\n    <tr>\n      <th>10120</th>\n      <td>0.094868</td>\n      <td>0.0</td>\n      <td>1.000000</td>\n      <td>0.115470</td>\n      <td>0.0</td>\n      <td>0.000000</td>\n      <td>0.057143</td>\n      <td>0.059702</td>\n      <td>0.041703</td>\n      <td>0.060302</td>\n      <td>...</td>\n      <td>0.0</td>\n      <td>0.0</td>\n      <td>0.0</td>\n      <td>0.0</td>\n      <td>0.0</td>\n      <td>0.000000</td>\n      <td>0.0</td>\n      <td>0.071247</td>\n      <td>0.0</td>\n      <td>0.010993</td>\n    </tr>\n    <tr>\n      <th>10123C</th>\n      <td>0.091287</td>\n      <td>0.0</td>\n      <td>0.115470</td>\n      <td>1.000000</td>\n      <td>0.0</td>\n      <td>0.000000</td>\n      <td>0.164957</td>\n      <td>0.000000</td>\n      <td>0.000000</td>\n      <td>0.000000</td>\n      <td>...</td>\n      <td>0.0</td>\n      <td>0.0</td>\n      <td>0.0</td>\n      <td>0.0</td>\n      <td>0.0</td>\n      <td>0.000000</td>\n      <td>0.0</td>\n      <td>0.000000</td>\n      <td>0.0</td>\n      <td>0.000000</td>\n    </tr>\n    <tr>\n      <th>10124A</th>\n      <td>0.000000</td>\n      <td>0.0</td>\n      <td>0.000000</td>\n      <td>0.000000</td>\n      <td>1.0</td>\n      <td>0.447214</td>\n      <td>0.063888</td>\n      <td>0.044499</td>\n      <td>0.000000</td>\n      <td>0.000000</td>\n      <td>...</td>\n      <td>0.0</td>\n      <td>0.0</td>\n      <td>0.0</td>\n      <td>0.0</td>\n      <td>0.0</td>\n      <td>0.000000</td>\n      <td>0.0</td>\n      <td>0.000000</td>\n      <td>0.0</td>\n      <td>0.000000</td>\n    </tr>\n  </tbody>\n</table>\n<p>5 rows × 3665 columns</p>\n</div>"
     },
     "metadata": {},
     "execution_count": 22
    }
   ],
   "source": [
    "item_matrix.columns=matrix.T.index\n",
    "item_matrix[\"StockCode\"]=matrix.T.index\n",
    "item_matrix=item_matrix.set_index(\"StockCode\")\n",
    "item_matrix.head()"
   ]
  },
  {
   "cell_type": "code",
   "execution_count": 23,
   "metadata": {},
   "outputs": [
    {
     "output_type": "execute_result",
     "data": {
      "text/plain": [
       "StockCode\n",
       "17084P    1.000000\n",
       "17084J    0.408248\n",
       "17084N    0.404145\n",
       "17084A    0.327327\n",
       "21167     0.322749\n",
       "            ...   \n",
       "22524     0.000000\n",
       "22525     0.000000\n",
       "22526     0.000000\n",
       "22529     0.000000\n",
       "POST      0.000000\n",
       "Name: 17084P, Length: 3665, dtype: float64"
      ]
     },
     "metadata": {},
     "execution_count": 23
    }
   ],
   "source": [
    "i=random.choice(item_matrix.index)\n",
    "item_matrix.loc[i].sort_values(ascending=False)"
   ]
  },
  {
   "cell_type": "code",
   "execution_count": 28,
   "metadata": {},
   "outputs": [],
   "source": [
    "top_10_items=list(item_matrix.loc[i].sort_values(ascending=False).iloc[:10].index)"
   ]
  },
  {
   "cell_type": "code",
   "execution_count": 30,
   "metadata": {},
   "outputs": [
    {
     "output_type": "execute_result",
     "data": {
      "text/plain": [
       "['17084P',\n",
       " '17084J',\n",
       " '17084N',\n",
       " '17084A',\n",
       " '21167',\n",
       " '17028J',\n",
       " '17001',\n",
       " '84795C',\n",
       " '35816P',\n",
       " '79336']"
      ]
     },
     "metadata": {},
     "execution_count": 30
    }
   ],
   "source": [
    "top_10_items"
   ]
  },
  {
   "cell_type": "code",
   "execution_count": 56,
   "metadata": {},
   "outputs": [
    {
     "output_type": "execute_result",
     "data": {
      "text/plain": [
       "'DRAGONS BLOOD INCENSE'"
      ]
     },
     "metadata": {},
     "execution_count": 56
    }
   ],
   "source": [
    "df.loc[df[\"StockCode\"]==i][:1][\"Description\"].iloc[0]"
   ]
  },
  {
   "cell_type": "code",
   "execution_count": 33,
   "metadata": {},
   "outputs": [
    {
     "output_type": "execute_result",
     "data": {
      "text/plain": [
       "                                   Description\n",
       "StockCode                                     \n",
       "17084P                   DRAGONS BLOOD INCENSE\n",
       "17084J              LOVE POTION MASALA INCENSE\n",
       "17084N                   FAIRY DREAMS INCENSE \n",
       "17084A              TRANQUILITY MASALA INCENSE\n",
       "21167                       WHITE SAGE INCENSE\n",
       "17028J                    INCENSE BAZAAR PEACH\n",
       "17001       HEAVENS SCENT FRAGRANCE OILS ASSTD\n",
       "84795C                   OCEAN STRIPE HAMMOCK \n",
       "35816P                ACRYLIC JEWEL ANGEL,PINK\n",
       "79336      LIGHT PINK FLOCK GLASS CANDLEHOLDER"
      ],
      "text/html": "<div>\n<style scoped>\n    .dataframe tbody tr th:only-of-type {\n        vertical-align: middle;\n    }\n\n    .dataframe tbody tr th {\n        vertical-align: top;\n    }\n\n    .dataframe thead th {\n        text-align: right;\n    }\n</style>\n<table border=\"1\" class=\"dataframe\">\n  <thead>\n    <tr style=\"text-align: right;\">\n      <th></th>\n      <th>Description</th>\n    </tr>\n    <tr>\n      <th>StockCode</th>\n      <th></th>\n    </tr>\n  </thead>\n  <tbody>\n    <tr>\n      <th>17084P</th>\n      <td>DRAGONS BLOOD INCENSE</td>\n    </tr>\n    <tr>\n      <th>17084J</th>\n      <td>LOVE POTION MASALA INCENSE</td>\n    </tr>\n    <tr>\n      <th>17084N</th>\n      <td>FAIRY DREAMS INCENSE</td>\n    </tr>\n    <tr>\n      <th>17084A</th>\n      <td>TRANQUILITY MASALA INCENSE</td>\n    </tr>\n    <tr>\n      <th>21167</th>\n      <td>WHITE SAGE INCENSE</td>\n    </tr>\n    <tr>\n      <th>17028J</th>\n      <td>INCENSE BAZAAR PEACH</td>\n    </tr>\n    <tr>\n      <th>17001</th>\n      <td>HEAVENS SCENT FRAGRANCE OILS ASSTD</td>\n    </tr>\n    <tr>\n      <th>84795C</th>\n      <td>OCEAN STRIPE HAMMOCK</td>\n    </tr>\n    <tr>\n      <th>35816P</th>\n      <td>ACRYLIC JEWEL ANGEL,PINK</td>\n    </tr>\n    <tr>\n      <th>79336</th>\n      <td>LIGHT PINK FLOCK GLASS CANDLEHOLDER</td>\n    </tr>\n  </tbody>\n</table>\n</div>"
     },
     "metadata": {},
     "execution_count": 33
    }
   ],
   "source": [
    "df.loc[df[\"StockCode\"].isin(top_10_items),[\"StockCode\",\"Description\"]].drop_duplicates().set_index(\"StockCode\").loc[top_10_items]"
   ]
  },
  {
   "cell_type": "code",
   "execution_count": 61,
   "metadata": {},
   "outputs": [],
   "source": [
    "def rec_items(item):\n",
    "    top_10_list=list(item_matrix.loc[item].sort_values(ascending=False).iloc[:10].index)\n",
    "    top_10=df.loc[df[\"StockCode\"].isin(top_10_list),[\"StockCode\",\"Description\"]].drop_duplicates().set_index(\"StockCode\").loc[top_10_list]\n",
    "    print(\"Item : \",df.loc[df[\"StockCode\"]==item][:1][\"Description\"].iloc[0])\n",
    "    return top_10"
   ]
  },
  {
   "cell_type": "code",
   "execution_count": 62,
   "metadata": {},
   "outputs": [
    {
     "output_type": "stream",
     "name": "stdout",
     "text": [
      "Item :  RED WOOLLY HOTTIE WHITE HEART.\n"
     ]
    },
    {
     "output_type": "execute_result",
     "data": {
      "text/plain": [
       "                                   Description\n",
       "StockCode                                     \n",
       "84029E          RED WOOLLY HOTTIE WHITE HEART.\n",
       "84029G     KNITTED UNION FLAG HOT WATER BOTTLE\n",
       "21479            WHITE SKULL HOT WATER BOTTLE \n",
       "21485         RETROSPOT HEART HOT WATER BOTTLE\n",
       "22111             SCOTTIE DOG HOT WATER BOTTLE\n",
       "22112               CHOCOLATE HOT WATER BOTTLE\n",
       "22114        HOT WATER BOTTLE TEA AND SYMPATHY\n",
       "23355               HOT WATER BOTTLE KEEP CALM\n",
       "84030E           ENGLISH ROSE HOT WATER BOTTLE\n",
       "22632                HAND WARMER RED POLKA DOT\n",
       "22632                HAND WARMER RED RETROSPOT"
      ],
      "text/html": "<div>\n<style scoped>\n    .dataframe tbody tr th:only-of-type {\n        vertical-align: middle;\n    }\n\n    .dataframe tbody tr th {\n        vertical-align: top;\n    }\n\n    .dataframe thead th {\n        text-align: right;\n    }\n</style>\n<table border=\"1\" class=\"dataframe\">\n  <thead>\n    <tr style=\"text-align: right;\">\n      <th></th>\n      <th>Description</th>\n    </tr>\n    <tr>\n      <th>StockCode</th>\n      <th></th>\n    </tr>\n  </thead>\n  <tbody>\n    <tr>\n      <th>84029E</th>\n      <td>RED WOOLLY HOTTIE WHITE HEART.</td>\n    </tr>\n    <tr>\n      <th>84029G</th>\n      <td>KNITTED UNION FLAG HOT WATER BOTTLE</td>\n    </tr>\n    <tr>\n      <th>21479</th>\n      <td>WHITE SKULL HOT WATER BOTTLE</td>\n    </tr>\n    <tr>\n      <th>21485</th>\n      <td>RETROSPOT HEART HOT WATER BOTTLE</td>\n    </tr>\n    <tr>\n      <th>22111</th>\n      <td>SCOTTIE DOG HOT WATER BOTTLE</td>\n    </tr>\n    <tr>\n      <th>22112</th>\n      <td>CHOCOLATE HOT WATER BOTTLE</td>\n    </tr>\n    <tr>\n      <th>22114</th>\n      <td>HOT WATER BOTTLE TEA AND SYMPATHY</td>\n    </tr>\n    <tr>\n      <th>23355</th>\n      <td>HOT WATER BOTTLE KEEP CALM</td>\n    </tr>\n    <tr>\n      <th>84030E</th>\n      <td>ENGLISH ROSE HOT WATER BOTTLE</td>\n    </tr>\n    <tr>\n      <th>22632</th>\n      <td>HAND WARMER RED POLKA DOT</td>\n    </tr>\n    <tr>\n      <th>22632</th>\n      <td>HAND WARMER RED RETROSPOT</td>\n    </tr>\n  </tbody>\n</table>\n</div>"
     },
     "metadata": {},
     "execution_count": 62
    }
   ],
   "source": [
    "rec_items(\"84029E\")"
   ]
  },
  {
   "cell_type": "code",
   "execution_count": null,
   "metadata": {},
   "outputs": [],
   "source": []
  }
 ]
}