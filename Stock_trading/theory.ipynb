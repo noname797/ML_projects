{
 "cells": [
  {
   "cell_type": "markdown",
   "metadata": {},
   "source": [
    "# State\n",
    "* Consider a time series of fixed window of past and current stock prices.\n",
    "* Do we have enough cash to buy the stocks we want to buy?\n",
    "* Given the prices of existing shares I own, is it worth selling thme  so I can buy more of a different stock?\n",
    "\n",
    "## Check something called DDPG\n",
    "\n",
    "### Extracting few features from DDPG Simplifying state\n",
    "* How many shares of each stock I own\n",
    "* Current stock price\n",
    "* How much pure cash we have. ( Uninvested.)\n",
    "* For N stocks the state will have 2N+1 components.\n",
    "* state=[#shares owned, share prices,cash]\n",
    "\n",
    "# Action\n",
    "* For any stock I can buy sell hold\n",
    "* For 3 stocks we'll have 3^3 possibilities. But we dont know the number of shares to buy sell, hold\n",
    "\n",
    "### Simplifying actions\n",
    "* Ignoring transaction cost\n",
    "* If we sell we will sell all shares of that stock we own.\n",
    "* If we buy we will buy as many as possible. but what is as many as possible? \n",
    "#### Search for knapsack problem.  NP is hard.\n",
    "* Greedy approach :  we will do in round robin fashion. ie loop through every stock and buy 1 share until we run out of money.\n",
    "* sell before we buy leaving us with more cash.\n",
    "\n",
    "\n",
    "# Reward\n",
    "* Change in the value of portfolio"
   ]
  },
  {
   "cell_type": "markdown",
   "metadata": {},
   "source": [
    "# Efficient replay buffer\n",
    "* a buffer is essentially a python list\n",
    "* Each element will be a tuple of (s,a,r,s',done)\n",
    "* we will add new tuples as we encounter them\n",
    "* It will have a maximum size so will function as a limited queue\n",
    "* An efficient way is to use a circular queue. Instead of using lists and sampling from them."
   ]
  },
  {
   "cell_type": "code",
   "execution_count": null,
   "metadata": {},
   "outputs": [],
   "source": []
  }
 ],
 "metadata": {
  "language_info": {
   "name": "python"
  },
  "orig_nbformat": 4
 },
 "nbformat": 4,
 "nbformat_minor": 2
}
