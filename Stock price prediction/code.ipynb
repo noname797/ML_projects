{
  "nbformat": 4,
  "nbformat_minor": 0,
  "metadata": {
    "language_info": {
      "codemirror_mode": {
        "name": "ipython",
        "version": 3
      },
      "file_extension": ".py",
      "mimetype": "text/x-python",
      "name": "python",
      "nbconvert_exporter": "python",
      "pygments_lexer": "ipython3",
      "version": "3.8.8"
    },
    "orig_nbformat": 2,
    "kernelspec": {
      "name": "python388jvsc74a57bd0ff480e63e399c2b314f59e3833d4af68f8e77545aea2a09ff77ee9a3718da042",
      "display_name": "Python 3.8.8 64-bit ('base': conda)"
    },
    "metadata": {
      "interpreter": {
        "hash": "ff480e63e399c2b314f59e3833d4af68f8e77545aea2a09ff77ee9a3718da042"
      }
    },
    "colab": {
      "name": "Copy of code.ipynb",
      "provenance": [],
      "collapsed_sections": []
    }
  },
  "cells": [
    {
      "cell_type": "markdown",
      "metadata": {
        "id": "1X2b3roER6VN"
      },
      "source": [
        "# Using LSTM"
      ]
    },
    {
      "cell_type": "code",
      "metadata": {
        "id": "J6DkDmdDRzId"
      },
      "source": [
        "import tensorflow as tf\n",
        "from tensorflow.keras.layers import Input,Dense,LSTM,GRU,GlobalAveragePooling3D\n",
        "from tensorflow.keras.models import Model\n",
        "from tensorflow.keras.optimizers import SGD,Adam\n",
        "import numpy as np\n",
        "import pandas as pd\n",
        "import matplotlib.pyplot as plt\n",
        "from sklearn.preprocessing import StandardScaler"
      ],
      "execution_count": 2,
      "outputs": []
    },
    {
      "cell_type": "code",
      "metadata": {
        "id": "IO_psFMcRzId"
      },
      "source": [
        "df=pd.read_csv(\"/content/HDFCBANK.NS.csv\")"
      ],
      "execution_count": 3,
      "outputs": []
    },
    {
      "cell_type": "code",
      "metadata": {
        "id": "nEj6Ls_KUc6k",
        "colab": {
          "base_uri": "https://localhost:8080/",
          "height": 204
        },
        "outputId": "5d5e80fe-b6b7-45bb-ce01-87e3e255b222"
      },
      "source": [
        "df.head()"
      ],
      "execution_count": 4,
      "outputs": [
        {
          "output_type": "execute_result",
          "data": {
            "text/html": [
              "<div>\n",
              "<style scoped>\n",
              "    .dataframe tbody tr th:only-of-type {\n",
              "        vertical-align: middle;\n",
              "    }\n",
              "\n",
              "    .dataframe tbody tr th {\n",
              "        vertical-align: top;\n",
              "    }\n",
              "\n",
              "    .dataframe thead th {\n",
              "        text-align: right;\n",
              "    }\n",
              "</style>\n",
              "<table border=\"1\" class=\"dataframe\">\n",
              "  <thead>\n",
              "    <tr style=\"text-align: right;\">\n",
              "      <th></th>\n",
              "      <th>Date</th>\n",
              "      <th>Open</th>\n",
              "      <th>High</th>\n",
              "      <th>Low</th>\n",
              "      <th>Close</th>\n",
              "      <th>Adj Close</th>\n",
              "      <th>Volume</th>\n",
              "    </tr>\n",
              "  </thead>\n",
              "  <tbody>\n",
              "    <tr>\n",
              "      <th>0</th>\n",
              "      <td>2016-05-30</td>\n",
              "      <td>593.500000</td>\n",
              "      <td>597.500000</td>\n",
              "      <td>589.049988</td>\n",
              "      <td>589.875000</td>\n",
              "      <td>572.680298</td>\n",
              "      <td>1907266.0</td>\n",
              "    </tr>\n",
              "    <tr>\n",
              "      <th>1</th>\n",
              "      <td>2016-05-31</td>\n",
              "      <td>592.950012</td>\n",
              "      <td>592.950012</td>\n",
              "      <td>588.700012</td>\n",
              "      <td>590.950012</td>\n",
              "      <td>573.723999</td>\n",
              "      <td>2757820.0</td>\n",
              "    </tr>\n",
              "    <tr>\n",
              "      <th>2</th>\n",
              "      <td>2016-06-01</td>\n",
              "      <td>591.474976</td>\n",
              "      <td>591.474976</td>\n",
              "      <td>585.500000</td>\n",
              "      <td>587.575012</td>\n",
              "      <td>570.447449</td>\n",
              "      <td>2837816.0</td>\n",
              "    </tr>\n",
              "    <tr>\n",
              "      <th>3</th>\n",
              "      <td>2016-06-02</td>\n",
              "      <td>587.349976</td>\n",
              "      <td>590.299988</td>\n",
              "      <td>585.500000</td>\n",
              "      <td>587.474976</td>\n",
              "      <td>570.350220</td>\n",
              "      <td>3955308.0</td>\n",
              "    </tr>\n",
              "    <tr>\n",
              "      <th>4</th>\n",
              "      <td>2016-06-03</td>\n",
              "      <td>590.049988</td>\n",
              "      <td>592.500000</td>\n",
              "      <td>584.525024</td>\n",
              "      <td>585.875000</td>\n",
              "      <td>568.796936</td>\n",
              "      <td>2262210.0</td>\n",
              "    </tr>\n",
              "  </tbody>\n",
              "</table>\n",
              "</div>"
            ],
            "text/plain": [
              "         Date        Open        High  ...       Close   Adj Close     Volume\n",
              "0  2016-05-30  593.500000  597.500000  ...  589.875000  572.680298  1907266.0\n",
              "1  2016-05-31  592.950012  592.950012  ...  590.950012  573.723999  2757820.0\n",
              "2  2016-06-01  591.474976  591.474976  ...  587.575012  570.447449  2837816.0\n",
              "3  2016-06-02  587.349976  590.299988  ...  587.474976  570.350220  3955308.0\n",
              "4  2016-06-03  590.049988  592.500000  ...  585.875000  568.796936  2262210.0\n",
              "\n",
              "[5 rows x 7 columns]"
            ]
          },
          "metadata": {
            "tags": []
          },
          "execution_count": 4
        }
      ]
    },
    {
      "cell_type": "code",
      "metadata": {
        "id": "_8IskmFLUd4R",
        "colab": {
          "base_uri": "https://localhost:8080/",
          "height": 204
        },
        "outputId": "fcc9dacb-fcfa-4f8d-c89c-a2cd4e6625f8"
      },
      "source": [
        "df.tail()"
      ],
      "execution_count": 5,
      "outputs": [
        {
          "output_type": "execute_result",
          "data": {
            "text/html": [
              "<div>\n",
              "<style scoped>\n",
              "    .dataframe tbody tr th:only-of-type {\n",
              "        vertical-align: middle;\n",
              "    }\n",
              "\n",
              "    .dataframe tbody tr th {\n",
              "        vertical-align: top;\n",
              "    }\n",
              "\n",
              "    .dataframe thead th {\n",
              "        text-align: right;\n",
              "    }\n",
              "</style>\n",
              "<table border=\"1\" class=\"dataframe\">\n",
              "  <thead>\n",
              "    <tr style=\"text-align: right;\">\n",
              "      <th></th>\n",
              "      <th>Date</th>\n",
              "      <th>Open</th>\n",
              "      <th>High</th>\n",
              "      <th>Low</th>\n",
              "      <th>Close</th>\n",
              "      <th>Adj Close</th>\n",
              "      <th>Volume</th>\n",
              "    </tr>\n",
              "  </thead>\n",
              "  <tbody>\n",
              "    <tr>\n",
              "      <th>1228</th>\n",
              "      <td>2021-05-21</td>\n",
              "      <td>1443.000000</td>\n",
              "      <td>1501.900024</td>\n",
              "      <td>1443.000000</td>\n",
              "      <td>1497.300049</td>\n",
              "      <td>1497.300049</td>\n",
              "      <td>9670823.0</td>\n",
              "    </tr>\n",
              "    <tr>\n",
              "      <th>1229</th>\n",
              "      <td>2021-05-24</td>\n",
              "      <td>1503.250000</td>\n",
              "      <td>1520.449951</td>\n",
              "      <td>1498.500000</td>\n",
              "      <td>1509.949951</td>\n",
              "      <td>1509.949951</td>\n",
              "      <td>11073051.0</td>\n",
              "    </tr>\n",
              "    <tr>\n",
              "      <th>1230</th>\n",
              "      <td>2021-05-25</td>\n",
              "      <td>1510.500000</td>\n",
              "      <td>1513.750000</td>\n",
              "      <td>1470.500000</td>\n",
              "      <td>1478.949951</td>\n",
              "      <td>1478.949951</td>\n",
              "      <td>9618487.0</td>\n",
              "    </tr>\n",
              "    <tr>\n",
              "      <th>1231</th>\n",
              "      <td>2021-05-26</td>\n",
              "      <td>1480.000000</td>\n",
              "      <td>1487.000000</td>\n",
              "      <td>1470.000000</td>\n",
              "      <td>1477.050049</td>\n",
              "      <td>1477.050049</td>\n",
              "      <td>6141995.0</td>\n",
              "    </tr>\n",
              "    <tr>\n",
              "      <th>1232</th>\n",
              "      <td>2021-05-27</td>\n",
              "      <td>1473.099976</td>\n",
              "      <td>1489.000000</td>\n",
              "      <td>1462.449951</td>\n",
              "      <td>1482.650024</td>\n",
              "      <td>1482.650024</td>\n",
              "      <td>10219748.0</td>\n",
              "    </tr>\n",
              "  </tbody>\n",
              "</table>\n",
              "</div>"
            ],
            "text/plain": [
              "            Date         Open  ...    Adj Close      Volume\n",
              "1228  2021-05-21  1443.000000  ...  1497.300049   9670823.0\n",
              "1229  2021-05-24  1503.250000  ...  1509.949951  11073051.0\n",
              "1230  2021-05-25  1510.500000  ...  1478.949951   9618487.0\n",
              "1231  2021-05-26  1480.000000  ...  1477.050049   6141995.0\n",
              "1232  2021-05-27  1473.099976  ...  1482.650024  10219748.0\n",
              "\n",
              "[5 rows x 7 columns]"
            ]
          },
          "metadata": {
            "tags": []
          },
          "execution_count": 5
        }
      ]
    },
    {
      "cell_type": "code",
      "metadata": {
        "id": "Y8qKToofUoL7"
      },
      "source": [
        "# The wrong thing\n",
        "\n",
        "series=df[\"Close\"].values.reshape(-1,1)\n",
        "\n"
      ],
      "execution_count": 6,
      "outputs": []
    },
    {
      "cell_type": "code",
      "metadata": {
        "id": "6_3CZuVPVKvM",
        "colab": {
          "base_uri": "https://localhost:8080/"
        },
        "outputId": "e9f3f5a5-48ba-4b85-a46e-9134af55dc67"
      },
      "source": [
        "series.shape"
      ],
      "execution_count": 7,
      "outputs": [
        {
          "output_type": "execute_result",
          "data": {
            "text/plain": [
              "(1233, 1)"
            ]
          },
          "metadata": {
            "tags": []
          },
          "execution_count": 7
        }
      ]
    },
    {
      "cell_type": "code",
      "metadata": {
        "id": "iN0vE9yCVOmw"
      },
      "source": [
        "#Normalising\n",
        "scaler=StandardScaler()\n",
        "scaler.fit(series[:len(series)//2]) #Find appropriate test boundary by hyper parameter optimization\n",
        "series=scaler.transform(series).flatten()\n",
        "\n"
      ],
      "execution_count": 8,
      "outputs": []
    },
    {
      "cell_type": "code",
      "metadata": {
        "id": "RCU0NWllVzMN",
        "colab": {
          "base_uri": "https://localhost:8080/"
        },
        "outputId": "74d078c4-c5ef-479a-b0a3-6e56dfbc9d0c"
      },
      "source": [
        "series.shape"
      ],
      "execution_count": 9,
      "outputs": [
        {
          "output_type": "execute_result",
          "data": {
            "text/plain": [
              "(1233,)"
            ]
          },
          "metadata": {
            "tags": []
          },
          "execution_count": 9
        }
      ]
    },
    {
      "cell_type": "code",
      "metadata": {
        "id": "a1WChZagV8ed",
        "colab": {
          "base_uri": "https://localhost:8080/"
        },
        "outputId": "ee3e3312-84f1-441f-83f3-c921d396d8ab"
      },
      "source": [
        "T=10\n",
        "D=1\n",
        "X=[]\n",
        "y=[]\n",
        "for t in range(len(series)-T):\n",
        "  X.append(series[t:t+T])\n",
        "  y.append(series[t+T])\n",
        "X=np.array(X).reshape(-1,T,1)\n",
        "y=np.array(y)\n",
        "N=len(X)\n",
        "print(\"X.shape \",X.shape,\"y.shape\",y.shape)"
      ],
      "execution_count": 10,
      "outputs": [
        {
          "output_type": "stream",
          "text": [
            "X.shape  (1223, 10, 1) y.shape (1223,)\n"
          ],
          "name": "stdout"
        }
      ]
    },
    {
      "cell_type": "code",
      "metadata": {
        "id": "Mnxb16_9WyQd",
        "colab": {
          "base_uri": "https://localhost:8080/"
        },
        "outputId": "7073e49d-da66-4d7f-ee80-2e9561e80d7a"
      },
      "source": [
        "i=Input(shape=(T,1))\n",
        "x=LSTM(5)(i)\n",
        "x=Dense(1)(x)\n",
        "model=Model(i,x)\n",
        "model.compile(loss=\"mse\",optimizer=Adam(lr=0.01))\n",
        "\n",
        "history=model.fit(X[:-N//2],y[:-N//2],epochs=80,validation_data=(X[-N//2:],y[-N//2:]))"
      ],
      "execution_count": 12,
      "outputs": [
        {
          "output_type": "stream",
          "text": [
            "/usr/local/lib/python3.7/dist-packages/tensorflow/python/keras/optimizer_v2/optimizer_v2.py:375: UserWarning: The `lr` argument is deprecated, use `learning_rate` instead.\n",
            "  \"The `lr` argument is deprecated, use `learning_rate` instead.\")\n"
          ],
          "name": "stderr"
        },
        {
          "output_type": "stream",
          "text": [
            "Epoch 1/80\n",
            "20/20 [==============================] - 3s 33ms/step - loss: 0.1055 - val_loss: nan\n",
            "Epoch 2/80\n",
            "20/20 [==============================] - 0s 8ms/step - loss: 0.0172 - val_loss: nan\n",
            "Epoch 3/80\n",
            "20/20 [==============================] - 0s 7ms/step - loss: 0.0137 - val_loss: nan\n",
            "Epoch 4/80\n",
            "20/20 [==============================] - 0s 7ms/step - loss: 0.0098 - val_loss: nan\n",
            "Epoch 5/80\n",
            "20/20 [==============================] - 0s 7ms/step - loss: 0.0083 - val_loss: nan\n",
            "Epoch 6/80\n",
            "20/20 [==============================] - 0s 9ms/step - loss: 0.0071 - val_loss: nan\n",
            "Epoch 7/80\n",
            "20/20 [==============================] - 0s 7ms/step - loss: 0.0061 - val_loss: nan\n",
            "Epoch 8/80\n",
            "20/20 [==============================] - 0s 7ms/step - loss: 0.0054 - val_loss: nan\n",
            "Epoch 9/80\n",
            "20/20 [==============================] - 0s 8ms/step - loss: 0.0054 - val_loss: nan\n",
            "Epoch 10/80\n",
            "20/20 [==============================] - 0s 9ms/step - loss: 0.0050 - val_loss: nan\n",
            "Epoch 11/80\n",
            "20/20 [==============================] - 0s 7ms/step - loss: 0.0047 - val_loss: nan\n",
            "Epoch 12/80\n",
            "20/20 [==============================] - 0s 8ms/step - loss: 0.0048 - val_loss: nan\n",
            "Epoch 13/80\n",
            "20/20 [==============================] - 0s 7ms/step - loss: 0.0048 - val_loss: nan\n",
            "Epoch 14/80\n",
            "20/20 [==============================] - 0s 10ms/step - loss: 0.0045 - val_loss: nan\n",
            "Epoch 15/80\n",
            "20/20 [==============================] - 0s 8ms/step - loss: 0.0048 - val_loss: nan\n",
            "Epoch 16/80\n",
            "20/20 [==============================] - 0s 7ms/step - loss: 0.0044 - val_loss: nan\n",
            "Epoch 17/80\n",
            "20/20 [==============================] - 0s 8ms/step - loss: 0.0041 - val_loss: nan\n",
            "Epoch 18/80\n",
            "20/20 [==============================] - 0s 10ms/step - loss: 0.0040 - val_loss: nan\n",
            "Epoch 19/80\n",
            "20/20 [==============================] - 0s 8ms/step - loss: 0.0040 - val_loss: nan\n",
            "Epoch 20/80\n",
            "20/20 [==============================] - 0s 7ms/step - loss: 0.0037 - val_loss: nan\n",
            "Epoch 21/80\n",
            "20/20 [==============================] - 0s 8ms/step - loss: 0.0037 - val_loss: nan\n",
            "Epoch 22/80\n",
            "20/20 [==============================] - 0s 8ms/step - loss: 0.0039 - val_loss: nan\n",
            "Epoch 23/80\n",
            "20/20 [==============================] - 0s 9ms/step - loss: 0.0035 - val_loss: nan\n",
            "Epoch 24/80\n",
            "20/20 [==============================] - 0s 8ms/step - loss: 0.0035 - val_loss: nan\n",
            "Epoch 25/80\n",
            "20/20 [==============================] - 0s 9ms/step - loss: 0.0039 - val_loss: nan\n",
            "Epoch 26/80\n",
            "20/20 [==============================] - 0s 8ms/step - loss: 0.0041 - val_loss: nan\n",
            "Epoch 27/80\n",
            "20/20 [==============================] - 0s 7ms/step - loss: 0.0040 - val_loss: nan\n",
            "Epoch 28/80\n",
            "20/20 [==============================] - 0s 7ms/step - loss: 0.0034 - val_loss: nan\n",
            "Epoch 29/80\n",
            "20/20 [==============================] - 0s 10ms/step - loss: 0.0034 - val_loss: nan\n",
            "Epoch 30/80\n",
            "20/20 [==============================] - 0s 8ms/step - loss: 0.0032 - val_loss: nan\n",
            "Epoch 31/80\n",
            "20/20 [==============================] - 0s 7ms/step - loss: 0.0038 - val_loss: nan\n",
            "Epoch 32/80\n",
            "20/20 [==============================] - 0s 8ms/step - loss: 0.0031 - val_loss: nan\n",
            "Epoch 33/80\n",
            "20/20 [==============================] - 0s 8ms/step - loss: 0.0033 - val_loss: nan\n",
            "Epoch 34/80\n",
            "20/20 [==============================] - 0s 9ms/step - loss: 0.0031 - val_loss: nan\n",
            "Epoch 35/80\n",
            "20/20 [==============================] - 0s 9ms/step - loss: 0.0034 - val_loss: nan\n",
            "Epoch 36/80\n",
            "20/20 [==============================] - 0s 8ms/step - loss: 0.0033 - val_loss: nan\n",
            "Epoch 37/80\n",
            "20/20 [==============================] - 0s 7ms/step - loss: 0.0031 - val_loss: nan\n",
            "Epoch 38/80\n",
            "20/20 [==============================] - 0s 9ms/step - loss: 0.0035 - val_loss: nan\n",
            "Epoch 39/80\n",
            "20/20 [==============================] - 0s 8ms/step - loss: 0.0036 - val_loss: nan\n",
            "Epoch 40/80\n",
            "20/20 [==============================] - 0s 7ms/step - loss: 0.0030 - val_loss: nan\n",
            "Epoch 41/80\n",
            "20/20 [==============================] - 0s 7ms/step - loss: 0.0033 - val_loss: nan\n",
            "Epoch 42/80\n",
            "20/20 [==============================] - 0s 9ms/step - loss: 0.0044 - val_loss: nan\n",
            "Epoch 43/80\n",
            "20/20 [==============================] - 0s 7ms/step - loss: 0.0030 - val_loss: nan\n",
            "Epoch 44/80\n",
            "20/20 [==============================] - 0s 9ms/step - loss: 0.0036 - val_loss: nan\n",
            "Epoch 45/80\n",
            "20/20 [==============================] - 0s 7ms/step - loss: 0.0031 - val_loss: nan\n",
            "Epoch 46/80\n",
            "20/20 [==============================] - 0s 9ms/step - loss: 0.0031 - val_loss: nan\n",
            "Epoch 47/80\n",
            "20/20 [==============================] - 0s 7ms/step - loss: 0.0031 - val_loss: nan\n",
            "Epoch 48/80\n",
            "20/20 [==============================] - 0s 7ms/step - loss: 0.0031 - val_loss: nan\n",
            "Epoch 49/80\n",
            "20/20 [==============================] - 0s 8ms/step - loss: 0.0029 - val_loss: nan\n",
            "Epoch 50/80\n",
            "20/20 [==============================] - 0s 9ms/step - loss: 0.0029 - val_loss: nan\n",
            "Epoch 51/80\n",
            "20/20 [==============================] - 0s 7ms/step - loss: 0.0029 - val_loss: nan\n",
            "Epoch 52/80\n",
            "20/20 [==============================] - 0s 7ms/step - loss: 0.0028 - val_loss: nan\n",
            "Epoch 53/80\n",
            "20/20 [==============================] - 0s 9ms/step - loss: 0.0028 - val_loss: nan\n",
            "Epoch 54/80\n",
            "20/20 [==============================] - 0s 9ms/step - loss: 0.0028 - val_loss: nan\n",
            "Epoch 55/80\n",
            "20/20 [==============================] - 0s 11ms/step - loss: 0.0030 - val_loss: nan\n",
            "Epoch 56/80\n",
            "20/20 [==============================] - 0s 8ms/step - loss: 0.0030 - val_loss: nan\n",
            "Epoch 57/80\n",
            "20/20 [==============================] - 0s 7ms/step - loss: 0.0028 - val_loss: nan\n",
            "Epoch 58/80\n",
            "20/20 [==============================] - 0s 8ms/step - loss: 0.0030 - val_loss: nan\n",
            "Epoch 59/80\n",
            "20/20 [==============================] - 0s 9ms/step - loss: 0.0035 - val_loss: nan\n",
            "Epoch 60/80\n",
            "20/20 [==============================] - 0s 8ms/step - loss: 0.0028 - val_loss: nan\n",
            "Epoch 61/80\n",
            "20/20 [==============================] - 0s 8ms/step - loss: 0.0028 - val_loss: nan\n",
            "Epoch 62/80\n",
            "20/20 [==============================] - 0s 8ms/step - loss: 0.0029 - val_loss: nan\n",
            "Epoch 63/80\n",
            "20/20 [==============================] - 0s 10ms/step - loss: 0.0030 - val_loss: nan\n",
            "Epoch 64/80\n",
            "20/20 [==============================] - 0s 9ms/step - loss: 0.0029 - val_loss: nan\n",
            "Epoch 65/80\n",
            "20/20 [==============================] - 0s 9ms/step - loss: 0.0029 - val_loss: nan\n",
            "Epoch 66/80\n",
            "20/20 [==============================] - 0s 8ms/step - loss: 0.0029 - val_loss: nan\n",
            "Epoch 67/80\n",
            "20/20 [==============================] - 0s 8ms/step - loss: 0.0029 - val_loss: nan\n",
            "Epoch 68/80\n",
            "20/20 [==============================] - 0s 7ms/step - loss: 0.0028 - val_loss: nan\n",
            "Epoch 69/80\n",
            "20/20 [==============================] - 0s 7ms/step - loss: 0.0026 - val_loss: nan\n",
            "Epoch 70/80\n",
            "20/20 [==============================] - 0s 8ms/step - loss: 0.0027 - val_loss: nan\n",
            "Epoch 71/80\n",
            "20/20 [==============================] - 0s 10ms/step - loss: 0.0031 - val_loss: nan\n",
            "Epoch 72/80\n",
            "20/20 [==============================] - 0s 9ms/step - loss: 0.0026 - val_loss: nan\n",
            "Epoch 73/80\n",
            "20/20 [==============================] - 0s 10ms/step - loss: 0.0028 - val_loss: nan\n",
            "Epoch 74/80\n",
            "20/20 [==============================] - 0s 7ms/step - loss: 0.0028 - val_loss: nan\n",
            "Epoch 75/80\n",
            "20/20 [==============================] - 0s 11ms/step - loss: 0.0029 - val_loss: nan\n",
            "Epoch 76/80\n",
            "20/20 [==============================] - 0s 12ms/step - loss: 0.0028 - val_loss: nan\n",
            "Epoch 77/80\n",
            "20/20 [==============================] - 0s 11ms/step - loss: 0.0026 - val_loss: nan\n",
            "Epoch 78/80\n",
            "20/20 [==============================] - 0s 9ms/step - loss: 0.0038 - val_loss: nan\n",
            "Epoch 79/80\n",
            "20/20 [==============================] - 0s 9ms/step - loss: 0.0028 - val_loss: nan\n",
            "Epoch 80/80\n",
            "20/20 [==============================] - 0s 9ms/step - loss: 0.0027 - val_loss: nan\n"
          ],
          "name": "stdout"
        }
      ]
    },
    {
      "cell_type": "code",
      "metadata": {
        "id": "439SqXoqW_U3",
        "colab": {
          "base_uri": "https://localhost:8080/",
          "height": 282
        },
        "outputId": "9e99f69b-5455-4019-8ea8-17f433ee88b7"
      },
      "source": [
        "pd.DataFrame(history.history).plot()"
      ],
      "execution_count": 13,
      "outputs": [
        {
          "output_type": "execute_result",
          "data": {
            "text/plain": [
              "<matplotlib.axes._subplots.AxesSubplot at 0x7fbb80e56710>"
            ]
          },
          "metadata": {
            "tags": []
          },
          "execution_count": 13
        },
        {
          "output_type": "display_data",
          "data": {
            "image/png": "[encoded data removed]",
            "text/plain": [
              "<Figure size 432x288 with 1 Axes>"
            ]
          },
          "metadata": {
            "tags": [],
            "needs_background": "light"
          }
        }
      ]
    },
    {
      "cell_type": "code",
      "metadata": {
        "id": "Wg19Fv54XD1J",
        "colab": {
          "base_uri": "https://localhost:8080/",
          "height": 282
        },
        "outputId": "b1634588-337e-4077-e019-cae9923da6b2"
      },
      "source": [
        "# one step forecast\n",
        "output=model.predict(X)\n",
        "print(output.shape)\n",
        "predictions=output[:,0]\n",
        "plt.plot(y,label=\"Targets\")\n",
        "plt.plot(predictions,label=\"predictions\")\n",
        "plt.legend()\n",
        "plt.show()"
      ],
      "execution_count": 14,
      "outputs": [
        {
          "output_type": "stream",
          "text": [
            "(1223, 1)\n"
          ],
          "name": "stdout"
        },
        {
          "output_type": "display_data",
          "data": {
            "image/png": "[encoded data removed]",
            "text/plain": [
              "<Figure size 432x288 with 1 Axes>"
            ]
          },
          "metadata": {
            "tags": [],
            "needs_background": "light"
          }
        }
      ]
    },
    {
      "cell_type": "code",
      "metadata": {
        "id": "_pE_h7jtYwan"
      },
      "source": [
        "#Multistep forecast\n",
        "validation_target=y[-N//2:]\n",
        "validation_predictions=[]\n",
        "last_x=X[-N//2]\n",
        "while len(validation_predictions)<len(validation_target):\n",
        "  validation_predictions.append(model.predict(last_x.reshape(-1,T,1))[0,0])\n",
        "  last_x=np.roll(last_x,-1)\n",
        "  last_x[-1]=model.predict(last_x.reshape(-1,T,1))[0,0]\n"
      ],
      "execution_count": 15,
      "outputs": []
    },
    {
      "cell_type": "code",
      "metadata": {
        "id": "6M8AdAlXZtQl",
        "colab": {
          "base_uri": "https://localhost:8080/",
          "height": 282
        },
        "outputId": "cfbe69c3-c45c-46ce-f658-94c75f7549ed"
      },
      "source": [
        "plt.plot(validation_target,label=\"Forecast Target\")\n",
        "plt.plot(validation_predictions,label=\"Forecast Prediction\")\n",
        "plt.legend()"
      ],
      "execution_count": 16,
      "outputs": [
        {
          "output_type": "execute_result",
          "data": {
            "text/plain": [
              "<matplotlib.legend.Legend at 0x7fbb7c71dc50>"
            ]
          },
          "metadata": {
            "tags": []
          },
          "execution_count": 16
        },
        {
          "output_type": "display_data",
          "data": {
            "image/png": "[encoded data removed]",
            "text/plain": [
              "<Figure size 432x288 with 1 Axes>"
            ]
          },
          "metadata": {
            "tags": [],
            "needs_background": "light"
          }
        }
      ]
    },
    {
      "cell_type": "code",
      "metadata": {
        "id": "iqdCvD4ZZ_v0"
      },
      "source": [
        "## model doesnt predict the new values. This model isn't doing much"
      ],
      "execution_count": 17,
      "outputs": []
    },
    {
      "cell_type": "code",
      "metadata": {
        "id": "eHFw_JvRaeMd"
      },
      "source": [
        "# stock return are calculated not prices"
      ],
      "execution_count": 18,
      "outputs": []
    },
    {
      "cell_type": "code",
      "metadata": {
        "id": "NEJst25Xamc0"
      },
      "source": [
        "df[\"Prev_Close\"]=df[\"Close\"].shift(1)"
      ],
      "execution_count": 19,
      "outputs": []
    },
    {
      "cell_type": "code",
      "metadata": {
        "id": "Ov_7-ygka4do",
        "colab": {
          "base_uri": "https://localhost:8080/",
          "height": 204
        },
        "outputId": "d91deef0-72b0-4ecc-cbfc-c497821dc740"
      },
      "source": [
        "df.head()"
      ],
      "execution_count": 20,
      "outputs": [
        {
          "output_type": "execute_result",
          "data": {
            "text/html": [
              "<div>\n",
              "<style scoped>\n",
              "    .dataframe tbody tr th:only-of-type {\n",
              "        vertical-align: middle;\n",
              "    }\n",
              "\n",
              "    .dataframe tbody tr th {\n",
              "        vertical-align: top;\n",
              "    }\n",
              "\n",
              "    .dataframe thead th {\n",
              "        text-align: right;\n",
              "    }\n",
              "</style>\n",
              "<table border=\"1\" class=\"dataframe\">\n",
              "  <thead>\n",
              "    <tr style=\"text-align: right;\">\n",
              "      <th></th>\n",
              "      <th>Date</th>\n",
              "      <th>Open</th>\n",
              "      <th>High</th>\n",
              "      <th>Low</th>\n",
              "      <th>Close</th>\n",
              "      <th>Adj Close</th>\n",
              "      <th>Volume</th>\n",
              "      <th>Prev_Close</th>\n",
              "    </tr>\n",
              "  </thead>\n",
              "  <tbody>\n",
              "    <tr>\n",
              "      <th>0</th>\n",
              "      <td>2016-05-30</td>\n",
              "      <td>593.500000</td>\n",
              "      <td>597.500000</td>\n",
              "      <td>589.049988</td>\n",
              "      <td>589.875000</td>\n",
              "      <td>572.680298</td>\n",
              "      <td>1907266.0</td>\n",
              "      <td>NaN</td>\n",
              "    </tr>\n",
              "    <tr>\n",
              "      <th>1</th>\n",
              "      <td>2016-05-31</td>\n",
              "      <td>592.950012</td>\n",
              "      <td>592.950012</td>\n",
              "      <td>588.700012</td>\n",
              "      <td>590.950012</td>\n",
              "      <td>573.723999</td>\n",
              "      <td>2757820.0</td>\n",
              "      <td>589.875000</td>\n",
              "    </tr>\n",
              "    <tr>\n",
              "      <th>2</th>\n",
              "      <td>2016-06-01</td>\n",
              "      <td>591.474976</td>\n",
              "      <td>591.474976</td>\n",
              "      <td>585.500000</td>\n",
              "      <td>587.575012</td>\n",
              "      <td>570.447449</td>\n",
              "      <td>2837816.0</td>\n",
              "      <td>590.950012</td>\n",
              "    </tr>\n",
              "    <tr>\n",
              "      <th>3</th>\n",
              "      <td>2016-06-02</td>\n",
              "      <td>587.349976</td>\n",
              "      <td>590.299988</td>\n",
              "      <td>585.500000</td>\n",
              "      <td>587.474976</td>\n",
              "      <td>570.350220</td>\n",
              "      <td>3955308.0</td>\n",
              "      <td>587.575012</td>\n",
              "    </tr>\n",
              "    <tr>\n",
              "      <th>4</th>\n",
              "      <td>2016-06-03</td>\n",
              "      <td>590.049988</td>\n",
              "      <td>592.500000</td>\n",
              "      <td>584.525024</td>\n",
              "      <td>585.875000</td>\n",
              "      <td>568.796936</td>\n",
              "      <td>2262210.0</td>\n",
              "      <td>587.474976</td>\n",
              "    </tr>\n",
              "  </tbody>\n",
              "</table>\n",
              "</div>"
            ],
            "text/plain": [
              "         Date        Open        High  ...   Adj Close     Volume  Prev_Close\n",
              "0  2016-05-30  593.500000  597.500000  ...  572.680298  1907266.0         NaN\n",
              "1  2016-05-31  592.950012  592.950012  ...  573.723999  2757820.0  589.875000\n",
              "2  2016-06-01  591.474976  591.474976  ...  570.447449  2837816.0  590.950012\n",
              "3  2016-06-02  587.349976  590.299988  ...  570.350220  3955308.0  587.575012\n",
              "4  2016-06-03  590.049988  592.500000  ...  568.796936  2262210.0  587.474976\n",
              "\n",
              "[5 rows x 8 columns]"
            ]
          },
          "metadata": {
            "tags": []
          },
          "execution_count": 20
        }
      ]
    },
    {
      "cell_type": "code",
      "metadata": {
        "id": "Lso6af9la7ct"
      },
      "source": [
        "df[\"Return\"]=(df[\"Close\"]-df[\"Prev_Close\"])/df['Prev_Close']"
      ],
      "execution_count": 21,
      "outputs": []
    },
    {
      "cell_type": "code",
      "metadata": {
        "id": "WEa9JoXvbWuO",
        "colab": {
          "base_uri": "https://localhost:8080/",
          "height": 204
        },
        "outputId": "34fb0be1-2498-4631-e505-cea53f92f568"
      },
      "source": [
        "df.head()"
      ],
      "execution_count": 22,
      "outputs": [
        {
          "output_type": "execute_result",
          "data": {
            "text/html": [
              "<div>\n",
              "<style scoped>\n",
              "    .dataframe tbody tr th:only-of-type {\n",
              "        vertical-align: middle;\n",
              "    }\n",
              "\n",
              "    .dataframe tbody tr th {\n",
              "        vertical-align: top;\n",
              "    }\n",
              "\n",
              "    .dataframe thead th {\n",
              "        text-align: right;\n",
              "    }\n",
              "</style>\n",
              "<table border=\"1\" class=\"dataframe\">\n",
              "  <thead>\n",
              "    <tr style=\"text-align: right;\">\n",
              "      <th></th>\n",
              "      <th>Date</th>\n",
              "      <th>Open</th>\n",
              "      <th>High</th>\n",
              "      <th>Low</th>\n",
              "      <th>Close</th>\n",
              "      <th>Adj Close</th>\n",
              "      <th>Volume</th>\n",
              "      <th>Prev_Close</th>\n",
              "      <th>Return</th>\n",
              "    </tr>\n",
              "  </thead>\n",
              "  <tbody>\n",
              "    <tr>\n",
              "      <th>0</th>\n",
              "      <td>2016-05-30</td>\n",
              "      <td>593.500000</td>\n",
              "      <td>597.500000</td>\n",
              "      <td>589.049988</td>\n",
              "      <td>589.875000</td>\n",
              "      <td>572.680298</td>\n",
              "      <td>1907266.0</td>\n",
              "      <td>NaN</td>\n",
              "      <td>NaN</td>\n",
              "    </tr>\n",
              "    <tr>\n",
              "      <th>1</th>\n",
              "      <td>2016-05-31</td>\n",
              "      <td>592.950012</td>\n",
              "      <td>592.950012</td>\n",
              "      <td>588.700012</td>\n",
              "      <td>590.950012</td>\n",
              "      <td>573.723999</td>\n",
              "      <td>2757820.0</td>\n",
              "      <td>589.875000</td>\n",
              "      <td>0.001822</td>\n",
              "    </tr>\n",
              "    <tr>\n",
              "      <th>2</th>\n",
              "      <td>2016-06-01</td>\n",
              "      <td>591.474976</td>\n",
              "      <td>591.474976</td>\n",
              "      <td>585.500000</td>\n",
              "      <td>587.575012</td>\n",
              "      <td>570.447449</td>\n",
              "      <td>2837816.0</td>\n",
              "      <td>590.950012</td>\n",
              "      <td>-0.005711</td>\n",
              "    </tr>\n",
              "    <tr>\n",
              "      <th>3</th>\n",
              "      <td>2016-06-02</td>\n",
              "      <td>587.349976</td>\n",
              "      <td>590.299988</td>\n",
              "      <td>585.500000</td>\n",
              "      <td>587.474976</td>\n",
              "      <td>570.350220</td>\n",
              "      <td>3955308.0</td>\n",
              "      <td>587.575012</td>\n",
              "      <td>-0.000170</td>\n",
              "    </tr>\n",
              "    <tr>\n",
              "      <th>4</th>\n",
              "      <td>2016-06-03</td>\n",
              "      <td>590.049988</td>\n",
              "      <td>592.500000</td>\n",
              "      <td>584.525024</td>\n",
              "      <td>585.875000</td>\n",
              "      <td>568.796936</td>\n",
              "      <td>2262210.0</td>\n",
              "      <td>587.474976</td>\n",
              "      <td>-0.002723</td>\n",
              "    </tr>\n",
              "  </tbody>\n",
              "</table>\n",
              "</div>"
            ],
            "text/plain": [
              "         Date        Open        High  ...     Volume  Prev_Close    Return\n",
              "0  2016-05-30  593.500000  597.500000  ...  1907266.0         NaN       NaN\n",
              "1  2016-05-31  592.950012  592.950012  ...  2757820.0  589.875000  0.001822\n",
              "2  2016-06-01  591.474976  591.474976  ...  2837816.0  590.950012 -0.005711\n",
              "3  2016-06-02  587.349976  590.299988  ...  3955308.0  587.575012 -0.000170\n",
              "4  2016-06-03  590.049988  592.500000  ...  2262210.0  587.474976 -0.002723\n",
              "\n",
              "[5 rows x 9 columns]"
            ]
          },
          "metadata": {
            "tags": []
          },
          "execution_count": 22
        }
      ]
    },
    {
      "cell_type": "code",
      "metadata": {
        "id": "08ncEg8LbZr4",
        "colab": {
          "base_uri": "https://localhost:8080/",
          "height": 286
        },
        "outputId": "137bc6c9-80a9-469f-ff10-af02aafcc05e"
      },
      "source": [
        "df[\"Return\"].hist()"
      ],
      "execution_count": 23,
      "outputs": [
        {
          "output_type": "execute_result",
          "data": {
            "text/plain": [
              "<matplotlib.axes._subplots.AxesSubplot at 0x7fbb7d23bc10>"
            ]
          },
          "metadata": {
            "tags": []
          },
          "execution_count": 23
        },
        {
          "output_type": "display_data",
          "data": {
            "image/png": "[encoded data removed]",
            "text/plain": [
              "<Figure size 432x288 with 1 Axes>"
            ]
          },
          "metadata": {
            "tags": [],
            "needs_background": "light"
          }
        }
      ]
    },
    {
      "cell_type": "code",
      "metadata": {
        "id": "SQd1fgEwbhU2"
      },
      "source": [
        "series=df['Return'].values[1:].reshape(-1,1)\n",
        "scaler=StandardScaler()\n",
        "series=scaler.fit_transform(series).flatten()"
      ],
      "execution_count": 24,
      "outputs": []
    },
    {
      "cell_type": "code",
      "metadata": {
        "id": "x3NHQ7Mdb2Fn",
        "colab": {
          "base_uri": "https://localhost:8080/"
        },
        "outputId": "61aff42c-28ec-4c17-b01e-7c9513e8ac73"
      },
      "source": [
        "series[:10]"
      ],
      "execution_count": 25,
      "outputs": [
        {
          "output_type": "execute_result",
          "data": {
            "text/plain": [
              "array([ 0.06330458, -0.41949407, -0.0643995 , -0.2280261 , -0.08904025,\n",
              "        0.08879   , -0.65956792, -0.22988016,  0.05429552, -0.51977812])"
            ]
          },
          "metadata": {
            "tags": []
          },
          "execution_count": 25
        }
      ]
    },
    {
      "cell_type": "code",
      "metadata": {
        "id": "hZf3mCsnb3WN"
      },
      "source": [
        "series=df['Return'].values[1:].reshape(-1,1)\n",
        "scaler.fit(series[:len(series)//2])\n",
        "series=scaler.transform(series).flatten()"
      ],
      "execution_count": 26,
      "outputs": []
    },
    {
      "cell_type": "code",
      "metadata": {
        "id": "0tSdxtb6cSzV",
        "colab": {
          "base_uri": "https://localhost:8080/"
        },
        "outputId": "aa5f82e3-6a92-4266-89f0-aa1fd2e13ab9"
      },
      "source": [
        "series"
      ],
      "execution_count": 27,
      "outputs": [
        {
          "output_type": "execute_result",
          "data": {
            "text/plain": [
              "array([ 0.09466161, -0.71396287, -0.11922599, ..., -2.304611  ,\n",
              "       -0.23883869,  0.30599363])"
            ]
          },
          "metadata": {
            "tags": []
          },
          "execution_count": 27
        }
      ]
    },
    {
      "cell_type": "code",
      "metadata": {
        "id": "XYaSCH_WcUdt",
        "colab": {
          "base_uri": "https://localhost:8080/"
        },
        "outputId": "cacad148-b5c1-4218-c0a5-5fcd16ef9d3b"
      },
      "source": [
        "T=10\n",
        "D=1\n",
        "X=[]\n",
        "y=[]\n",
        "for t in range(len(series)-T):\n",
        "  X.append(series[t:t+T])\n",
        "  y.append(series[t+T])\n",
        "X=np.array(X).reshape(-1,T,1)\n",
        "y=np.array(y)\n",
        "N=len(X)\n",
        "print(\"X.shape \",X.shape,\"y.shape\",y.shape)"
      ],
      "execution_count": 28,
      "outputs": [
        {
          "output_type": "stream",
          "text": [
            "X.shape  (1222, 10, 1) y.shape (1222,)\n"
          ],
          "name": "stdout"
        }
      ]
    },
    {
      "cell_type": "code",
      "metadata": {
        "id": "gzYwOJgIedbT",
        "colab": {
          "base_uri": "https://localhost:8080/"
        },
        "outputId": "d7b41bde-1fd0-4fde-d639-3815143189f7"
      },
      "source": [
        "i=Input(shape=(T,1))\n",
        "x=LSTM(5)(i)\n",
        "x=Dense(1)(x)\n",
        "model=Model(i,x)\n",
        "model.compile(loss=\"mse\",optimizer=Adam(lr=0.01))\n",
        "\n",
        "history=model.fit(X[:-N//2],y[:-N//2],epochs=80,validation_data=(X[-N//2:],y[-N//2:]))"
      ],
      "execution_count": 29,
      "outputs": [
        {
          "output_type": "stream",
          "text": [
            "/usr/local/lib/python3.7/dist-packages/tensorflow/python/keras/optimizer_v2/optimizer_v2.py:375: UserWarning: The `lr` argument is deprecated, use `learning_rate` instead.\n",
            "  \"The `lr` argument is deprecated, use `learning_rate` instead.\")\n"
          ],
          "name": "stderr"
        },
        {
          "output_type": "stream",
          "text": [
            "Epoch 1/80\n",
            "20/20 [==============================] - 3s 32ms/step - loss: 1.0244 - val_loss: nan\n",
            "Epoch 2/80\n",
            "20/20 [==============================] - 0s 10ms/step - loss: 1.0193 - val_loss: nan\n",
            "Epoch 3/80\n",
            "20/20 [==============================] - 0s 8ms/step - loss: 1.0135 - val_loss: nan\n",
            "Epoch 4/80\n",
            "20/20 [==============================] - 0s 10ms/step - loss: 1.0128 - val_loss: nan\n",
            "Epoch 5/80\n",
            "20/20 [==============================] - 0s 9ms/step - loss: 1.0143 - val_loss: nan\n",
            "Epoch 6/80\n",
            "20/20 [==============================] - 0s 8ms/step - loss: 1.0115 - val_loss: nan\n",
            "Epoch 7/80\n",
            "20/20 [==============================] - 0s 9ms/step - loss: 1.0095 - val_loss: nan\n",
            "Epoch 8/80\n",
            "20/20 [==============================] - 0s 7ms/step - loss: 1.0148 - val_loss: nan\n",
            "Epoch 9/80\n",
            "20/20 [==============================] - 0s 7ms/step - loss: 1.0210 - val_loss: nan\n",
            "Epoch 10/80\n",
            "20/20 [==============================] - 0s 8ms/step - loss: 1.0080 - val_loss: nan\n",
            "Epoch 11/80\n",
            "20/20 [==============================] - 0s 8ms/step - loss: 1.0116 - val_loss: nan\n",
            "Epoch 12/80\n",
            "20/20 [==============================] - 0s 8ms/step - loss: 1.0107 - val_loss: nan\n",
            "Epoch 13/80\n",
            "20/20 [==============================] - 0s 9ms/step - loss: 1.0042 - val_loss: nan\n",
            "Epoch 14/80\n",
            "20/20 [==============================] - 0s 11ms/step - loss: 1.0017 - val_loss: nan\n",
            "Epoch 15/80\n",
            "20/20 [==============================] - 0s 8ms/step - loss: 1.0032 - val_loss: nan\n",
            "Epoch 16/80\n",
            "20/20 [==============================] - 0s 8ms/step - loss: 1.0016 - val_loss: nan\n",
            "Epoch 17/80\n",
            "20/20 [==============================] - 0s 8ms/step - loss: 0.9962 - val_loss: nan\n",
            "Epoch 18/80\n",
            "20/20 [==============================] - 0s 7ms/step - loss: 0.9944 - val_loss: nan\n",
            "Epoch 19/80\n",
            "20/20 [==============================] - 0s 10ms/step - loss: 0.9931 - val_loss: nan\n",
            "Epoch 20/80\n",
            "20/20 [==============================] - 0s 8ms/step - loss: 0.9859 - val_loss: nan\n",
            "Epoch 21/80\n",
            "20/20 [==============================] - 0s 9ms/step - loss: 0.9863 - val_loss: nan\n",
            "Epoch 22/80\n",
            "20/20 [==============================] - 0s 8ms/step - loss: 0.9719 - val_loss: nan\n",
            "Epoch 23/80\n",
            "20/20 [==============================] - 0s 7ms/step - loss: 0.9731 - val_loss: nan\n",
            "Epoch 24/80\n",
            "20/20 [==============================] - 0s 8ms/step - loss: 0.9622 - val_loss: nan\n",
            "Epoch 25/80\n",
            "20/20 [==============================] - 0s 8ms/step - loss: 0.9570 - val_loss: nan\n",
            "Epoch 26/80\n",
            "20/20 [==============================] - 0s 8ms/step - loss: 0.9568 - val_loss: nan\n",
            "Epoch 27/80\n",
            "20/20 [==============================] - 0s 7ms/step - loss: 0.9515 - val_loss: nan\n",
            "Epoch 28/80\n",
            "20/20 [==============================] - 0s 11ms/step - loss: 0.9399 - val_loss: nan\n",
            "Epoch 29/80\n",
            "20/20 [==============================] - 0s 8ms/step - loss: 0.9467 - val_loss: nan\n",
            "Epoch 30/80\n",
            "20/20 [==============================] - 0s 10ms/step - loss: 0.9364 - val_loss: nan\n",
            "Epoch 31/80\n",
            "20/20 [==============================] - 0s 9ms/step - loss: 0.9347 - val_loss: nan\n",
            "Epoch 32/80\n",
            "20/20 [==============================] - 0s 7ms/step - loss: 0.9244 - val_loss: nan\n",
            "Epoch 33/80\n",
            "20/20 [==============================] - 0s 8ms/step - loss: 0.9142 - val_loss: nan\n",
            "Epoch 34/80\n",
            "20/20 [==============================] - 0s 8ms/step - loss: 0.9379 - val_loss: nan\n",
            "Epoch 35/80\n",
            "20/20 [==============================] - 0s 8ms/step - loss: 0.9389 - val_loss: nan\n",
            "Epoch 36/80\n",
            "20/20 [==============================] - 0s 10ms/step - loss: 0.9206 - val_loss: nan\n",
            "Epoch 37/80\n",
            "20/20 [==============================] - 0s 10ms/step - loss: 0.9075 - val_loss: nan\n",
            "Epoch 38/80\n",
            "20/20 [==============================] - 0s 9ms/step - loss: 0.9025 - val_loss: nan\n",
            "Epoch 39/80\n",
            "20/20 [==============================] - 0s 8ms/step - loss: 0.8980 - val_loss: nan\n",
            "Epoch 40/80\n",
            "20/20 [==============================] - 0s 8ms/step - loss: 0.8953 - val_loss: nan\n",
            "Epoch 41/80\n",
            "20/20 [==============================] - 0s 8ms/step - loss: 0.8897 - val_loss: nan\n",
            "Epoch 42/80\n",
            "20/20 [==============================] - 0s 10ms/step - loss: 0.9045 - val_loss: nan\n",
            "Epoch 43/80\n",
            "20/20 [==============================] - 0s 9ms/step - loss: 0.8919 - val_loss: nan\n",
            "Epoch 44/80\n",
            "20/20 [==============================] - 0s 8ms/step - loss: 0.8791 - val_loss: nan\n",
            "Epoch 45/80\n",
            "20/20 [==============================] - 0s 8ms/step - loss: 0.8722 - val_loss: nan\n",
            "Epoch 46/80\n",
            "20/20 [==============================] - 0s 8ms/step - loss: 0.8875 - val_loss: nan\n",
            "Epoch 47/80\n",
            "20/20 [==============================] - 0s 10ms/step - loss: 0.8721 - val_loss: nan\n",
            "Epoch 48/80\n",
            "20/20 [==============================] - 0s 11ms/step - loss: 0.8645 - val_loss: nan\n",
            "Epoch 49/80\n",
            "20/20 [==============================] - 0s 9ms/step - loss: 0.8625 - val_loss: nan\n",
            "Epoch 50/80\n",
            "20/20 [==============================] - 0s 23ms/step - loss: 0.8663 - val_loss: nan\n",
            "Epoch 51/80\n",
            "20/20 [==============================] - 0s 9ms/step - loss: 0.8541 - val_loss: nan\n",
            "Epoch 52/80\n",
            "20/20 [==============================] - 0s 9ms/step - loss: 0.8723 - val_loss: nan\n",
            "Epoch 53/80\n",
            "20/20 [==============================] - 0s 9ms/step - loss: 0.8583 - val_loss: nan\n",
            "Epoch 54/80\n",
            "20/20 [==============================] - 0s 8ms/step - loss: 0.8582 - val_loss: nan\n",
            "Epoch 55/80\n",
            "20/20 [==============================] - 0s 8ms/step - loss: 0.8442 - val_loss: nan\n",
            "Epoch 56/80\n",
            "20/20 [==============================] - 0s 8ms/step - loss: 0.8453 - val_loss: nan\n",
            "Epoch 57/80\n",
            "20/20 [==============================] - 0s 11ms/step - loss: 0.8949 - val_loss: nan\n",
            "Epoch 58/80\n",
            "20/20 [==============================] - 0s 8ms/step - loss: 0.8546 - val_loss: nan\n",
            "Epoch 59/80\n",
            "20/20 [==============================] - 0s 7ms/step - loss: 0.8391 - val_loss: nan\n",
            "Epoch 60/80\n",
            "20/20 [==============================] - 0s 9ms/step - loss: 0.8435 - val_loss: nan\n",
            "Epoch 61/80\n",
            "20/20 [==============================] - 0s 10ms/step - loss: 0.8298 - val_loss: nan\n",
            "Epoch 62/80\n",
            "20/20 [==============================] - 0s 9ms/step - loss: 0.8288 - val_loss: nan\n",
            "Epoch 63/80\n",
            "20/20 [==============================] - 0s 9ms/step - loss: 0.8972 - val_loss: nan\n",
            "Epoch 64/80\n",
            "20/20 [==============================] - 0s 8ms/step - loss: 0.8480 - val_loss: nan\n",
            "Epoch 65/80\n",
            "20/20 [==============================] - 0s 8ms/step - loss: 0.8328 - val_loss: nan\n",
            "Epoch 66/80\n",
            "20/20 [==============================] - 0s 10ms/step - loss: 0.8189 - val_loss: nan\n",
            "Epoch 67/80\n",
            "20/20 [==============================] - 0s 8ms/step - loss: 0.8128 - val_loss: nan\n",
            "Epoch 68/80\n",
            "20/20 [==============================] - 0s 8ms/step - loss: 0.8115 - val_loss: nan\n",
            "Epoch 69/80\n",
            "20/20 [==============================] - 0s 8ms/step - loss: 0.8059 - val_loss: nan\n",
            "Epoch 70/80\n",
            "20/20 [==============================] - 0s 9ms/step - loss: 0.8174 - val_loss: nan\n",
            "Epoch 71/80\n",
            "20/20 [==============================] - 0s 8ms/step - loss: 0.8105 - val_loss: nan\n",
            "Epoch 72/80\n",
            "20/20 [==============================] - 0s 9ms/step - loss: 0.8212 - val_loss: nan\n",
            "Epoch 73/80\n",
            "20/20 [==============================] - 0s 8ms/step - loss: 0.8039 - val_loss: nan\n",
            "Epoch 74/80\n",
            "20/20 [==============================] - 0s 10ms/step - loss: 0.8126 - val_loss: nan\n",
            "Epoch 75/80\n",
            "20/20 [==============================] - 0s 10ms/step - loss: 0.8042 - val_loss: nan\n",
            "Epoch 76/80\n",
            "20/20 [==============================] - 0s 8ms/step - loss: 0.7994 - val_loss: nan\n",
            "Epoch 77/80\n",
            "20/20 [==============================] - 0s 9ms/step - loss: 0.8078 - val_loss: nan\n",
            "Epoch 78/80\n",
            "20/20 [==============================] - 0s 8ms/step - loss: 0.8114 - val_loss: nan\n",
            "Epoch 79/80\n",
            "20/20 [==============================] - 0s 9ms/step - loss: 0.8216 - val_loss: nan\n",
            "Epoch 80/80\n",
            "20/20 [==============================] - 0s 9ms/step - loss: 0.7972 - val_loss: nan\n"
          ],
          "name": "stdout"
        }
      ]
    },
    {
      "cell_type": "code",
      "metadata": {
        "id": "hSLgsXpJeicY",
        "colab": {
          "base_uri": "https://localhost:8080/",
          "height": 282
        },
        "outputId": "be86190f-ce00-462e-e5cc-03bc2d338cc4"
      },
      "source": [
        "pd.DataFrame(history.history).plot()"
      ],
      "execution_count": 30,
      "outputs": [
        {
          "output_type": "execute_result",
          "data": {
            "text/plain": [
              "<matplotlib.axes._subplots.AxesSubplot at 0x7fbb7c7d5890>"
            ]
          },
          "metadata": {
            "tags": []
          },
          "execution_count": 30
        },
        {
          "output_type": "display_data",
          "data": {
            "image/png": "[encoded data removed]",
            "text/plain": [
              "<Figure size 432x288 with 1 Axes>"
            ]
          },
          "metadata": {
            "tags": [],
            "needs_background": "light"
          }
        }
      ]
    },
    {
      "cell_type": "code",
      "metadata": {
        "id": "kLNroyH-esn7",
        "colab": {
          "base_uri": "https://localhost:8080/",
          "height": 282
        },
        "outputId": "9c3afc5b-7567-4ec9-f910-fe778e5393b3"
      },
      "source": [
        "# one step forecast\n",
        "output=model.predict(X)\n",
        "print(output.shape)\n",
        "predictions=output[:,0]\n",
        "plt.plot(y,label=\"Targets\")\n",
        "plt.plot(predictions,label=\"predictions\")\n",
        "plt.legend()\n",
        "plt.show()"
      ],
      "execution_count": 31,
      "outputs": [
        {
          "output_type": "stream",
          "text": [
            "(1222, 1)\n"
          ],
          "name": "stdout"
        },
        {
          "output_type": "display_data",
          "data": {
            "image/png": "[encoded data removed]",
            "text/plain": [
              "<Figure size 432x288 with 1 Axes>"
            ]
          },
          "metadata": {
            "tags": [],
            "needs_background": "light"
          }
        }
      ]
    },
    {
      "cell_type": "code",
      "metadata": {
        "id": "XhNFzV0ChLFl",
        "colab": {
          "base_uri": "https://localhost:8080/",
          "height": 282
        },
        "outputId": "4c1f4446-6107-4613-8696-f96eb895eea5"
      },
      "source": [
        "#Multistep forecast\n",
        "validation_target=y[-N//2:]\n",
        "validation_predictions=[]\n",
        "last_x=X[-N//2]\n",
        "while len(validation_predictions)<len(validation_target):\n",
        "  validation_predictions.append(model.predict(last_x.reshape(-1,T,1))[0,0])\n",
        "  last_x=np.roll(last_x,-1)\n",
        "  last_x[-1]=model.predict(last_x.reshape(-1,T,1))[0,0]\n",
        "plt.plot(validation_target,label=\"Forecast Target\")\n",
        "plt.plot(validation_predictions,label=\"Forecast Prediction\")\n",
        "plt.legend()"
      ],
      "execution_count": 32,
      "outputs": [
        {
          "output_type": "execute_result",
          "data": {
            "text/plain": [
              "<matplotlib.legend.Legend at 0x7fbb7ca94090>"
            ]
          },
          "metadata": {
            "tags": []
          },
          "execution_count": 32
        },
        {
          "output_type": "display_data",
          "data": {
            "image/png": "[encoded data removed]",
            "text/plain": [
              "<Figure size 432x288 with 1 Axes>"
            ]
          },
          "metadata": {
            "tags": [],
            "needs_background": "light"
          }
        }
      ]
    },
    {
      "cell_type": "code",
      "metadata": {
        "id": "0jf0XlXahSC4"
      },
      "source": [
        "#Binary classification whether it will go up or down \n",
        "# Regression is harder than classification\n"
      ],
      "execution_count": 33,
      "outputs": []
    },
    {
      "cell_type": "code",
      "metadata": {
        "id": "MrrS9RByqGyf"
      },
      "source": [
        "data=df[['Open','High','Low','Close','Volume']].values\n",
        "target=df['Return'].values"
      ],
      "execution_count": 34,
      "outputs": []
    },
    {
      "cell_type": "code",
      "metadata": {
        "colab": {
          "base_uri": "https://localhost:8080/"
        },
        "id": "lJlka9uHqF-n",
        "outputId": "82f89e7f-50f5-4bf4-ca91-3198210adaa2"
      },
      "source": [
        "data.shape"
      ],
      "execution_count": 35,
      "outputs": [
        {
          "output_type": "execute_result",
          "data": {
            "text/plain": [
              "(1233, 5)"
            ]
          },
          "metadata": {
            "tags": []
          },
          "execution_count": 35
        }
      ]
    },
    {
      "cell_type": "code",
      "metadata": {
        "id": "o9WB540YqLtG"
      },
      "source": [
        "T=10\n",
        "D=data.shape[1]\n",
        "N=len(data)-T# if T=10 for 11 poinnts then there is only 1 sample"
      ],
      "execution_count": 36,
      "outputs": []
    },
    {
      "cell_type": "code",
      "metadata": {
        "id": "4RkclbdwrAfW"
      },
      "source": [
        "Ntrain=len(data)*2//3\n",
        "scaler=StandardScaler()\n",
        "scaler.fit(data[:Ntrain+T])\n",
        "data=scaler.transform(data)"
      ],
      "execution_count": 37,
      "outputs": []
    },
    {
      "cell_type": "code",
      "metadata": {
        "id": "4WE6cRSFr6iS"
      },
      "source": [
        "X_train=np.zeros((Ntrain,T,D))\n",
        "y_train=np.zeros(Ntrain)\n",
        "\n",
        "for t in range(Ntrain):\n",
        "  X_train[t,:,:]=data[t:t+T]\n",
        "  y_train[t]=(target[t+T]>0)"
      ],
      "execution_count": 38,
      "outputs": []
    },
    {
      "cell_type": "code",
      "metadata": {
        "id": "4tfFzgZQsboK"
      },
      "source": [
        "X_test=np.zeros((N-Ntrain,T,D))\n",
        "y_test=np.zeros(N-Ntrain)\n",
        "\n",
        "for u in range(N-Ntrain):\n",
        "  t=u+Ntrain\n",
        "  X_test[u,:,:]=data[t:t+T]\n",
        "  y_test[u]=(target[t+T]>0)"
      ],
      "execution_count": 39,
      "outputs": []
    },
    {
      "cell_type": "code",
      "metadata": {
        "colab": {
          "base_uri": "https://localhost:8080/"
        },
        "id": "65--aFhksc_4",
        "outputId": "b12db4ee-74d5-40dd-ac4c-6c1f853c99d9"
      },
      "source": [
        "i=Input(shape=(T,D))\n",
        "x=LSTM(50)(i)\n",
        "x=Dense(1,activation=\"sigmoid\")(x)\n",
        "model=Model(i,x)\n",
        "model.compile(loss=\"binary_crossentropy\",optimizer=Adam(lr=0.001),metrics=[\"accuracy\"])"
      ],
      "execution_count": 40,
      "outputs": [
        {
          "output_type": "stream",
          "text": [
            "/usr/local/lib/python3.7/dist-packages/tensorflow/python/keras/optimizer_v2/optimizer_v2.py:375: UserWarning: The `lr` argument is deprecated, use `learning_rate` instead.\n",
            "  \"The `lr` argument is deprecated, use `learning_rate` instead.\")\n"
          ],
          "name": "stderr"
        }
      ]
    },
    {
      "cell_type": "code",
      "metadata": {
        "colab": {
          "base_uri": "https://localhost:8080/"
        },
        "id": "2IS_nXTCtIKs",
        "outputId": "8997a929-aaec-4fd8-ef3a-982294265a2d"
      },
      "source": [
        "history=model.fit(X_train,y_train,batch_size=32,validation_data=(X_test,y_test),epochs=300)"
      ],
      "execution_count": 41,
      "outputs": [
        {
          "output_type": "stream",
          "text": [
            "Epoch 1/300\n",
            "26/26 [==============================] - 3s 30ms/step - loss: 0.6953 - accuracy: 0.5097 - val_loss: nan - val_accuracy: 0.5212\n",
            "Epoch 2/300\n",
            "26/26 [==============================] - 0s 8ms/step - loss: 0.6927 - accuracy: 0.5231 - val_loss: nan - val_accuracy: 0.4888\n",
            "Epoch 3/300\n",
            "26/26 [==============================] - 0s 8ms/step - loss: 0.6908 - accuracy: 0.5195 - val_loss: nan - val_accuracy: 0.5212\n",
            "Epoch 4/300\n",
            "26/26 [==============================] - 0s 8ms/step - loss: 0.6914 - accuracy: 0.5292 - val_loss: nan - val_accuracy: 0.5212\n",
            "Epoch 5/300\n",
            "26/26 [==============================] - 0s 9ms/step - loss: 0.6901 - accuracy: 0.5328 - val_loss: nan - val_accuracy: 0.5087\n",
            "Epoch 6/300\n",
            "26/26 [==============================] - 0s 9ms/step - loss: 0.6886 - accuracy: 0.5414 - val_loss: nan - val_accuracy: 0.5112\n",
            "Epoch 7/300\n",
            "26/26 [==============================] - 0s 8ms/step - loss: 0.6878 - accuracy: 0.5389 - val_loss: nan - val_accuracy: 0.5112\n",
            "Epoch 8/300\n",
            "26/26 [==============================] - 0s 9ms/step - loss: 0.6886 - accuracy: 0.5438 - val_loss: nan - val_accuracy: 0.4888\n",
            "Epoch 9/300\n",
            "26/26 [==============================] - 0s 9ms/step - loss: 0.6881 - accuracy: 0.5414 - val_loss: nan - val_accuracy: 0.4988\n",
            "Epoch 10/300\n",
            "26/26 [==============================] - 0s 9ms/step - loss: 0.6892 - accuracy: 0.5414 - val_loss: nan - val_accuracy: 0.5012\n",
            "Epoch 11/300\n",
            "26/26 [==============================] - 0s 8ms/step - loss: 0.6876 - accuracy: 0.5341 - val_loss: nan - val_accuracy: 0.4988\n",
            "Epoch 12/300\n",
            "26/26 [==============================] - 0s 9ms/step - loss: 0.6876 - accuracy: 0.5389 - val_loss: nan - val_accuracy: 0.5212\n",
            "Epoch 13/300\n",
            "26/26 [==============================] - 0s 9ms/step - loss: 0.6864 - accuracy: 0.5353 - val_loss: nan - val_accuracy: 0.5087\n",
            "Epoch 14/300\n",
            "26/26 [==============================] - 0s 10ms/step - loss: 0.6863 - accuracy: 0.5365 - val_loss: nan - val_accuracy: 0.5237\n",
            "Epoch 15/300\n",
            "26/26 [==============================] - 0s 10ms/step - loss: 0.6851 - accuracy: 0.5511 - val_loss: nan - val_accuracy: 0.5162\n",
            "Epoch 16/300\n",
            "26/26 [==============================] - 0s 9ms/step - loss: 0.6850 - accuracy: 0.5596 - val_loss: nan - val_accuracy: 0.5187\n",
            "Epoch 17/300\n",
            "26/26 [==============================] - 0s 9ms/step - loss: 0.6844 - accuracy: 0.5560 - val_loss: nan - val_accuracy: 0.5062\n",
            "Epoch 18/300\n",
            "26/26 [==============================] - 0s 9ms/step - loss: 0.6850 - accuracy: 0.5353 - val_loss: nan - val_accuracy: 0.5187\n",
            "Epoch 19/300\n",
            "26/26 [==============================] - 0s 8ms/step - loss: 0.6849 - accuracy: 0.5426 - val_loss: nan - val_accuracy: 0.5112\n",
            "Epoch 20/300\n",
            "26/26 [==============================] - 0s 9ms/step - loss: 0.6856 - accuracy: 0.5365 - val_loss: nan - val_accuracy: 0.5162\n",
            "Epoch 21/300\n",
            "26/26 [==============================] - 0s 8ms/step - loss: 0.6831 - accuracy: 0.5450 - val_loss: nan - val_accuracy: 0.5087\n",
            "Epoch 22/300\n",
            "26/26 [==============================] - 0s 9ms/step - loss: 0.6855 - accuracy: 0.5316 - val_loss: nan - val_accuracy: 0.5237\n",
            "Epoch 23/300\n",
            "26/26 [==============================] - 0s 9ms/step - loss: 0.6835 - accuracy: 0.5560 - val_loss: nan - val_accuracy: 0.5212\n",
            "Epoch 24/300\n",
            "26/26 [==============================] - 0s 9ms/step - loss: 0.6845 - accuracy: 0.5499 - val_loss: nan - val_accuracy: 0.5037\n",
            "Epoch 25/300\n",
            "26/26 [==============================] - 0s 8ms/step - loss: 0.6860 - accuracy: 0.5158 - val_loss: nan - val_accuracy: 0.5187\n",
            "Epoch 26/300\n",
            "26/26 [==============================] - 0s 9ms/step - loss: 0.6849 - accuracy: 0.5474 - val_loss: nan - val_accuracy: 0.5287\n",
            "Epoch 27/300\n",
            "26/26 [==============================] - 0s 9ms/step - loss: 0.6839 - accuracy: 0.5487 - val_loss: nan - val_accuracy: 0.5262\n",
            "Epoch 28/300\n",
            "26/26 [==============================] - 0s 9ms/step - loss: 0.6819 - accuracy: 0.5633 - val_loss: nan - val_accuracy: 0.5237\n",
            "Epoch 29/300\n",
            "26/26 [==============================] - 0s 9ms/step - loss: 0.6814 - accuracy: 0.5487 - val_loss: nan - val_accuracy: 0.5187\n",
            "Epoch 30/300\n",
            "26/26 [==============================] - 0s 9ms/step - loss: 0.6829 - accuracy: 0.5487 - val_loss: nan - val_accuracy: 0.5262\n",
            "Epoch 31/300\n",
            "26/26 [==============================] - 0s 9ms/step - loss: 0.6815 - accuracy: 0.5584 - val_loss: nan - val_accuracy: 0.5162\n",
            "Epoch 32/300\n",
            "26/26 [==============================] - 0s 8ms/step - loss: 0.6832 - accuracy: 0.5499 - val_loss: nan - val_accuracy: 0.5212\n",
            "Epoch 33/300\n",
            "26/26 [==============================] - 0s 8ms/step - loss: 0.6805 - accuracy: 0.5511 - val_loss: nan - val_accuracy: 0.5262\n",
            "Epoch 34/300\n",
            "26/26 [==============================] - 0s 9ms/step - loss: 0.6814 - accuracy: 0.5511 - val_loss: nan - val_accuracy: 0.5312\n",
            "Epoch 35/300\n",
            "26/26 [==============================] - 0s 8ms/step - loss: 0.6803 - accuracy: 0.5693 - val_loss: nan - val_accuracy: 0.5262\n",
            "Epoch 36/300\n",
            "26/26 [==============================] - 0s 9ms/step - loss: 0.6810 - accuracy: 0.5426 - val_loss: nan - val_accuracy: 0.5312\n",
            "Epoch 37/300\n",
            "26/26 [==============================] - 0s 9ms/step - loss: 0.6844 - accuracy: 0.5450 - val_loss: nan - val_accuracy: 0.5287\n",
            "Epoch 38/300\n",
            "26/26 [==============================] - 0s 9ms/step - loss: 0.6799 - accuracy: 0.5438 - val_loss: nan - val_accuracy: 0.5162\n",
            "Epoch 39/300\n",
            "26/26 [==============================] - 0s 8ms/step - loss: 0.6815 - accuracy: 0.5523 - val_loss: nan - val_accuracy: 0.5362\n",
            "Epoch 40/300\n",
            "26/26 [==============================] - 0s 8ms/step - loss: 0.6797 - accuracy: 0.5535 - val_loss: nan - val_accuracy: 0.5362\n",
            "Epoch 41/300\n",
            "26/26 [==============================] - 0s 9ms/step - loss: 0.6791 - accuracy: 0.5450 - val_loss: nan - val_accuracy: 0.5362\n",
            "Epoch 42/300\n",
            "26/26 [==============================] - 0s 8ms/step - loss: 0.6814 - accuracy: 0.5511 - val_loss: nan - val_accuracy: 0.5237\n",
            "Epoch 43/300\n",
            "26/26 [==============================] - 0s 8ms/step - loss: 0.6782 - accuracy: 0.5560 - val_loss: nan - val_accuracy: 0.5436\n",
            "Epoch 44/300\n",
            "26/26 [==============================] - 0s 9ms/step - loss: 0.6787 - accuracy: 0.5633 - val_loss: nan - val_accuracy: 0.5362\n",
            "Epoch 45/300\n",
            "26/26 [==============================] - 0s 9ms/step - loss: 0.6783 - accuracy: 0.5523 - val_loss: nan - val_accuracy: 0.5312\n",
            "Epoch 46/300\n",
            "26/26 [==============================] - 0s 8ms/step - loss: 0.6783 - accuracy: 0.5657 - val_loss: nan - val_accuracy: 0.5387\n",
            "Epoch 47/300\n",
            "26/26 [==============================] - 0s 9ms/step - loss: 0.6796 - accuracy: 0.5401 - val_loss: nan - val_accuracy: 0.5237\n",
            "Epoch 48/300\n",
            "26/26 [==============================] - 0s 9ms/step - loss: 0.6792 - accuracy: 0.5474 - val_loss: nan - val_accuracy: 0.5287\n",
            "Epoch 49/300\n",
            "26/26 [==============================] - 0s 9ms/step - loss: 0.6779 - accuracy: 0.5462 - val_loss: nan - val_accuracy: 0.5287\n",
            "Epoch 50/300\n",
            "26/26 [==============================] - 0s 9ms/step - loss: 0.6775 - accuracy: 0.5645 - val_loss: nan - val_accuracy: 0.5112\n",
            "Epoch 51/300\n",
            "26/26 [==============================] - 0s 8ms/step - loss: 0.6765 - accuracy: 0.5645 - val_loss: nan - val_accuracy: 0.5112\n",
            "Epoch 52/300\n",
            "26/26 [==============================] - 0s 9ms/step - loss: 0.6754 - accuracy: 0.5681 - val_loss: nan - val_accuracy: 0.5237\n",
            "Epoch 53/300\n",
            "26/26 [==============================] - 0s 9ms/step - loss: 0.6764 - accuracy: 0.5535 - val_loss: nan - val_accuracy: 0.5062\n",
            "Epoch 54/300\n",
            "26/26 [==============================] - 0s 9ms/step - loss: 0.6750 - accuracy: 0.5633 - val_loss: nan - val_accuracy: 0.5162\n",
            "Epoch 55/300\n",
            "26/26 [==============================] - 0s 8ms/step - loss: 0.6752 - accuracy: 0.5645 - val_loss: nan - val_accuracy: 0.4863\n",
            "Epoch 56/300\n",
            "26/26 [==============================] - 0s 9ms/step - loss: 0.6742 - accuracy: 0.5657 - val_loss: nan - val_accuracy: 0.4913\n",
            "Epoch 57/300\n",
            "26/26 [==============================] - 0s 10ms/step - loss: 0.6746 - accuracy: 0.5657 - val_loss: nan - val_accuracy: 0.4988\n",
            "Epoch 58/300\n",
            "26/26 [==============================] - 0s 9ms/step - loss: 0.6745 - accuracy: 0.5572 - val_loss: nan - val_accuracy: 0.5062\n",
            "Epoch 59/300\n",
            "26/26 [==============================] - 0s 9ms/step - loss: 0.6760 - accuracy: 0.5718 - val_loss: nan - val_accuracy: 0.4938\n",
            "Epoch 60/300\n",
            "26/26 [==============================] - 0s 9ms/step - loss: 0.6764 - accuracy: 0.5584 - val_loss: nan - val_accuracy: 0.5012\n",
            "Epoch 61/300\n",
            "26/26 [==============================] - 0s 9ms/step - loss: 0.6768 - accuracy: 0.5547 - val_loss: nan - val_accuracy: 0.5012\n",
            "Epoch 62/300\n",
            "26/26 [==============================] - 0s 10ms/step - loss: 0.6753 - accuracy: 0.5499 - val_loss: nan - val_accuracy: 0.4813\n",
            "Epoch 63/300\n",
            "26/26 [==============================] - 0s 9ms/step - loss: 0.6720 - accuracy: 0.5779 - val_loss: nan - val_accuracy: 0.4913\n",
            "Epoch 64/300\n",
            "26/26 [==============================] - 0s 10ms/step - loss: 0.6732 - accuracy: 0.5596 - val_loss: nan - val_accuracy: 0.4938\n",
            "Epoch 65/300\n",
            "26/26 [==============================] - 0s 9ms/step - loss: 0.6729 - accuracy: 0.5657 - val_loss: nan - val_accuracy: 0.4763\n",
            "Epoch 66/300\n",
            "26/26 [==============================] - 0s 10ms/step - loss: 0.6711 - accuracy: 0.5669 - val_loss: nan - val_accuracy: 0.4913\n",
            "Epoch 67/300\n",
            "26/26 [==============================] - 0s 9ms/step - loss: 0.6722 - accuracy: 0.5633 - val_loss: nan - val_accuracy: 0.4788\n",
            "Epoch 68/300\n",
            "26/26 [==============================] - 0s 9ms/step - loss: 0.6695 - accuracy: 0.5742 - val_loss: nan - val_accuracy: 0.4788\n",
            "Epoch 69/300\n",
            "26/26 [==============================] - 0s 9ms/step - loss: 0.6697 - accuracy: 0.5620 - val_loss: nan - val_accuracy: 0.4988\n",
            "Epoch 70/300\n",
            "26/26 [==============================] - 0s 9ms/step - loss: 0.6687 - accuracy: 0.5693 - val_loss: nan - val_accuracy: 0.4813\n",
            "Epoch 71/300\n",
            "26/26 [==============================] - 0s 11ms/step - loss: 0.6671 - accuracy: 0.5645 - val_loss: nan - val_accuracy: 0.4938\n",
            "Epoch 72/300\n",
            "26/26 [==============================] - 0s 9ms/step - loss: 0.6690 - accuracy: 0.5900 - val_loss: nan - val_accuracy: 0.4913\n",
            "Epoch 73/300\n",
            "26/26 [==============================] - 0s 9ms/step - loss: 0.6697 - accuracy: 0.5706 - val_loss: nan - val_accuracy: 0.4913\n",
            "Epoch 74/300\n",
            "26/26 [==============================] - 0s 9ms/step - loss: 0.6692 - accuracy: 0.5681 - val_loss: nan - val_accuracy: 0.4938\n",
            "Epoch 75/300\n",
            "26/26 [==============================] - 0s 9ms/step - loss: 0.6666 - accuracy: 0.5620 - val_loss: nan - val_accuracy: 0.4888\n",
            "Epoch 76/300\n",
            "26/26 [==============================] - 0s 9ms/step - loss: 0.6662 - accuracy: 0.5718 - val_loss: nan - val_accuracy: 0.5187\n",
            "Epoch 77/300\n",
            "26/26 [==============================] - 0s 8ms/step - loss: 0.6658 - accuracy: 0.5693 - val_loss: nan - val_accuracy: 0.5012\n",
            "Epoch 78/300\n",
            "26/26 [==============================] - 0s 9ms/step - loss: 0.6649 - accuracy: 0.5547 - val_loss: nan - val_accuracy: 0.5087\n",
            "Epoch 79/300\n",
            "26/26 [==============================] - 0s 9ms/step - loss: 0.6631 - accuracy: 0.5706 - val_loss: nan - val_accuracy: 0.4938\n",
            "Epoch 80/300\n",
            "26/26 [==============================] - 0s 8ms/step - loss: 0.6650 - accuracy: 0.5718 - val_loss: nan - val_accuracy: 0.5087\n",
            "Epoch 81/300\n",
            "26/26 [==============================] - 0s 8ms/step - loss: 0.6603 - accuracy: 0.5766 - val_loss: nan - val_accuracy: 0.5187\n",
            "Epoch 82/300\n",
            "26/26 [==============================] - 0s 8ms/step - loss: 0.6653 - accuracy: 0.5608 - val_loss: nan - val_accuracy: 0.5262\n",
            "Epoch 83/300\n",
            "26/26 [==============================] - 0s 9ms/step - loss: 0.6643 - accuracy: 0.5742 - val_loss: nan - val_accuracy: 0.5137\n",
            "Epoch 84/300\n",
            "26/26 [==============================] - 0s 8ms/step - loss: 0.6612 - accuracy: 0.5742 - val_loss: nan - val_accuracy: 0.4963\n",
            "Epoch 85/300\n",
            "26/26 [==============================] - 0s 9ms/step - loss: 0.6588 - accuracy: 0.5888 - val_loss: nan - val_accuracy: 0.5137\n",
            "Epoch 86/300\n",
            "26/26 [==============================] - 0s 9ms/step - loss: 0.6588 - accuracy: 0.5706 - val_loss: nan - val_accuracy: 0.5287\n",
            "Epoch 87/300\n",
            "26/26 [==============================] - 0s 9ms/step - loss: 0.6607 - accuracy: 0.5949 - val_loss: nan - val_accuracy: 0.5012\n",
            "Epoch 88/300\n",
            "26/26 [==============================] - 0s 8ms/step - loss: 0.6577 - accuracy: 0.5876 - val_loss: nan - val_accuracy: 0.5162\n",
            "Epoch 89/300\n",
            "26/26 [==============================] - 0s 9ms/step - loss: 0.6576 - accuracy: 0.5815 - val_loss: nan - val_accuracy: 0.5237\n",
            "Epoch 90/300\n",
            "26/26 [==============================] - 0s 8ms/step - loss: 0.6555 - accuracy: 0.5937 - val_loss: nan - val_accuracy: 0.5262\n",
            "Epoch 91/300\n",
            "26/26 [==============================] - 0s 9ms/step - loss: 0.6562 - accuracy: 0.5937 - val_loss: nan - val_accuracy: 0.5112\n",
            "Epoch 92/300\n",
            "26/26 [==============================] - 0s 8ms/step - loss: 0.6541 - accuracy: 0.5864 - val_loss: nan - val_accuracy: 0.5212\n",
            "Epoch 93/300\n",
            "26/26 [==============================] - 0s 9ms/step - loss: 0.6546 - accuracy: 0.5985 - val_loss: nan - val_accuracy: 0.5062\n",
            "Epoch 94/300\n",
            "26/26 [==============================] - 0s 9ms/step - loss: 0.6525 - accuracy: 0.5912 - val_loss: nan - val_accuracy: 0.5162\n",
            "Epoch 95/300\n",
            "26/26 [==============================] - 0s 9ms/step - loss: 0.6518 - accuracy: 0.5949 - val_loss: nan - val_accuracy: 0.5037\n",
            "Epoch 96/300\n",
            "26/26 [==============================] - 0s 9ms/step - loss: 0.6531 - accuracy: 0.5779 - val_loss: nan - val_accuracy: 0.4888\n",
            "Epoch 97/300\n",
            "26/26 [==============================] - 0s 8ms/step - loss: 0.6517 - accuracy: 0.5681 - val_loss: nan - val_accuracy: 0.5037\n",
            "Epoch 98/300\n",
            "26/26 [==============================] - 0s 9ms/step - loss: 0.6474 - accuracy: 0.5937 - val_loss: nan - val_accuracy: 0.4888\n",
            "Epoch 99/300\n",
            "26/26 [==============================] - 0s 9ms/step - loss: 0.6503 - accuracy: 0.5949 - val_loss: nan - val_accuracy: 0.4863\n",
            "Epoch 100/300\n",
            "26/26 [==============================] - 0s 9ms/step - loss: 0.6484 - accuracy: 0.5949 - val_loss: nan - val_accuracy: 0.4988\n",
            "Epoch 101/300\n",
            "26/26 [==============================] - 0s 10ms/step - loss: 0.6474 - accuracy: 0.5973 - val_loss: nan - val_accuracy: 0.4913\n",
            "Epoch 102/300\n",
            "26/26 [==============================] - 0s 9ms/step - loss: 0.6436 - accuracy: 0.6095 - val_loss: nan - val_accuracy: 0.4938\n",
            "Epoch 103/300\n",
            "26/26 [==============================] - 0s 9ms/step - loss: 0.6468 - accuracy: 0.5925 - val_loss: nan - val_accuracy: 0.4888\n",
            "Epoch 104/300\n",
            "26/26 [==============================] - 0s 9ms/step - loss: 0.6465 - accuracy: 0.6034 - val_loss: nan - val_accuracy: 0.4938\n",
            "Epoch 105/300\n",
            "26/26 [==============================] - 0s 9ms/step - loss: 0.6522 - accuracy: 0.5900 - val_loss: nan - val_accuracy: 0.4763\n",
            "Epoch 106/300\n",
            "26/26 [==============================] - 0s 9ms/step - loss: 0.6469 - accuracy: 0.5876 - val_loss: nan - val_accuracy: 0.4888\n",
            "Epoch 107/300\n",
            "26/26 [==============================] - 0s 9ms/step - loss: 0.6419 - accuracy: 0.5912 - val_loss: nan - val_accuracy: 0.4788\n",
            "Epoch 108/300\n",
            "26/26 [==============================] - 0s 9ms/step - loss: 0.6418 - accuracy: 0.6071 - val_loss: nan - val_accuracy: 0.4713\n",
            "Epoch 109/300\n",
            "26/26 [==============================] - 0s 9ms/step - loss: 0.6410 - accuracy: 0.6010 - val_loss: nan - val_accuracy: 0.4838\n",
            "Epoch 110/300\n",
            "26/26 [==============================] - 0s 9ms/step - loss: 0.6405 - accuracy: 0.6058 - val_loss: nan - val_accuracy: 0.4763\n",
            "Epoch 111/300\n",
            "26/26 [==============================] - 0s 9ms/step - loss: 0.6365 - accuracy: 0.6131 - val_loss: nan - val_accuracy: 0.4913\n",
            "Epoch 112/300\n",
            "26/26 [==============================] - 0s 9ms/step - loss: 0.6365 - accuracy: 0.6058 - val_loss: nan - val_accuracy: 0.4713\n",
            "Epoch 113/300\n",
            "26/26 [==============================] - 0s 9ms/step - loss: 0.6392 - accuracy: 0.6034 - val_loss: nan - val_accuracy: 0.4813\n",
            "Epoch 114/300\n",
            "26/26 [==============================] - 0s 9ms/step - loss: 0.6349 - accuracy: 0.6131 - val_loss: nan - val_accuracy: 0.4863\n",
            "Epoch 115/300\n",
            "26/26 [==============================] - 0s 9ms/step - loss: 0.6320 - accuracy: 0.6083 - val_loss: nan - val_accuracy: 0.4863\n",
            "Epoch 116/300\n",
            "26/26 [==============================] - 0s 9ms/step - loss: 0.6337 - accuracy: 0.6180 - val_loss: nan - val_accuracy: 0.4688\n",
            "Epoch 117/300\n",
            "26/26 [==============================] - 0s 9ms/step - loss: 0.6340 - accuracy: 0.6168 - val_loss: nan - val_accuracy: 0.4938\n",
            "Epoch 118/300\n",
            "26/26 [==============================] - 0s 9ms/step - loss: 0.6302 - accuracy: 0.6107 - val_loss: nan - val_accuracy: 0.4763\n",
            "Epoch 119/300\n",
            "26/26 [==============================] - 0s 9ms/step - loss: 0.6284 - accuracy: 0.6302 - val_loss: nan - val_accuracy: 0.4688\n",
            "Epoch 120/300\n",
            "26/26 [==============================] - 0s 8ms/step - loss: 0.6290 - accuracy: 0.6204 - val_loss: nan - val_accuracy: 0.4963\n",
            "Epoch 121/300\n",
            "26/26 [==============================] - 0s 9ms/step - loss: 0.6239 - accuracy: 0.6350 - val_loss: nan - val_accuracy: 0.4888\n",
            "Epoch 122/300\n",
            "26/26 [==============================] - 0s 8ms/step - loss: 0.6233 - accuracy: 0.6241 - val_loss: nan - val_accuracy: 0.4788\n",
            "Epoch 123/300\n",
            "26/26 [==============================] - 0s 10ms/step - loss: 0.6224 - accuracy: 0.6180 - val_loss: nan - val_accuracy: 0.4688\n",
            "Epoch 124/300\n",
            "26/26 [==============================] - 0s 9ms/step - loss: 0.6216 - accuracy: 0.6217 - val_loss: nan - val_accuracy: 0.4663\n",
            "Epoch 125/300\n",
            "26/26 [==============================] - 0s 9ms/step - loss: 0.6214 - accuracy: 0.6338 - val_loss: nan - val_accuracy: 0.4963\n",
            "Epoch 126/300\n",
            "26/26 [==============================] - 0s 9ms/step - loss: 0.6197 - accuracy: 0.6399 - val_loss: nan - val_accuracy: 0.4938\n",
            "Epoch 127/300\n",
            "26/26 [==============================] - 0s 10ms/step - loss: 0.6185 - accuracy: 0.6290 - val_loss: nan - val_accuracy: 0.4838\n",
            "Epoch 128/300\n",
            "26/26 [==============================] - 0s 9ms/step - loss: 0.6141 - accuracy: 0.6436 - val_loss: nan - val_accuracy: 0.4738\n",
            "Epoch 129/300\n",
            "26/26 [==============================] - 0s 9ms/step - loss: 0.6154 - accuracy: 0.6229 - val_loss: nan - val_accuracy: 0.4888\n",
            "Epoch 130/300\n",
            "26/26 [==============================] - 0s 9ms/step - loss: 0.6129 - accuracy: 0.6460 - val_loss: nan - val_accuracy: 0.5012\n",
            "Epoch 131/300\n",
            "26/26 [==============================] - 0s 9ms/step - loss: 0.6101 - accuracy: 0.6277 - val_loss: nan - val_accuracy: 0.4863\n",
            "Epoch 132/300\n",
            "26/26 [==============================] - 0s 9ms/step - loss: 0.6089 - accuracy: 0.6436 - val_loss: nan - val_accuracy: 0.4788\n",
            "Epoch 133/300\n",
            "26/26 [==============================] - 0s 8ms/step - loss: 0.6131 - accuracy: 0.6411 - val_loss: nan - val_accuracy: 0.4938\n",
            "Epoch 134/300\n",
            "26/26 [==============================] - 0s 9ms/step - loss: 0.6087 - accuracy: 0.6460 - val_loss: nan - val_accuracy: 0.4863\n",
            "Epoch 135/300\n",
            "26/26 [==============================] - 0s 9ms/step - loss: 0.6084 - accuracy: 0.6387 - val_loss: nan - val_accuracy: 0.4938\n",
            "Epoch 136/300\n",
            "26/26 [==============================] - 0s 10ms/step - loss: 0.6104 - accuracy: 0.6448 - val_loss: nan - val_accuracy: 0.4863\n",
            "Epoch 137/300\n",
            "26/26 [==============================] - 0s 9ms/step - loss: 0.6065 - accuracy: 0.6521 - val_loss: nan - val_accuracy: 0.4838\n",
            "Epoch 138/300\n",
            "26/26 [==============================] - 0s 9ms/step - loss: 0.6065 - accuracy: 0.6460 - val_loss: nan - val_accuracy: 0.4863\n",
            "Epoch 139/300\n",
            "26/26 [==============================] - 0s 9ms/step - loss: 0.6029 - accuracy: 0.6375 - val_loss: nan - val_accuracy: 0.4713\n",
            "Epoch 140/300\n",
            "26/26 [==============================] - 0s 9ms/step - loss: 0.6006 - accuracy: 0.6606 - val_loss: nan - val_accuracy: 0.4888\n",
            "Epoch 141/300\n",
            "26/26 [==============================] - 0s 9ms/step - loss: 0.5971 - accuracy: 0.6363 - val_loss: nan - val_accuracy: 0.4838\n",
            "Epoch 142/300\n",
            "26/26 [==============================] - 0s 9ms/step - loss: 0.5988 - accuracy: 0.6642 - val_loss: nan - val_accuracy: 0.4738\n",
            "Epoch 143/300\n",
            "26/26 [==============================] - 0s 9ms/step - loss: 0.5954 - accuracy: 0.6582 - val_loss: nan - val_accuracy: 0.4888\n",
            "Epoch 144/300\n",
            "26/26 [==============================] - 0s 9ms/step - loss: 0.5997 - accuracy: 0.6472 - val_loss: nan - val_accuracy: 0.4888\n",
            "Epoch 145/300\n",
            "26/26 [==============================] - 0s 8ms/step - loss: 0.5928 - accuracy: 0.6642 - val_loss: nan - val_accuracy: 0.4913\n",
            "Epoch 146/300\n",
            "26/26 [==============================] - 0s 9ms/step - loss: 0.5945 - accuracy: 0.6460 - val_loss: nan - val_accuracy: 0.4938\n",
            "Epoch 147/300\n",
            "26/26 [==============================] - 0s 9ms/step - loss: 0.5993 - accuracy: 0.6533 - val_loss: nan - val_accuracy: 0.4888\n",
            "Epoch 148/300\n",
            "26/26 [==============================] - 0s 10ms/step - loss: 0.5946 - accuracy: 0.6630 - val_loss: nan - val_accuracy: 0.4813\n",
            "Epoch 149/300\n",
            "26/26 [==============================] - 0s 10ms/step - loss: 0.5872 - accuracy: 0.6411 - val_loss: nan - val_accuracy: 0.4963\n",
            "Epoch 150/300\n",
            "26/26 [==============================] - 0s 8ms/step - loss: 0.5892 - accuracy: 0.6496 - val_loss: nan - val_accuracy: 0.4938\n",
            "Epoch 151/300\n",
            "26/26 [==============================] - 0s 9ms/step - loss: 0.5856 - accuracy: 0.6496 - val_loss: nan - val_accuracy: 0.4963\n",
            "Epoch 152/300\n",
            "26/26 [==============================] - 0s 9ms/step - loss: 0.5813 - accuracy: 0.6630 - val_loss: nan - val_accuracy: 0.4888\n",
            "Epoch 153/300\n",
            "26/26 [==============================] - 0s 9ms/step - loss: 0.5831 - accuracy: 0.6667 - val_loss: nan - val_accuracy: 0.5012\n",
            "Epoch 154/300\n",
            "26/26 [==============================] - 0s 9ms/step - loss: 0.5829 - accuracy: 0.6594 - val_loss: nan - val_accuracy: 0.5012\n",
            "Epoch 155/300\n",
            "26/26 [==============================] - 0s 9ms/step - loss: 0.5762 - accuracy: 0.6715 - val_loss: nan - val_accuracy: 0.4838\n",
            "Epoch 156/300\n",
            "26/26 [==============================] - 0s 9ms/step - loss: 0.5786 - accuracy: 0.6642 - val_loss: nan - val_accuracy: 0.4963\n",
            "Epoch 157/300\n",
            "26/26 [==============================] - 0s 9ms/step - loss: 0.5767 - accuracy: 0.6752 - val_loss: nan - val_accuracy: 0.4938\n",
            "Epoch 158/300\n",
            "26/26 [==============================] - 0s 8ms/step - loss: 0.5787 - accuracy: 0.6618 - val_loss: nan - val_accuracy: 0.4988\n",
            "Epoch 159/300\n",
            "26/26 [==============================] - 0s 9ms/step - loss: 0.5842 - accuracy: 0.6618 - val_loss: nan - val_accuracy: 0.5037\n",
            "Epoch 160/300\n",
            "26/26 [==============================] - 0s 9ms/step - loss: 0.5726 - accuracy: 0.6655 - val_loss: nan - val_accuracy: 0.4888\n",
            "Epoch 161/300\n",
            "26/26 [==============================] - 0s 10ms/step - loss: 0.5740 - accuracy: 0.6618 - val_loss: nan - val_accuracy: 0.4913\n",
            "Epoch 162/300\n",
            "26/26 [==============================] - 0s 9ms/step - loss: 0.5714 - accuracy: 0.6679 - val_loss: nan - val_accuracy: 0.4863\n",
            "Epoch 163/300\n",
            "26/26 [==============================] - 0s 9ms/step - loss: 0.5681 - accuracy: 0.6655 - val_loss: nan - val_accuracy: 0.4988\n",
            "Epoch 164/300\n",
            "26/26 [==============================] - 0s 10ms/step - loss: 0.5678 - accuracy: 0.6740 - val_loss: nan - val_accuracy: 0.5037\n",
            "Epoch 165/300\n",
            "26/26 [==============================] - 0s 9ms/step - loss: 0.5662 - accuracy: 0.6703 - val_loss: nan - val_accuracy: 0.4863\n",
            "Epoch 166/300\n",
            "26/26 [==============================] - 0s 9ms/step - loss: 0.5718 - accuracy: 0.6703 - val_loss: nan - val_accuracy: 0.5062\n",
            "Epoch 167/300\n",
            "26/26 [==============================] - 0s 9ms/step - loss: 0.5676 - accuracy: 0.6667 - val_loss: nan - val_accuracy: 0.4988\n",
            "Epoch 168/300\n",
            "26/26 [==============================] - 0s 9ms/step - loss: 0.5653 - accuracy: 0.6703 - val_loss: nan - val_accuracy: 0.5062\n",
            "Epoch 169/300\n",
            "26/26 [==============================] - 0s 9ms/step - loss: 0.5646 - accuracy: 0.6776 - val_loss: nan - val_accuracy: 0.4913\n",
            "Epoch 170/300\n",
            "26/26 [==============================] - 0s 8ms/step - loss: 0.5657 - accuracy: 0.6557 - val_loss: nan - val_accuracy: 0.5012\n",
            "Epoch 171/300\n",
            "26/26 [==============================] - 0s 10ms/step - loss: 0.5630 - accuracy: 0.6715 - val_loss: nan - val_accuracy: 0.4988\n",
            "Epoch 172/300\n",
            "26/26 [==============================] - 0s 9ms/step - loss: 0.5618 - accuracy: 0.6740 - val_loss: nan - val_accuracy: 0.4738\n",
            "Epoch 173/300\n",
            "26/26 [==============================] - 0s 9ms/step - loss: 0.5643 - accuracy: 0.6910 - val_loss: nan - val_accuracy: 0.4938\n",
            "Epoch 174/300\n",
            "26/26 [==============================] - 0s 9ms/step - loss: 0.5611 - accuracy: 0.6764 - val_loss: nan - val_accuracy: 0.5112\n",
            "Epoch 175/300\n",
            "26/26 [==============================] - 0s 9ms/step - loss: 0.5514 - accuracy: 0.6837 - val_loss: nan - val_accuracy: 0.5037\n",
            "Epoch 176/300\n",
            "26/26 [==============================] - 0s 9ms/step - loss: 0.5560 - accuracy: 0.6825 - val_loss: nan - val_accuracy: 0.4988\n",
            "Epoch 177/300\n",
            "26/26 [==============================] - 0s 9ms/step - loss: 0.5477 - accuracy: 0.6837 - val_loss: nan - val_accuracy: 0.4988\n",
            "Epoch 178/300\n",
            "26/26 [==============================] - 0s 10ms/step - loss: 0.5471 - accuracy: 0.6764 - val_loss: nan - val_accuracy: 0.4913\n",
            "Epoch 179/300\n",
            "26/26 [==============================] - 0s 9ms/step - loss: 0.5563 - accuracy: 0.6800 - val_loss: nan - val_accuracy: 0.4938\n",
            "Epoch 180/300\n",
            "26/26 [==============================] - 0s 10ms/step - loss: 0.5434 - accuracy: 0.6983 - val_loss: nan - val_accuracy: 0.5062\n",
            "Epoch 181/300\n",
            "26/26 [==============================] - 0s 9ms/step - loss: 0.5497 - accuracy: 0.6630 - val_loss: nan - val_accuracy: 0.4938\n",
            "Epoch 182/300\n",
            "26/26 [==============================] - 0s 9ms/step - loss: 0.5444 - accuracy: 0.6898 - val_loss: nan - val_accuracy: 0.5012\n",
            "Epoch 183/300\n",
            "26/26 [==============================] - 0s 9ms/step - loss: 0.5442 - accuracy: 0.6727 - val_loss: nan - val_accuracy: 0.5012\n",
            "Epoch 184/300\n",
            "26/26 [==============================] - 0s 10ms/step - loss: 0.5449 - accuracy: 0.6837 - val_loss: nan - val_accuracy: 0.5062\n",
            "Epoch 185/300\n",
            "26/26 [==============================] - 0s 9ms/step - loss: 0.5389 - accuracy: 0.6934 - val_loss: nan - val_accuracy: 0.5062\n",
            "Epoch 186/300\n",
            "26/26 [==============================] - 0s 9ms/step - loss: 0.5390 - accuracy: 0.6922 - val_loss: nan - val_accuracy: 0.4938\n",
            "Epoch 187/300\n",
            "26/26 [==============================] - 0s 9ms/step - loss: 0.5413 - accuracy: 0.6764 - val_loss: nan - val_accuracy: 0.5012\n",
            "Epoch 188/300\n",
            "26/26 [==============================] - 0s 10ms/step - loss: 0.5380 - accuracy: 0.6910 - val_loss: nan - val_accuracy: 0.5062\n",
            "Epoch 189/300\n",
            "26/26 [==============================] - 0s 9ms/step - loss: 0.5302 - accuracy: 0.6959 - val_loss: nan - val_accuracy: 0.5012\n",
            "Epoch 190/300\n",
            "26/26 [==============================] - 0s 9ms/step - loss: 0.5398 - accuracy: 0.6825 - val_loss: nan - val_accuracy: 0.5112\n",
            "Epoch 191/300\n",
            "26/26 [==============================] - 0s 9ms/step - loss: 0.5457 - accuracy: 0.6922 - val_loss: nan - val_accuracy: 0.4988\n",
            "Epoch 192/300\n",
            "26/26 [==============================] - 0s 9ms/step - loss: 0.5445 - accuracy: 0.6861 - val_loss: nan - val_accuracy: 0.5012\n",
            "Epoch 193/300\n",
            "26/26 [==============================] - 0s 9ms/step - loss: 0.5338 - accuracy: 0.6971 - val_loss: nan - val_accuracy: 0.4913\n",
            "Epoch 194/300\n",
            "26/26 [==============================] - 0s 9ms/step - loss: 0.5274 - accuracy: 0.6959 - val_loss: nan - val_accuracy: 0.5037\n",
            "Epoch 195/300\n",
            "26/26 [==============================] - 0s 9ms/step - loss: 0.5269 - accuracy: 0.7080 - val_loss: nan - val_accuracy: 0.5162\n",
            "Epoch 196/300\n",
            "26/26 [==============================] - 0s 9ms/step - loss: 0.5281 - accuracy: 0.6922 - val_loss: nan - val_accuracy: 0.5162\n",
            "Epoch 197/300\n",
            "26/26 [==============================] - 0s 10ms/step - loss: 0.5216 - accuracy: 0.7007 - val_loss: nan - val_accuracy: 0.5087\n",
            "Epoch 198/300\n",
            "26/26 [==============================] - 0s 9ms/step - loss: 0.5244 - accuracy: 0.7032 - val_loss: nan - val_accuracy: 0.5037\n",
            "Epoch 199/300\n",
            "26/26 [==============================] - 0s 9ms/step - loss: 0.5285 - accuracy: 0.6971 - val_loss: nan - val_accuracy: 0.4988\n",
            "Epoch 200/300\n",
            "26/26 [==============================] - 0s 9ms/step - loss: 0.5220 - accuracy: 0.7019 - val_loss: nan - val_accuracy: 0.4913\n",
            "Epoch 201/300\n",
            "26/26 [==============================] - 0s 10ms/step - loss: 0.5134 - accuracy: 0.7080 - val_loss: nan - val_accuracy: 0.5037\n",
            "Epoch 202/300\n",
            "26/26 [==============================] - 0s 9ms/step - loss: 0.5181 - accuracy: 0.6922 - val_loss: nan - val_accuracy: 0.5087\n",
            "Epoch 203/300\n",
            "26/26 [==============================] - 0s 9ms/step - loss: 0.5199 - accuracy: 0.6934 - val_loss: nan - val_accuracy: 0.5037\n",
            "Epoch 204/300\n",
            "26/26 [==============================] - 0s 9ms/step - loss: 0.5221 - accuracy: 0.7007 - val_loss: nan - val_accuracy: 0.4913\n",
            "Epoch 205/300\n",
            "26/26 [==============================] - 0s 9ms/step - loss: 0.5173 - accuracy: 0.7044 - val_loss: nan - val_accuracy: 0.5037\n",
            "Epoch 206/300\n",
            "26/26 [==============================] - 0s 10ms/step - loss: 0.5169 - accuracy: 0.6995 - val_loss: nan - val_accuracy: 0.4863\n",
            "Epoch 207/300\n",
            "26/26 [==============================] - 0s 9ms/step - loss: 0.5145 - accuracy: 0.7092 - val_loss: nan - val_accuracy: 0.4988\n",
            "Epoch 208/300\n",
            "26/26 [==============================] - 0s 9ms/step - loss: 0.5234 - accuracy: 0.6946 - val_loss: nan - val_accuracy: 0.5037\n",
            "Epoch 209/300\n",
            "26/26 [==============================] - 0s 10ms/step - loss: 0.5100 - accuracy: 0.7165 - val_loss: nan - val_accuracy: 0.4938\n",
            "Epoch 210/300\n",
            "26/26 [==============================] - 0s 9ms/step - loss: 0.4997 - accuracy: 0.7117 - val_loss: nan - val_accuracy: 0.5062\n",
            "Epoch 211/300\n",
            "26/26 [==============================] - 0s 9ms/step - loss: 0.5058 - accuracy: 0.7141 - val_loss: nan - val_accuracy: 0.5037\n",
            "Epoch 212/300\n",
            "26/26 [==============================] - 0s 9ms/step - loss: 0.5044 - accuracy: 0.7153 - val_loss: nan - val_accuracy: 0.5012\n",
            "Epoch 213/300\n",
            "26/26 [==============================] - 0s 9ms/step - loss: 0.5030 - accuracy: 0.7153 - val_loss: nan - val_accuracy: 0.4938\n",
            "Epoch 214/300\n",
            "26/26 [==============================] - 0s 9ms/step - loss: 0.5035 - accuracy: 0.7153 - val_loss: nan - val_accuracy: 0.4988\n",
            "Epoch 215/300\n",
            "26/26 [==============================] - 0s 9ms/step - loss: 0.5062 - accuracy: 0.7092 - val_loss: nan - val_accuracy: 0.5087\n",
            "Epoch 216/300\n",
            "26/26 [==============================] - 0s 9ms/step - loss: 0.5096 - accuracy: 0.7117 - val_loss: nan - val_accuracy: 0.5137\n",
            "Epoch 217/300\n",
            "26/26 [==============================] - 0s 9ms/step - loss: 0.5003 - accuracy: 0.7263 - val_loss: nan - val_accuracy: 0.4938\n",
            "Epoch 218/300\n",
            "26/26 [==============================] - 0s 9ms/step - loss: 0.5050 - accuracy: 0.7226 - val_loss: nan - val_accuracy: 0.4913\n",
            "Epoch 219/300\n",
            "26/26 [==============================] - 0s 10ms/step - loss: 0.4968 - accuracy: 0.7190 - val_loss: nan - val_accuracy: 0.4988\n",
            "Epoch 220/300\n",
            "26/26 [==============================] - 0s 10ms/step - loss: 0.4955 - accuracy: 0.7251 - val_loss: nan - val_accuracy: 0.4963\n",
            "Epoch 221/300\n",
            "26/26 [==============================] - 0s 10ms/step - loss: 0.4891 - accuracy: 0.7141 - val_loss: nan - val_accuracy: 0.5062\n",
            "Epoch 222/300\n",
            "26/26 [==============================] - 0s 10ms/step - loss: 0.4899 - accuracy: 0.7263 - val_loss: nan - val_accuracy: 0.4988\n",
            "Epoch 223/300\n",
            "26/26 [==============================] - 0s 9ms/step - loss: 0.4956 - accuracy: 0.7202 - val_loss: nan - val_accuracy: 0.5212\n",
            "Epoch 224/300\n",
            "26/26 [==============================] - 0s 9ms/step - loss: 0.4825 - accuracy: 0.7238 - val_loss: nan - val_accuracy: 0.4938\n",
            "Epoch 225/300\n",
            "26/26 [==============================] - 0s 10ms/step - loss: 0.4895 - accuracy: 0.7263 - val_loss: nan - val_accuracy: 0.4913\n",
            "Epoch 226/300\n",
            "26/26 [==============================] - 0s 9ms/step - loss: 0.4914 - accuracy: 0.7190 - val_loss: nan - val_accuracy: 0.5062\n",
            "Epoch 227/300\n",
            "26/26 [==============================] - 0s 9ms/step - loss: 0.4851 - accuracy: 0.7324 - val_loss: nan - val_accuracy: 0.5037\n",
            "Epoch 228/300\n",
            "26/26 [==============================] - 0s 9ms/step - loss: 0.4763 - accuracy: 0.7372 - val_loss: nan - val_accuracy: 0.4963\n",
            "Epoch 229/300\n",
            "26/26 [==============================] - 0s 10ms/step - loss: 0.4790 - accuracy: 0.7275 - val_loss: nan - val_accuracy: 0.4963\n",
            "Epoch 230/300\n",
            "26/26 [==============================] - 0s 9ms/step - loss: 0.4763 - accuracy: 0.7372 - val_loss: nan - val_accuracy: 0.4913\n",
            "Epoch 231/300\n",
            "26/26 [==============================] - 0s 10ms/step - loss: 0.4866 - accuracy: 0.7348 - val_loss: nan - val_accuracy: 0.4988\n",
            "Epoch 232/300\n",
            "26/26 [==============================] - 0s 9ms/step - loss: 0.4802 - accuracy: 0.7311 - val_loss: nan - val_accuracy: 0.5087\n",
            "Epoch 233/300\n",
            "26/26 [==============================] - 0s 9ms/step - loss: 0.4759 - accuracy: 0.7470 - val_loss: nan - val_accuracy: 0.5012\n",
            "Epoch 234/300\n",
            "26/26 [==============================] - 0s 10ms/step - loss: 0.4761 - accuracy: 0.7372 - val_loss: nan - val_accuracy: 0.4988\n",
            "Epoch 235/300\n",
            "26/26 [==============================] - 0s 9ms/step - loss: 0.4774 - accuracy: 0.7348 - val_loss: nan - val_accuracy: 0.5012\n",
            "Epoch 236/300\n",
            "26/26 [==============================] - 0s 9ms/step - loss: 0.4833 - accuracy: 0.7251 - val_loss: nan - val_accuracy: 0.4963\n",
            "Epoch 237/300\n",
            "26/26 [==============================] - 0s 10ms/step - loss: 0.4760 - accuracy: 0.7421 - val_loss: nan - val_accuracy: 0.5037\n",
            "Epoch 238/300\n",
            "26/26 [==============================] - 0s 9ms/step - loss: 0.4718 - accuracy: 0.7445 - val_loss: nan - val_accuracy: 0.4888\n",
            "Epoch 239/300\n",
            "26/26 [==============================] - 0s 10ms/step - loss: 0.4687 - accuracy: 0.7397 - val_loss: nan - val_accuracy: 0.5037\n",
            "Epoch 240/300\n",
            "26/26 [==============================] - 0s 10ms/step - loss: 0.4620 - accuracy: 0.7421 - val_loss: nan - val_accuracy: 0.5062\n",
            "Epoch 241/300\n",
            "26/26 [==============================] - 0s 10ms/step - loss: 0.4658 - accuracy: 0.7421 - val_loss: nan - val_accuracy: 0.4863\n",
            "Epoch 242/300\n",
            "26/26 [==============================] - 0s 9ms/step - loss: 0.4712 - accuracy: 0.7336 - val_loss: nan - val_accuracy: 0.4963\n",
            "Epoch 243/300\n",
            "26/26 [==============================] - 0s 10ms/step - loss: 0.4625 - accuracy: 0.7457 - val_loss: nan - val_accuracy: 0.5012\n",
            "Epoch 244/300\n",
            "26/26 [==============================] - 0s 9ms/step - loss: 0.4653 - accuracy: 0.7397 - val_loss: nan - val_accuracy: 0.5012\n",
            "Epoch 245/300\n",
            "26/26 [==============================] - 0s 11ms/step - loss: 0.4613 - accuracy: 0.7445 - val_loss: nan - val_accuracy: 0.4813\n",
            "Epoch 246/300\n",
            "26/26 [==============================] - 0s 10ms/step - loss: 0.4645 - accuracy: 0.7433 - val_loss: nan - val_accuracy: 0.4988\n",
            "Epoch 247/300\n",
            "26/26 [==============================] - 0s 10ms/step - loss: 0.4603 - accuracy: 0.7506 - val_loss: nan - val_accuracy: 0.4913\n",
            "Epoch 248/300\n",
            "26/26 [==============================] - 0s 9ms/step - loss: 0.4587 - accuracy: 0.7384 - val_loss: nan - val_accuracy: 0.4963\n",
            "Epoch 249/300\n",
            "26/26 [==============================] - 0s 9ms/step - loss: 0.4718 - accuracy: 0.7409 - val_loss: nan - val_accuracy: 0.5012\n",
            "Epoch 250/300\n",
            "26/26 [==============================] - 0s 9ms/step - loss: 0.4622 - accuracy: 0.7397 - val_loss: nan - val_accuracy: 0.4938\n",
            "Epoch 251/300\n",
            "26/26 [==============================] - 0s 10ms/step - loss: 0.4622 - accuracy: 0.7409 - val_loss: nan - val_accuracy: 0.4963\n",
            "Epoch 252/300\n",
            "26/26 [==============================] - 0s 9ms/step - loss: 0.4538 - accuracy: 0.7482 - val_loss: nan - val_accuracy: 0.4938\n",
            "Epoch 253/300\n",
            "26/26 [==============================] - 0s 10ms/step - loss: 0.4631 - accuracy: 0.7445 - val_loss: nan - val_accuracy: 0.5037\n",
            "Epoch 254/300\n",
            "26/26 [==============================] - 0s 10ms/step - loss: 0.4505 - accuracy: 0.7530 - val_loss: nan - val_accuracy: 0.4838\n",
            "Epoch 255/300\n",
            "26/26 [==============================] - 0s 10ms/step - loss: 0.4510 - accuracy: 0.7555 - val_loss: nan - val_accuracy: 0.5062\n",
            "Epoch 256/300\n",
            "26/26 [==============================] - 0s 9ms/step - loss: 0.4544 - accuracy: 0.7567 - val_loss: nan - val_accuracy: 0.4713\n",
            "Epoch 257/300\n",
            "26/26 [==============================] - 0s 10ms/step - loss: 0.4612 - accuracy: 0.7470 - val_loss: nan - val_accuracy: 0.4863\n",
            "Epoch 258/300\n",
            "26/26 [==============================] - 0s 9ms/step - loss: 0.4588 - accuracy: 0.7482 - val_loss: nan - val_accuracy: 0.4913\n",
            "Epoch 259/300\n",
            "26/26 [==============================] - 0s 9ms/step - loss: 0.4636 - accuracy: 0.7494 - val_loss: nan - val_accuracy: 0.4963\n",
            "Epoch 260/300\n",
            "26/26 [==============================] - 0s 9ms/step - loss: 0.4398 - accuracy: 0.7689 - val_loss: nan - val_accuracy: 0.5012\n",
            "Epoch 261/300\n",
            "26/26 [==============================] - 0s 10ms/step - loss: 0.4393 - accuracy: 0.7640 - val_loss: nan - val_accuracy: 0.4863\n",
            "Epoch 262/300\n",
            "26/26 [==============================] - 0s 10ms/step - loss: 0.4406 - accuracy: 0.7591 - val_loss: nan - val_accuracy: 0.5037\n",
            "Epoch 263/300\n",
            "26/26 [==============================] - 0s 10ms/step - loss: 0.4358 - accuracy: 0.7652 - val_loss: nan - val_accuracy: 0.5037\n",
            "Epoch 264/300\n",
            "26/26 [==============================] - 0s 10ms/step - loss: 0.4447 - accuracy: 0.7457 - val_loss: nan - val_accuracy: 0.5012\n",
            "Epoch 265/300\n",
            "26/26 [==============================] - 0s 10ms/step - loss: 0.4415 - accuracy: 0.7640 - val_loss: nan - val_accuracy: 0.5087\n",
            "Epoch 266/300\n",
            "26/26 [==============================] - 0s 10ms/step - loss: 0.4368 - accuracy: 0.7701 - val_loss: nan - val_accuracy: 0.4963\n",
            "Epoch 267/300\n",
            "26/26 [==============================] - 0s 9ms/step - loss: 0.4348 - accuracy: 0.7701 - val_loss: nan - val_accuracy: 0.4938\n",
            "Epoch 268/300\n",
            "26/26 [==============================] - 0s 9ms/step - loss: 0.4392 - accuracy: 0.7628 - val_loss: nan - val_accuracy: 0.5012\n",
            "Epoch 269/300\n",
            "26/26 [==============================] - 0s 10ms/step - loss: 0.4444 - accuracy: 0.7567 - val_loss: nan - val_accuracy: 0.5062\n",
            "Epoch 270/300\n",
            "26/26 [==============================] - 0s 9ms/step - loss: 0.4566 - accuracy: 0.7518 - val_loss: nan - val_accuracy: 0.4738\n",
            "Epoch 271/300\n",
            "26/26 [==============================] - 0s 9ms/step - loss: 0.4532 - accuracy: 0.7603 - val_loss: nan - val_accuracy: 0.5112\n",
            "Epoch 272/300\n",
            "26/26 [==============================] - 0s 11ms/step - loss: 0.4381 - accuracy: 0.7543 - val_loss: nan - val_accuracy: 0.5062\n",
            "Epoch 273/300\n",
            "26/26 [==============================] - 0s 10ms/step - loss: 0.4360 - accuracy: 0.7713 - val_loss: nan - val_accuracy: 0.4938\n",
            "Epoch 274/300\n",
            "26/26 [==============================] - 0s 9ms/step - loss: 0.4304 - accuracy: 0.7579 - val_loss: nan - val_accuracy: 0.5037\n",
            "Epoch 275/300\n",
            "26/26 [==============================] - 0s 9ms/step - loss: 0.4304 - accuracy: 0.7701 - val_loss: nan - val_accuracy: 0.4938\n",
            "Epoch 276/300\n",
            "26/26 [==============================] - 0s 10ms/step - loss: 0.4234 - accuracy: 0.7762 - val_loss: nan - val_accuracy: 0.5012\n",
            "Epoch 277/300\n",
            "26/26 [==============================] - 0s 9ms/step - loss: 0.4238 - accuracy: 0.7713 - val_loss: nan - val_accuracy: 0.4938\n",
            "Epoch 278/300\n",
            "26/26 [==============================] - 0s 9ms/step - loss: 0.4281 - accuracy: 0.7689 - val_loss: nan - val_accuracy: 0.5062\n",
            "Epoch 279/300\n",
            "26/26 [==============================] - 0s 10ms/step - loss: 0.4233 - accuracy: 0.7701 - val_loss: nan - val_accuracy: 0.5037\n",
            "Epoch 280/300\n",
            "26/26 [==============================] - 0s 10ms/step - loss: 0.4334 - accuracy: 0.7567 - val_loss: nan - val_accuracy: 0.4963\n",
            "Epoch 281/300\n",
            "26/26 [==============================] - 0s 10ms/step - loss: 0.4482 - accuracy: 0.7616 - val_loss: nan - val_accuracy: 0.5112\n",
            "Epoch 282/300\n",
            "26/26 [==============================] - 0s 9ms/step - loss: 0.4282 - accuracy: 0.7640 - val_loss: nan - val_accuracy: 0.4963\n",
            "Epoch 283/300\n",
            "26/26 [==============================] - 0s 9ms/step - loss: 0.4308 - accuracy: 0.7628 - val_loss: nan - val_accuracy: 0.4988\n",
            "Epoch 284/300\n",
            "26/26 [==============================] - 0s 9ms/step - loss: 0.4230 - accuracy: 0.7701 - val_loss: nan - val_accuracy: 0.5062\n",
            "Epoch 285/300\n",
            "26/26 [==============================] - 0s 10ms/step - loss: 0.4254 - accuracy: 0.7567 - val_loss: nan - val_accuracy: 0.4963\n",
            "Epoch 286/300\n",
            "26/26 [==============================] - 0s 10ms/step - loss: 0.4255 - accuracy: 0.7676 - val_loss: nan - val_accuracy: 0.4938\n",
            "Epoch 287/300\n",
            "26/26 [==============================] - 0s 9ms/step - loss: 0.4292 - accuracy: 0.7652 - val_loss: nan - val_accuracy: 0.4988\n",
            "Epoch 288/300\n",
            "26/26 [==============================] - 0s 10ms/step - loss: 0.4161 - accuracy: 0.7689 - val_loss: nan - val_accuracy: 0.4988\n",
            "Epoch 289/300\n",
            "26/26 [==============================] - 0s 10ms/step - loss: 0.4099 - accuracy: 0.7749 - val_loss: nan - val_accuracy: 0.4988\n",
            "Epoch 290/300\n",
            "26/26 [==============================] - 0s 10ms/step - loss: 0.4146 - accuracy: 0.7664 - val_loss: nan - val_accuracy: 0.5037\n",
            "Epoch 291/300\n",
            "26/26 [==============================] - 0s 10ms/step - loss: 0.4130 - accuracy: 0.7749 - val_loss: nan - val_accuracy: 0.5062\n",
            "Epoch 292/300\n",
            "26/26 [==============================] - 0s 9ms/step - loss: 0.4103 - accuracy: 0.7689 - val_loss: nan - val_accuracy: 0.5087\n",
            "Epoch 293/300\n",
            "26/26 [==============================] - 0s 10ms/step - loss: 0.4194 - accuracy: 0.7749 - val_loss: nan - val_accuracy: 0.4863\n",
            "Epoch 294/300\n",
            "26/26 [==============================] - 0s 10ms/step - loss: 0.4154 - accuracy: 0.7749 - val_loss: nan - val_accuracy: 0.5037\n",
            "Epoch 295/300\n",
            "26/26 [==============================] - 0s 10ms/step - loss: 0.4148 - accuracy: 0.7737 - val_loss: nan - val_accuracy: 0.4988\n",
            "Epoch 296/300\n",
            "26/26 [==============================] - 0s 10ms/step - loss: 0.4089 - accuracy: 0.7786 - val_loss: nan - val_accuracy: 0.5187\n",
            "Epoch 297/300\n",
            "26/26 [==============================] - 0s 10ms/step - loss: 0.4074 - accuracy: 0.7737 - val_loss: nan - val_accuracy: 0.5037\n",
            "Epoch 298/300\n",
            "26/26 [==============================] - 0s 10ms/step - loss: 0.4051 - accuracy: 0.7701 - val_loss: nan - val_accuracy: 0.4938\n",
            "Epoch 299/300\n",
            "26/26 [==============================] - 0s 11ms/step - loss: 0.3994 - accuracy: 0.7798 - val_loss: nan - val_accuracy: 0.5037\n",
            "Epoch 300/300\n",
            "26/26 [==============================] - 0s 10ms/step - loss: 0.4059 - accuracy: 0.7798 - val_loss: nan - val_accuracy: 0.5037\n"
          ],
          "name": "stdout"
        }
      ]
    },
    {
      "cell_type": "code",
      "metadata": {
        "colab": {
          "base_uri": "https://localhost:8080/",
          "height": 282
        },
        "id": "LUisLXnjt9bc",
        "outputId": "05a00d4f-96e4-4833-a4d3-81e86a00180b"
      },
      "source": [
        "pd.DataFrame(history.history).plot()"
      ],
      "execution_count": 42,
      "outputs": [
        {
          "output_type": "execute_result",
          "data": {
            "text/plain": [
              "<matplotlib.axes._subplots.AxesSubplot at 0x7fbb79275190>"
            ]
          },
          "metadata": {
            "tags": []
          },
          "execution_count": 42
        },
        {
          "output_type": "display_data",
          "data": {
            "image/png": "[encoded data removed]",
            "text/plain": [
              "<Figure size 432x288 with 1 Axes>"
            ]
          },
          "metadata": {
            "tags": [],
            "needs_background": "light"
          }
        }
      ]
    },
    {
      "cell_type": "markdown",
      "metadata": {
        "id": "s2mGNDlPvB5m"
      },
      "source": [
        "# Conclusion\n",
        "\n",
        "* we cannot do even binary prediction ... Regression is far difficult..Hence it's very difficult to predict the stock price\n",
        "* for binary classification 50% accuracy is the worst \n",
        "* Once might still work with making prediction with one step forecast\n",
        "* Stock prices closely follows a random walk, hence naive forecast is the best\n",
        "* Once might try to predict muliple output at once"
      ]
    },
    {
      "cell_type": "markdown",
      "metadata": {
        "id": "Lk0xYI-zvEnA"
      },
      "source": [
        ""
      ]
    },
    {
      "cell_type": "code",
      "metadata": {
        "id": "24A9HsNyuVGb"
      },
      "source": [
        "X_train=np.zeros((Ntrain,T,D))\n",
        "y_train=np.zeros((Ntrain,T))\n",
        "\n",
        "for t in range(Ntrain):\n",
        "  X_train[t,:,:]=data[t:t+T]\n",
        "  y_train[t,:]=(target[t:t+T]>0)"
      ],
      "execution_count": 43,
      "outputs": []
    },
    {
      "cell_type": "code",
      "metadata": {
        "id": "oJj3W3p2wpom"
      },
      "source": [
        "X_test=np.zeros((N-Ntrain,T,D))\n",
        "y_test=np.zeros((N-Ntrain,T))\n",
        "\n",
        "for u in range(N-Ntrain):\n",
        "  t=u+Ntrain\n",
        "  X_test[u,:,:]=data[t:t+T]\n",
        "  y_test[u]=(target[t:t+T]>0)"
      ],
      "execution_count": 44,
      "outputs": []
    },
    {
      "cell_type": "code",
      "metadata": {
        "colab": {
          "base_uri": "https://localhost:8080/"
        },
        "id": "2ffG7vr7wrEX",
        "outputId": "a2a39840-cc5c-4f88-f57e-2881ab5531ea"
      },
      "source": [
        "model=tf.keras.Sequential([\n",
        "                           Input(shape=(T,D)),\n",
        "                           LSTM(32,return_sequences=True),\n",
        "                           LSTM(16),\n",
        "                           Dense(10,activation=\"sigmoid\")\n",
        "])\n",
        "\n",
        "model.compile(loss=\"binary_crossentropy\",optimizer=Adam(lr=0.001),metrics=[\"accuracy\"])"
      ],
      "execution_count": 45,
      "outputs": [
        {
          "output_type": "stream",
          "text": [
            "WARNING:tensorflow:Please add `keras.layers.InputLayer` instead of `keras.Input` to Sequential model. `keras.Input` is intended to be used by Functional model.\n"
          ],
          "name": "stdout"
        },
        {
          "output_type": "stream",
          "text": [
            "/usr/local/lib/python3.7/dist-packages/tensorflow/python/keras/optimizer_v2/optimizer_v2.py:375: UserWarning: The `lr` argument is deprecated, use `learning_rate` instead.\n",
            "  \"The `lr` argument is deprecated, use `learning_rate` instead.\")\n"
          ],
          "name": "stderr"
        }
      ]
    },
    {
      "cell_type": "code",
      "metadata": {
        "id": "dhd0Rec-4lLB"
      },
      "source": [
        "class CustomSaver(tf.keras.callbacks.Callback):\n",
        "    def on_epoch_end(self, epoch, logs={}):\n",
        "        if (epoch % 5 == 0):  # or save after some epoch, each k-th epoch etc.\n",
        "            self.model.save(\"model_{}.hd5\".format(epoch))"
      ],
      "execution_count": 48,
      "outputs": []
    },
    {
      "cell_type": "code",
      "metadata": {
        "colab": {
          "base_uri": "https://localhost:8080/"
        },
        "id": "dZb99NWSxWHw",
        "outputId": "1228a3ea-8254-4867-df00-3192f585c16a"
      },
      "source": [
        "history=model.fit(X_train,y_train,batch_size=16,validation_data=(X_test,y_test),epochs=100,callbacks=[CustomSaver()])"
      ],
      "execution_count": 49,
      "outputs": [
        {
          "output_type": "stream",
          "text": [
            "Epoch 1/100\n",
            "52/52 [==============================] - 4s 30ms/step - loss: 0.6922 - accuracy: 0.1277 - val_loss: nan - val_accuracy: 0.4713\n"
          ],
          "name": "stdout"
        },
        {
          "output_type": "stream",
          "text": [
            "WARNING:absl:Found untraced functions such as lstm_cell_4_layer_call_fn, lstm_cell_4_layer_call_and_return_conditional_losses, lstm_cell_5_layer_call_fn, lstm_cell_5_layer_call_and_return_conditional_losses, lstm_cell_4_layer_call_fn while saving (showing 5 of 10). These functions will not be directly callable after loading.\n"
          ],
          "name": "stderr"
        },
        {
          "output_type": "stream",
          "text": [
            "INFO:tensorflow:Assets written to: model_0.hd5/assets\n"
          ],
          "name": "stdout"
        },
        {
          "output_type": "stream",
          "text": [
            "INFO:tensorflow:Assets written to: model_0.hd5/assets\n"
          ],
          "name": "stderr"
        },
        {
          "output_type": "stream",
          "text": [
            "Epoch 2/100\n",
            "52/52 [==============================] - 1s 12ms/step - loss: 0.6918 - accuracy: 0.2202 - val_loss: nan - val_accuracy: 0.5037\n",
            "Epoch 3/100\n",
            "52/52 [==============================] - 1s 11ms/step - loss: 0.6911 - accuracy: 0.1800 - val_loss: nan - val_accuracy: 0.3641\n",
            "Epoch 4/100\n",
            "52/52 [==============================] - 1s 11ms/step - loss: 0.6909 - accuracy: 0.1290 - val_loss: nan - val_accuracy: 0.1995\n",
            "Epoch 5/100\n",
            "52/52 [==============================] - 1s 11ms/step - loss: 0.6899 - accuracy: 0.1934 - val_loss: nan - val_accuracy: 0.5037\n",
            "Epoch 6/100\n",
            "52/52 [==============================] - 1s 12ms/step - loss: 0.6892 - accuracy: 0.0791 - val_loss: nan - val_accuracy: 0.1895\n"
          ],
          "name": "stdout"
        },
        {
          "output_type": "stream",
          "text": [
            "WARNING:absl:Found untraced functions such as lstm_cell_4_layer_call_fn, lstm_cell_4_layer_call_and_return_conditional_losses, lstm_cell_5_layer_call_fn, lstm_cell_5_layer_call_and_return_conditional_losses, lstm_cell_4_layer_call_fn while saving (showing 5 of 10). These functions will not be directly callable after loading.\n"
          ],
          "name": "stderr"
        },
        {
          "output_type": "stream",
          "text": [
            "INFO:tensorflow:Assets written to: model_5.hd5/assets\n"
          ],
          "name": "stdout"
        },
        {
          "output_type": "stream",
          "text": [
            "INFO:tensorflow:Assets written to: model_5.hd5/assets\n"
          ],
          "name": "stderr"
        },
        {
          "output_type": "stream",
          "text": [
            "Epoch 7/100\n",
            "52/52 [==============================] - 1s 11ms/step - loss: 0.6882 - accuracy: 0.1679 - val_loss: nan - val_accuracy: 0.2918\n",
            "Epoch 8/100\n",
            "52/52 [==============================] - 1s 13ms/step - loss: 0.6874 - accuracy: 0.1095 - val_loss: nan - val_accuracy: 0.3865\n",
            "Epoch 9/100\n",
            "52/52 [==============================] - 1s 11ms/step - loss: 0.6866 - accuracy: 0.1959 - val_loss: nan - val_accuracy: 0.1870\n",
            "Epoch 10/100\n",
            "52/52 [==============================] - 1s 12ms/step - loss: 0.6868 - accuracy: 0.1180 - val_loss: nan - val_accuracy: 0.2494\n",
            "Epoch 11/100\n",
            "52/52 [==============================] - 1s 12ms/step - loss: 0.6861 - accuracy: 0.1314 - val_loss: nan - val_accuracy: 0.1995\n"
          ],
          "name": "stdout"
        },
        {
          "output_type": "stream",
          "text": [
            "WARNING:absl:Found untraced functions such as lstm_cell_4_layer_call_fn, lstm_cell_4_layer_call_and_return_conditional_losses, lstm_cell_5_layer_call_fn, lstm_cell_5_layer_call_and_return_conditional_losses, lstm_cell_4_layer_call_fn while saving (showing 5 of 10). These functions will not be directly callable after loading.\n"
          ],
          "name": "stderr"
        },
        {
          "output_type": "stream",
          "text": [
            "INFO:tensorflow:Assets written to: model_10.hd5/assets\n"
          ],
          "name": "stdout"
        },
        {
          "output_type": "stream",
          "text": [
            "INFO:tensorflow:Assets written to: model_10.hd5/assets\n"
          ],
          "name": "stderr"
        },
        {
          "output_type": "stream",
          "text": [
            "Epoch 12/100\n",
            "52/52 [==============================] - 1s 12ms/step - loss: 0.6859 - accuracy: 0.1472 - val_loss: nan - val_accuracy: 0.1022\n",
            "Epoch 13/100\n",
            "52/52 [==============================] - 1s 13ms/step - loss: 0.6852 - accuracy: 0.1180 - val_loss: nan - val_accuracy: 0.1771\n",
            "Epoch 14/100\n",
            "52/52 [==============================] - 1s 12ms/step - loss: 0.6845 - accuracy: 0.1460 - val_loss: nan - val_accuracy: 0.1072\n",
            "Epoch 15/100\n",
            "52/52 [==============================] - 1s 12ms/step - loss: 0.6843 - accuracy: 0.1387 - val_loss: nan - val_accuracy: 0.3142\n",
            "Epoch 16/100\n",
            "52/52 [==============================] - 1s 11ms/step - loss: 0.6833 - accuracy: 0.1460 - val_loss: nan - val_accuracy: 0.1671\n"
          ],
          "name": "stdout"
        },
        {
          "output_type": "stream",
          "text": [
            "WARNING:absl:Found untraced functions such as lstm_cell_4_layer_call_fn, lstm_cell_4_layer_call_and_return_conditional_losses, lstm_cell_5_layer_call_fn, lstm_cell_5_layer_call_and_return_conditional_losses, lstm_cell_4_layer_call_fn while saving (showing 5 of 10). These functions will not be directly callable after loading.\n"
          ],
          "name": "stderr"
        },
        {
          "output_type": "stream",
          "text": [
            "INFO:tensorflow:Assets written to: model_15.hd5/assets\n"
          ],
          "name": "stdout"
        },
        {
          "output_type": "stream",
          "text": [
            "INFO:tensorflow:Assets written to: model_15.hd5/assets\n"
          ],
          "name": "stderr"
        },
        {
          "output_type": "stream",
          "text": [
            "Epoch 17/100\n",
            "52/52 [==============================] - 1s 12ms/step - loss: 0.6831 - accuracy: 0.1156 - val_loss: nan - val_accuracy: 0.1771\n",
            "Epoch 18/100\n",
            "52/52 [==============================] - 1s 12ms/step - loss: 0.6828 - accuracy: 0.1253 - val_loss: nan - val_accuracy: 0.1771\n",
            "Epoch 19/100\n",
            "52/52 [==============================] - 1s 12ms/step - loss: 0.6832 - accuracy: 0.0815 - val_loss: nan - val_accuracy: 0.2444\n",
            "Epoch 20/100\n",
            "52/52 [==============================] - 1s 12ms/step - loss: 0.6815 - accuracy: 0.0827 - val_loss: nan - val_accuracy: 0.2219\n",
            "Epoch 21/100\n",
            "52/52 [==============================] - 1s 12ms/step - loss: 0.6815 - accuracy: 0.1131 - val_loss: nan - val_accuracy: 0.1895\n"
          ],
          "name": "stdout"
        },
        {
          "output_type": "stream",
          "text": [
            "WARNING:absl:Found untraced functions such as lstm_cell_4_layer_call_fn, lstm_cell_4_layer_call_and_return_conditional_losses, lstm_cell_5_layer_call_fn, lstm_cell_5_layer_call_and_return_conditional_losses, lstm_cell_4_layer_call_fn while saving (showing 5 of 10). These functions will not be directly callable after loading.\n"
          ],
          "name": "stderr"
        },
        {
          "output_type": "stream",
          "text": [
            "INFO:tensorflow:Assets written to: model_20.hd5/assets\n"
          ],
          "name": "stdout"
        },
        {
          "output_type": "stream",
          "text": [
            "INFO:tensorflow:Assets written to: model_20.hd5/assets\n"
          ],
          "name": "stderr"
        },
        {
          "output_type": "stream",
          "text": [
            "Epoch 22/100\n",
            "52/52 [==============================] - 1s 12ms/step - loss: 0.6803 - accuracy: 0.1119 - val_loss: nan - val_accuracy: 0.2893\n",
            "Epoch 23/100\n",
            "52/52 [==============================] - 1s 12ms/step - loss: 0.6796 - accuracy: 0.0985 - val_loss: nan - val_accuracy: 0.3840\n",
            "Epoch 24/100\n",
            "52/52 [==============================] - 1s 12ms/step - loss: 0.6791 - accuracy: 0.1083 - val_loss: nan - val_accuracy: 0.2394\n",
            "Epoch 25/100\n",
            "52/52 [==============================] - 1s 13ms/step - loss: 0.6771 - accuracy: 0.0681 - val_loss: nan - val_accuracy: 0.1471\n",
            "Epoch 26/100\n",
            "52/52 [==============================] - 1s 12ms/step - loss: 0.6761 - accuracy: 0.0998 - val_loss: nan - val_accuracy: 0.1521\n"
          ],
          "name": "stdout"
        },
        {
          "output_type": "stream",
          "text": [
            "WARNING:absl:Found untraced functions such as lstm_cell_4_layer_call_fn, lstm_cell_4_layer_call_and_return_conditional_losses, lstm_cell_5_layer_call_fn, lstm_cell_5_layer_call_and_return_conditional_losses, lstm_cell_4_layer_call_fn while saving (showing 5 of 10). These functions will not be directly callable after loading.\n"
          ],
          "name": "stderr"
        },
        {
          "output_type": "stream",
          "text": [
            "INFO:tensorflow:Assets written to: model_25.hd5/assets\n"
          ],
          "name": "stdout"
        },
        {
          "output_type": "stream",
          "text": [
            "INFO:tensorflow:Assets written to: model_25.hd5/assets\n"
          ],
          "name": "stderr"
        },
        {
          "output_type": "stream",
          "text": [
            "Epoch 27/100\n",
            "52/52 [==============================] - 1s 12ms/step - loss: 0.6745 - accuracy: 0.0693 - val_loss: nan - val_accuracy: 0.1920\n",
            "Epoch 28/100\n",
            "52/52 [==============================] - 1s 12ms/step - loss: 0.6720 - accuracy: 0.0937 - val_loss: nan - val_accuracy: 0.2020\n",
            "Epoch 29/100\n",
            "52/52 [==============================] - 1s 13ms/step - loss: 0.6705 - accuracy: 0.0949 - val_loss: nan - val_accuracy: 0.0574\n",
            "Epoch 30/100\n",
            "52/52 [==============================] - 1s 12ms/step - loss: 0.6696 - accuracy: 0.0754 - val_loss: nan - val_accuracy: 0.1970\n",
            "Epoch 31/100\n",
            "52/52 [==============================] - 1s 12ms/step - loss: 0.6658 - accuracy: 0.1034 - val_loss: nan - val_accuracy: 0.1197\n"
          ],
          "name": "stdout"
        },
        {
          "output_type": "stream",
          "text": [
            "WARNING:absl:Found untraced functions such as lstm_cell_4_layer_call_fn, lstm_cell_4_layer_call_and_return_conditional_losses, lstm_cell_5_layer_call_fn, lstm_cell_5_layer_call_and_return_conditional_losses, lstm_cell_4_layer_call_fn while saving (showing 5 of 10). These functions will not be directly callable after loading.\n"
          ],
          "name": "stderr"
        },
        {
          "output_type": "stream",
          "text": [
            "INFO:tensorflow:Assets written to: model_30.hd5/assets\n"
          ],
          "name": "stdout"
        },
        {
          "output_type": "stream",
          "text": [
            "INFO:tensorflow:Assets written to: model_30.hd5/assets\n"
          ],
          "name": "stderr"
        },
        {
          "output_type": "stream",
          "text": [
            "Epoch 32/100\n",
            "52/52 [==============================] - 1s 12ms/step - loss: 0.6635 - accuracy: 0.0754 - val_loss: nan - val_accuracy: 0.1397\n",
            "Epoch 33/100\n",
            "52/52 [==============================] - 1s 12ms/step - loss: 0.6590 - accuracy: 0.1034 - val_loss: nan - val_accuracy: 0.1097\n",
            "Epoch 34/100\n",
            "52/52 [==============================] - 1s 13ms/step - loss: 0.6569 - accuracy: 0.1144 - val_loss: nan - val_accuracy: 0.1421\n",
            "Epoch 35/100\n",
            "52/52 [==============================] - 1s 11ms/step - loss: 0.6544 - accuracy: 0.1472 - val_loss: nan - val_accuracy: 0.1796\n",
            "Epoch 36/100\n",
            "52/52 [==============================] - 1s 12ms/step - loss: 0.6507 - accuracy: 0.1277 - val_loss: nan - val_accuracy: 0.1272\n"
          ],
          "name": "stdout"
        },
        {
          "output_type": "stream",
          "text": [
            "WARNING:absl:Found untraced functions such as lstm_cell_4_layer_call_fn, lstm_cell_4_layer_call_and_return_conditional_losses, lstm_cell_5_layer_call_fn, lstm_cell_5_layer_call_and_return_conditional_losses, lstm_cell_4_layer_call_fn while saving (showing 5 of 10). These functions will not be directly callable after loading.\n"
          ],
          "name": "stderr"
        },
        {
          "output_type": "stream",
          "text": [
            "INFO:tensorflow:Assets written to: model_35.hd5/assets\n"
          ],
          "name": "stdout"
        },
        {
          "output_type": "stream",
          "text": [
            "INFO:tensorflow:Assets written to: model_35.hd5/assets\n"
          ],
          "name": "stderr"
        },
        {
          "output_type": "stream",
          "text": [
            "Epoch 37/100\n",
            "52/52 [==============================] - 1s 12ms/step - loss: 0.6459 - accuracy: 0.1168 - val_loss: nan - val_accuracy: 0.1322\n",
            "Epoch 38/100\n",
            "52/52 [==============================] - 1s 12ms/step - loss: 0.6438 - accuracy: 0.1192 - val_loss: nan - val_accuracy: 0.1322\n",
            "Epoch 39/100\n",
            "52/52 [==============================] - 1s 12ms/step - loss: 0.6407 - accuracy: 0.1265 - val_loss: nan - val_accuracy: 0.1372\n",
            "Epoch 40/100\n",
            "52/52 [==============================] - 1s 12ms/step - loss: 0.6370 - accuracy: 0.1192 - val_loss: nan - val_accuracy: 0.0973\n",
            "Epoch 41/100\n",
            "52/52 [==============================] - 1s 12ms/step - loss: 0.6390 - accuracy: 0.1131 - val_loss: nan - val_accuracy: 0.1047\n"
          ],
          "name": "stdout"
        },
        {
          "output_type": "stream",
          "text": [
            "WARNING:absl:Found untraced functions such as lstm_cell_4_layer_call_fn, lstm_cell_4_layer_call_and_return_conditional_losses, lstm_cell_5_layer_call_fn, lstm_cell_5_layer_call_and_return_conditional_losses, lstm_cell_4_layer_call_fn while saving (showing 5 of 10). These functions will not be directly callable after loading.\n"
          ],
          "name": "stderr"
        },
        {
          "output_type": "stream",
          "text": [
            "INFO:tensorflow:Assets written to: model_40.hd5/assets\n"
          ],
          "name": "stdout"
        },
        {
          "output_type": "stream",
          "text": [
            "INFO:tensorflow:Assets written to: model_40.hd5/assets\n"
          ],
          "name": "stderr"
        },
        {
          "output_type": "stream",
          "text": [
            "Epoch 42/100\n",
            "52/52 [==============================] - 1s 14ms/step - loss: 0.6359 - accuracy: 0.1131 - val_loss: nan - val_accuracy: 0.0923\n",
            "Epoch 43/100\n",
            "52/52 [==============================] - 1s 13ms/step - loss: 0.6335 - accuracy: 0.0803 - val_loss: nan - val_accuracy: 0.0948\n",
            "Epoch 44/100\n",
            "52/52 [==============================] - 1s 13ms/step - loss: 0.6317 - accuracy: 0.1131 - val_loss: nan - val_accuracy: 0.1022\n",
            "Epoch 45/100\n",
            "52/52 [==============================] - 1s 13ms/step - loss: 0.6315 - accuracy: 0.1071 - val_loss: nan - val_accuracy: 0.1072\n",
            "Epoch 46/100\n",
            "52/52 [==============================] - 1s 12ms/step - loss: 0.6305 - accuracy: 0.1022 - val_loss: nan - val_accuracy: 0.0748\n"
          ],
          "name": "stdout"
        },
        {
          "output_type": "stream",
          "text": [
            "WARNING:absl:Found untraced functions such as lstm_cell_4_layer_call_fn, lstm_cell_4_layer_call_and_return_conditional_losses, lstm_cell_5_layer_call_fn, lstm_cell_5_layer_call_and_return_conditional_losses, lstm_cell_4_layer_call_fn while saving (showing 5 of 10). These functions will not be directly callable after loading.\n"
          ],
          "name": "stderr"
        },
        {
          "output_type": "stream",
          "text": [
            "INFO:tensorflow:Assets written to: model_45.hd5/assets\n"
          ],
          "name": "stdout"
        },
        {
          "output_type": "stream",
          "text": [
            "INFO:tensorflow:Assets written to: model_45.hd5/assets\n"
          ],
          "name": "stderr"
        },
        {
          "output_type": "stream",
          "text": [
            "Epoch 47/100\n",
            "52/52 [==============================] - 1s 12ms/step - loss: 0.6298 - accuracy: 0.0937 - val_loss: nan - val_accuracy: 0.1022\n",
            "Epoch 48/100\n",
            "52/52 [==============================] - 1s 12ms/step - loss: 0.6272 - accuracy: 0.0937 - val_loss: nan - val_accuracy: 0.0873\n",
            "Epoch 49/100\n",
            "52/52 [==============================] - 1s 12ms/step - loss: 0.6297 - accuracy: 0.0669 - val_loss: nan - val_accuracy: 0.0973\n",
            "Epoch 50/100\n",
            "52/52 [==============================] - 1s 12ms/step - loss: 0.6294 - accuracy: 0.1095 - val_loss: nan - val_accuracy: 0.0698\n",
            "Epoch 51/100\n",
            "52/52 [==============================] - 1s 12ms/step - loss: 0.6269 - accuracy: 0.0876 - val_loss: nan - val_accuracy: 0.0723\n"
          ],
          "name": "stdout"
        },
        {
          "output_type": "stream",
          "text": [
            "WARNING:absl:Found untraced functions such as lstm_cell_4_layer_call_fn, lstm_cell_4_layer_call_and_return_conditional_losses, lstm_cell_5_layer_call_fn, lstm_cell_5_layer_call_and_return_conditional_losses, lstm_cell_4_layer_call_fn while saving (showing 5 of 10). These functions will not be directly callable after loading.\n"
          ],
          "name": "stderr"
        },
        {
          "output_type": "stream",
          "text": [
            "INFO:tensorflow:Assets written to: model_50.hd5/assets\n"
          ],
          "name": "stdout"
        },
        {
          "output_type": "stream",
          "text": [
            "INFO:tensorflow:Assets written to: model_50.hd5/assets\n"
          ],
          "name": "stderr"
        },
        {
          "output_type": "stream",
          "text": [
            "Epoch 52/100\n",
            "52/52 [==============================] - 1s 13ms/step - loss: 0.6261 - accuracy: 0.0912 - val_loss: nan - val_accuracy: 0.0948\n",
            "Epoch 53/100\n",
            "52/52 [==============================] - 1s 13ms/step - loss: 0.6254 - accuracy: 0.0925 - val_loss: nan - val_accuracy: 0.0848\n",
            "Epoch 54/100\n",
            "52/52 [==============================] - 1s 12ms/step - loss: 0.6242 - accuracy: 0.1034 - val_loss: nan - val_accuracy: 0.0623\n",
            "Epoch 55/100\n",
            "52/52 [==============================] - 1s 12ms/step - loss: 0.6220 - accuracy: 0.0827 - val_loss: nan - val_accuracy: 0.0873\n",
            "Epoch 56/100\n",
            "52/52 [==============================] - 1s 12ms/step - loss: 0.6220 - accuracy: 0.0985 - val_loss: nan - val_accuracy: 0.0748\n"
          ],
          "name": "stdout"
        },
        {
          "output_type": "stream",
          "text": [
            "WARNING:absl:Found untraced functions such as lstm_cell_4_layer_call_fn, lstm_cell_4_layer_call_and_return_conditional_losses, lstm_cell_5_layer_call_fn, lstm_cell_5_layer_call_and_return_conditional_losses, lstm_cell_4_layer_call_fn while saving (showing 5 of 10). These functions will not be directly callable after loading.\n"
          ],
          "name": "stderr"
        },
        {
          "output_type": "stream",
          "text": [
            "INFO:tensorflow:Assets written to: model_55.hd5/assets\n"
          ],
          "name": "stdout"
        },
        {
          "output_type": "stream",
          "text": [
            "INFO:tensorflow:Assets written to: model_55.hd5/assets\n"
          ],
          "name": "stderr"
        },
        {
          "output_type": "stream",
          "text": [
            "Epoch 57/100\n",
            "52/52 [==============================] - 1s 12ms/step - loss: 0.6216 - accuracy: 0.0803 - val_loss: nan - val_accuracy: 0.0898\n",
            "Epoch 58/100\n",
            "52/52 [==============================] - 1s 11ms/step - loss: 0.6216 - accuracy: 0.0718 - val_loss: nan - val_accuracy: 0.0848\n",
            "Epoch 59/100\n",
            "52/52 [==============================] - 1s 12ms/step - loss: 0.6198 - accuracy: 0.1058 - val_loss: nan - val_accuracy: 0.0798\n",
            "Epoch 60/100\n",
            "52/52 [==============================] - 1s 12ms/step - loss: 0.6213 - accuracy: 0.0718 - val_loss: nan - val_accuracy: 0.0623\n",
            "Epoch 61/100\n",
            "52/52 [==============================] - 1s 12ms/step - loss: 0.6193 - accuracy: 0.0876 - val_loss: nan - val_accuracy: 0.0673\n"
          ],
          "name": "stdout"
        },
        {
          "output_type": "stream",
          "text": [
            "WARNING:absl:Found untraced functions such as lstm_cell_4_layer_call_fn, lstm_cell_4_layer_call_and_return_conditional_losses, lstm_cell_5_layer_call_fn, lstm_cell_5_layer_call_and_return_conditional_losses, lstm_cell_4_layer_call_fn while saving (showing 5 of 10). These functions will not be directly callable after loading.\n"
          ],
          "name": "stderr"
        },
        {
          "output_type": "stream",
          "text": [
            "INFO:tensorflow:Assets written to: model_60.hd5/assets\n"
          ],
          "name": "stdout"
        },
        {
          "output_type": "stream",
          "text": [
            "INFO:tensorflow:Assets written to: model_60.hd5/assets\n"
          ],
          "name": "stderr"
        },
        {
          "output_type": "stream",
          "text": [
            "Epoch 62/100\n",
            "52/52 [==============================] - 1s 12ms/step - loss: 0.6189 - accuracy: 0.0779 - val_loss: nan - val_accuracy: 0.0773\n",
            "Epoch 63/100\n",
            "52/52 [==============================] - 1s 13ms/step - loss: 0.6174 - accuracy: 0.0852 - val_loss: nan - val_accuracy: 0.0648\n",
            "Epoch 64/100\n",
            "52/52 [==============================] - 1s 12ms/step - loss: 0.6135 - accuracy: 0.0839 - val_loss: nan - val_accuracy: 0.0773\n",
            "Epoch 65/100\n",
            "52/52 [==============================] - 1s 12ms/step - loss: 0.6169 - accuracy: 0.0852 - val_loss: nan - val_accuracy: 0.0898\n",
            "Epoch 66/100\n",
            "52/52 [==============================] - 1s 12ms/step - loss: 0.6140 - accuracy: 0.0876 - val_loss: nan - val_accuracy: 0.0948\n"
          ],
          "name": "stdout"
        },
        {
          "output_type": "stream",
          "text": [
            "WARNING:absl:Found untraced functions such as lstm_cell_4_layer_call_fn, lstm_cell_4_layer_call_and_return_conditional_losses, lstm_cell_5_layer_call_fn, lstm_cell_5_layer_call_and_return_conditional_losses, lstm_cell_4_layer_call_fn while saving (showing 5 of 10). These functions will not be directly callable after loading.\n"
          ],
          "name": "stderr"
        },
        {
          "output_type": "stream",
          "text": [
            "INFO:tensorflow:Assets written to: model_65.hd5/assets\n"
          ],
          "name": "stdout"
        },
        {
          "output_type": "stream",
          "text": [
            "INFO:tensorflow:Assets written to: model_65.hd5/assets\n"
          ],
          "name": "stderr"
        },
        {
          "output_type": "stream",
          "text": [
            "Epoch 67/100\n",
            "52/52 [==============================] - 1s 12ms/step - loss: 0.6157 - accuracy: 0.0791 - val_loss: nan - val_accuracy: 0.0848\n",
            "Epoch 68/100\n",
            "52/52 [==============================] - 1s 13ms/step - loss: 0.6126 - accuracy: 0.0973 - val_loss: nan - val_accuracy: 0.0798\n",
            "Epoch 69/100\n",
            "52/52 [==============================] - 1s 12ms/step - loss: 0.6138 - accuracy: 0.0791 - val_loss: nan - val_accuracy: 0.0673\n",
            "Epoch 70/100\n",
            "52/52 [==============================] - 1s 12ms/step - loss: 0.6115 - accuracy: 0.0973 - val_loss: nan - val_accuracy: 0.0648\n",
            "Epoch 71/100\n",
            "52/52 [==============================] - 1s 12ms/step - loss: 0.6123 - accuracy: 0.0985 - val_loss: nan - val_accuracy: 0.0748\n"
          ],
          "name": "stdout"
        },
        {
          "output_type": "stream",
          "text": [
            "WARNING:absl:Found untraced functions such as lstm_cell_4_layer_call_fn, lstm_cell_4_layer_call_and_return_conditional_losses, lstm_cell_5_layer_call_fn, lstm_cell_5_layer_call_and_return_conditional_losses, lstm_cell_4_layer_call_fn while saving (showing 5 of 10). These functions will not be directly callable after loading.\n"
          ],
          "name": "stderr"
        },
        {
          "output_type": "stream",
          "text": [
            "INFO:tensorflow:Assets written to: model_70.hd5/assets\n"
          ],
          "name": "stdout"
        },
        {
          "output_type": "stream",
          "text": [
            "INFO:tensorflow:Assets written to: model_70.hd5/assets\n"
          ],
          "name": "stderr"
        },
        {
          "output_type": "stream",
          "text": [
            "Epoch 72/100\n",
            "52/52 [==============================] - 1s 12ms/step - loss: 0.6111 - accuracy: 0.0839 - val_loss: nan - val_accuracy: 0.0773\n",
            "Epoch 73/100\n",
            "52/52 [==============================] - 1s 13ms/step - loss: 0.6121 - accuracy: 0.0937 - val_loss: nan - val_accuracy: 0.0848\n",
            "Epoch 74/100\n",
            "52/52 [==============================] - 1s 13ms/step - loss: 0.6119 - accuracy: 0.0803 - val_loss: nan - val_accuracy: 0.0773\n",
            "Epoch 75/100\n",
            "52/52 [==============================] - 1s 13ms/step - loss: 0.6100 - accuracy: 0.0912 - val_loss: nan - val_accuracy: 0.0773\n",
            "Epoch 76/100\n",
            "52/52 [==============================] - 1s 13ms/step - loss: 0.6064 - accuracy: 0.0864 - val_loss: nan - val_accuracy: 0.0823\n"
          ],
          "name": "stdout"
        },
        {
          "output_type": "stream",
          "text": [
            "WARNING:absl:Found untraced functions such as lstm_cell_4_layer_call_fn, lstm_cell_4_layer_call_and_return_conditional_losses, lstm_cell_5_layer_call_fn, lstm_cell_5_layer_call_and_return_conditional_losses, lstm_cell_4_layer_call_fn while saving (showing 5 of 10). These functions will not be directly callable after loading.\n"
          ],
          "name": "stderr"
        },
        {
          "output_type": "stream",
          "text": [
            "INFO:tensorflow:Assets written to: model_75.hd5/assets\n"
          ],
          "name": "stdout"
        },
        {
          "output_type": "stream",
          "text": [
            "INFO:tensorflow:Assets written to: model_75.hd5/assets\n"
          ],
          "name": "stderr"
        },
        {
          "output_type": "stream",
          "text": [
            "Epoch 77/100\n",
            "52/52 [==============================] - 1s 12ms/step - loss: 0.6109 - accuracy: 0.0912 - val_loss: nan - val_accuracy: 0.0723\n",
            "Epoch 78/100\n",
            "52/52 [==============================] - 1s 12ms/step - loss: 0.6062 - accuracy: 0.0876 - val_loss: nan - val_accuracy: 0.0723\n",
            "Epoch 79/100\n",
            "52/52 [==============================] - 1s 12ms/step - loss: 0.6067 - accuracy: 0.0876 - val_loss: nan - val_accuracy: 0.0798\n",
            "Epoch 80/100\n",
            "52/52 [==============================] - 1s 12ms/step - loss: 0.6041 - accuracy: 0.0645 - val_loss: nan - val_accuracy: 0.0698\n",
            "Epoch 81/100\n",
            "52/52 [==============================] - 1s 12ms/step - loss: 0.6047 - accuracy: 0.0864 - val_loss: nan - val_accuracy: 0.0748\n"
          ],
          "name": "stdout"
        },
        {
          "output_type": "stream",
          "text": [
            "WARNING:absl:Found untraced functions such as lstm_cell_4_layer_call_fn, lstm_cell_4_layer_call_and_return_conditional_losses, lstm_cell_5_layer_call_fn, lstm_cell_5_layer_call_and_return_conditional_losses, lstm_cell_4_layer_call_fn while saving (showing 5 of 10). These functions will not be directly callable after loading.\n"
          ],
          "name": "stderr"
        },
        {
          "output_type": "stream",
          "text": [
            "INFO:tensorflow:Assets written to: model_80.hd5/assets\n"
          ],
          "name": "stdout"
        },
        {
          "output_type": "stream",
          "text": [
            "INFO:tensorflow:Assets written to: model_80.hd5/assets\n"
          ],
          "name": "stderr"
        },
        {
          "output_type": "stream",
          "text": [
            "Epoch 82/100\n",
            "52/52 [==============================] - 1s 13ms/step - loss: 0.6041 - accuracy: 0.0718 - val_loss: nan - val_accuracy: 0.0623\n",
            "Epoch 83/100\n",
            "52/52 [==============================] - 1s 13ms/step - loss: 0.6033 - accuracy: 0.0852 - val_loss: nan - val_accuracy: 0.0723\n",
            "Epoch 84/100\n",
            "52/52 [==============================] - 1s 12ms/step - loss: 0.6038 - accuracy: 0.1022 - val_loss: nan - val_accuracy: 0.0648\n",
            "Epoch 85/100\n",
            "52/52 [==============================] - 1s 12ms/step - loss: 0.6023 - accuracy: 0.0839 - val_loss: nan - val_accuracy: 0.0798\n",
            "Epoch 86/100\n",
            "52/52 [==============================] - 1s 12ms/step - loss: 0.6021 - accuracy: 0.0961 - val_loss: nan - val_accuracy: 0.0673\n"
          ],
          "name": "stdout"
        },
        {
          "output_type": "stream",
          "text": [
            "WARNING:absl:Found untraced functions such as lstm_cell_4_layer_call_fn, lstm_cell_4_layer_call_and_return_conditional_losses, lstm_cell_5_layer_call_fn, lstm_cell_5_layer_call_and_return_conditional_losses, lstm_cell_4_layer_call_fn while saving (showing 5 of 10). These functions will not be directly callable after loading.\n"
          ],
          "name": "stderr"
        },
        {
          "output_type": "stream",
          "text": [
            "INFO:tensorflow:Assets written to: model_85.hd5/assets\n"
          ],
          "name": "stdout"
        },
        {
          "output_type": "stream",
          "text": [
            "INFO:tensorflow:Assets written to: model_85.hd5/assets\n"
          ],
          "name": "stderr"
        },
        {
          "output_type": "stream",
          "text": [
            "Epoch 87/100\n",
            "52/52 [==============================] - 1s 12ms/step - loss: 0.5994 - accuracy: 0.0973 - val_loss: nan - val_accuracy: 0.0599\n",
            "Epoch 88/100\n",
            "52/52 [==============================] - 1s 13ms/step - loss: 0.5991 - accuracy: 0.0766 - val_loss: nan - val_accuracy: 0.0648\n",
            "Epoch 89/100\n",
            "52/52 [==============================] - 1s 12ms/step - loss: 0.5978 - accuracy: 0.0900 - val_loss: nan - val_accuracy: 0.0723\n",
            "Epoch 90/100\n",
            "52/52 [==============================] - 1s 12ms/step - loss: 0.5985 - accuracy: 0.0900 - val_loss: nan - val_accuracy: 0.0648\n",
            "Epoch 91/100\n",
            "52/52 [==============================] - 1s 13ms/step - loss: 0.5976 - accuracy: 0.0961 - val_loss: nan - val_accuracy: 0.0648\n"
          ],
          "name": "stdout"
        },
        {
          "output_type": "stream",
          "text": [
            "WARNING:absl:Found untraced functions such as lstm_cell_4_layer_call_fn, lstm_cell_4_layer_call_and_return_conditional_losses, lstm_cell_5_layer_call_fn, lstm_cell_5_layer_call_and_return_conditional_losses, lstm_cell_4_layer_call_fn while saving (showing 5 of 10). These functions will not be directly callable after loading.\n"
          ],
          "name": "stderr"
        },
        {
          "output_type": "stream",
          "text": [
            "INFO:tensorflow:Assets written to: model_90.hd5/assets\n"
          ],
          "name": "stdout"
        },
        {
          "output_type": "stream",
          "text": [
            "INFO:tensorflow:Assets written to: model_90.hd5/assets\n"
          ],
          "name": "stderr"
        },
        {
          "output_type": "stream",
          "text": [
            "Epoch 92/100\n",
            "52/52 [==============================] - 1s 13ms/step - loss: 0.5973 - accuracy: 0.0852 - val_loss: nan - val_accuracy: 0.0673\n",
            "Epoch 93/100\n",
            "52/52 [==============================] - 1s 13ms/step - loss: 0.6013 - accuracy: 0.0912 - val_loss: nan - val_accuracy: 0.0723\n",
            "Epoch 94/100\n",
            "52/52 [==============================] - 1s 12ms/step - loss: 0.5969 - accuracy: 0.0973 - val_loss: nan - val_accuracy: 0.0673\n",
            "Epoch 95/100\n",
            "52/52 [==============================] - 1s 13ms/step - loss: 0.5957 - accuracy: 0.0852 - val_loss: nan - val_accuracy: 0.0574\n",
            "Epoch 96/100\n",
            "52/52 [==============================] - 1s 13ms/step - loss: 0.5945 - accuracy: 0.0815 - val_loss: nan - val_accuracy: 0.0623\n"
          ],
          "name": "stdout"
        },
        {
          "output_type": "stream",
          "text": [
            "WARNING:absl:Found untraced functions such as lstm_cell_4_layer_call_fn, lstm_cell_4_layer_call_and_return_conditional_losses, lstm_cell_5_layer_call_fn, lstm_cell_5_layer_call_and_return_conditional_losses, lstm_cell_4_layer_call_fn while saving (showing 5 of 10). These functions will not be directly callable after loading.\n"
          ],
          "name": "stderr"
        },
        {
          "output_type": "stream",
          "text": [
            "INFO:tensorflow:Assets written to: model_95.hd5/assets\n"
          ],
          "name": "stdout"
        },
        {
          "output_type": "stream",
          "text": [
            "INFO:tensorflow:Assets written to: model_95.hd5/assets\n"
          ],
          "name": "stderr"
        },
        {
          "output_type": "stream",
          "text": [
            "Epoch 97/100\n",
            "52/52 [==============================] - 1s 12ms/step - loss: 0.5943 - accuracy: 0.0827 - val_loss: nan - val_accuracy: 0.0623\n",
            "Epoch 98/100\n",
            "52/52 [==============================] - 1s 12ms/step - loss: 0.5927 - accuracy: 0.0998 - val_loss: nan - val_accuracy: 0.0673\n",
            "Epoch 99/100\n",
            "52/52 [==============================] - 1s 12ms/step - loss: 0.5906 - accuracy: 0.0961 - val_loss: nan - val_accuracy: 0.0599\n",
            "Epoch 100/100\n",
            "52/52 [==============================] - 1s 12ms/step - loss: 0.5911 - accuracy: 0.0900 - val_loss: nan - val_accuracy: 0.0599\n"
          ],
          "name": "stdout"
        }
      ]
    },
    {
      "cell_type": "code",
      "metadata": {
        "id": "ObOOXMCPyPLJ"
      },
      "source": [
        "final_model=tf.keras.models.load_model(\"/content/model_80.hd5\")"
      ],
      "execution_count": 51,
      "outputs": []
    },
    {
      "cell_type": "code",
      "metadata": {
        "id": "CZUrAKyszUW1",
        "colab": {
          "base_uri": "https://localhost:8080/"
        },
        "outputId": "4c189027-49ae-4b9e-8a62-da329d672f88"
      },
      "source": [
        "scaler.inverse_transform(X_train).shape"
      ],
      "execution_count": 57,
      "outputs": [
        {
          "output_type": "execute_result",
          "data": {
            "text/plain": [
              "(822, 10, 5)"
            ]
          },
          "metadata": {
            "tags": []
          },
          "execution_count": 57
        }
      ]
    },
    {
      "cell_type": "code",
      "metadata": {
        "colab": {
          "base_uri": "https://localhost:8080/",
          "height": 514
        },
        "id": "O7T0kTe48osg",
        "outputId": "9824bc3a-54d3-4cff-c727-f1a9c0da9f4f"
      },
      "source": [
        "df[-15:]"
      ],
      "execution_count": 64,
      "outputs": [
        {
          "output_type": "execute_result",
          "data": {
            "text/html": [
              "<div>\n",
              "<style scoped>\n",
              "    .dataframe tbody tr th:only-of-type {\n",
              "        vertical-align: middle;\n",
              "    }\n",
              "\n",
              "    .dataframe tbody tr th {\n",
              "        vertical-align: top;\n",
              "    }\n",
              "\n",
              "    .dataframe thead th {\n",
              "        text-align: right;\n",
              "    }\n",
              "</style>\n",
              "<table border=\"1\" class=\"dataframe\">\n",
              "  <thead>\n",
              "    <tr style=\"text-align: right;\">\n",
              "      <th></th>\n",
              "      <th>Date</th>\n",
              "      <th>Open</th>\n",
              "      <th>High</th>\n",
              "      <th>Low</th>\n",
              "      <th>Close</th>\n",
              "      <th>Adj Close</th>\n",
              "      <th>Volume</th>\n",
              "      <th>Prev_Close</th>\n",
              "      <th>Return</th>\n",
              "    </tr>\n",
              "  </thead>\n",
              "  <tbody>\n",
              "    <tr>\n",
              "      <th>1218</th>\n",
              "      <td>2021-05-06</td>\n",
              "      <td>1407.599976</td>\n",
              "      <td>1410.800049</td>\n",
              "      <td>1395.000000</td>\n",
              "      <td>1400.900024</td>\n",
              "      <td>1400.900024</td>\n",
              "      <td>5738522.0</td>\n",
              "      <td>1402.599976</td>\n",
              "      <td>-0.001212</td>\n",
              "    </tr>\n",
              "    <tr>\n",
              "      <th>1219</th>\n",
              "      <td>2021-05-07</td>\n",
              "      <td>1412.949951</td>\n",
              "      <td>1424.949951</td>\n",
              "      <td>1410.250000</td>\n",
              "      <td>1414.750000</td>\n",
              "      <td>1414.750000</td>\n",
              "      <td>6024167.0</td>\n",
              "      <td>1400.900024</td>\n",
              "      <td>0.009886</td>\n",
              "    </tr>\n",
              "    <tr>\n",
              "      <th>1220</th>\n",
              "      <td>2021-05-10</td>\n",
              "      <td>1427.000000</td>\n",
              "      <td>1430.000000</td>\n",
              "      <td>1412.800049</td>\n",
              "      <td>1419.849976</td>\n",
              "      <td>1419.849976</td>\n",
              "      <td>5530025.0</td>\n",
              "      <td>1414.750000</td>\n",
              "      <td>0.003605</td>\n",
              "    </tr>\n",
              "    <tr>\n",
              "      <th>1221</th>\n",
              "      <td>2021-05-11</td>\n",
              "      <td>1396.000000</td>\n",
              "      <td>1424.199951</td>\n",
              "      <td>1395.050049</td>\n",
              "      <td>1403.550049</td>\n",
              "      <td>1403.550049</td>\n",
              "      <td>7259517.0</td>\n",
              "      <td>1419.849976</td>\n",
              "      <td>-0.011480</td>\n",
              "    </tr>\n",
              "    <tr>\n",
              "      <th>1222</th>\n",
              "      <td>2021-05-12</td>\n",
              "      <td>1399.750000</td>\n",
              "      <td>1408.599976</td>\n",
              "      <td>1388.849976</td>\n",
              "      <td>1399.500000</td>\n",
              "      <td>1399.500000</td>\n",
              "      <td>6887463.0</td>\n",
              "      <td>1403.550049</td>\n",
              "      <td>-0.002886</td>\n",
              "    </tr>\n",
              "    <tr>\n",
              "      <th>1223</th>\n",
              "      <td>2021-05-14</td>\n",
              "      <td>1394.349976</td>\n",
              "      <td>1398.900024</td>\n",
              "      <td>1382.349976</td>\n",
              "      <td>1386.849976</td>\n",
              "      <td>1386.849976</td>\n",
              "      <td>5302071.0</td>\n",
              "      <td>1399.500000</td>\n",
              "      <td>-0.009039</td>\n",
              "    </tr>\n",
              "    <tr>\n",
              "      <th>1224</th>\n",
              "      <td>2021-05-17</td>\n",
              "      <td>1395.150024</td>\n",
              "      <td>1442.599976</td>\n",
              "      <td>1381.300049</td>\n",
              "      <td>1440.250000</td>\n",
              "      <td>1440.250000</td>\n",
              "      <td>7560346.0</td>\n",
              "      <td>1386.849976</td>\n",
              "      <td>0.038505</td>\n",
              "    </tr>\n",
              "    <tr>\n",
              "      <th>1225</th>\n",
              "      <td>2021-05-18</td>\n",
              "      <td>1458.949951</td>\n",
              "      <td>1482.750000</td>\n",
              "      <td>1455.000000</td>\n",
              "      <td>1476.699951</td>\n",
              "      <td>1476.699951</td>\n",
              "      <td>11082640.0</td>\n",
              "      <td>1440.250000</td>\n",
              "      <td>0.025308</td>\n",
              "    </tr>\n",
              "    <tr>\n",
              "      <th>1226</th>\n",
              "      <td>2021-05-19</td>\n",
              "      <td>1470.199951</td>\n",
              "      <td>1478.849976</td>\n",
              "      <td>1452.550049</td>\n",
              "      <td>1458.199951</td>\n",
              "      <td>1458.199951</td>\n",
              "      <td>5065458.0</td>\n",
              "      <td>1476.699951</td>\n",
              "      <td>-0.012528</td>\n",
              "    </tr>\n",
              "    <tr>\n",
              "      <th>1227</th>\n",
              "      <td>2021-05-20</td>\n",
              "      <td>1458.349976</td>\n",
              "      <td>1465.900024</td>\n",
              "      <td>1428.500000</td>\n",
              "      <td>1432.800049</td>\n",
              "      <td>1432.800049</td>\n",
              "      <td>5342092.0</td>\n",
              "      <td>1458.199951</td>\n",
              "      <td>-0.017419</td>\n",
              "    </tr>\n",
              "    <tr>\n",
              "      <th>1228</th>\n",
              "      <td>2021-05-21</td>\n",
              "      <td>1443.000000</td>\n",
              "      <td>1501.900024</td>\n",
              "      <td>1443.000000</td>\n",
              "      <td>1497.300049</td>\n",
              "      <td>1497.300049</td>\n",
              "      <td>9670823.0</td>\n",
              "      <td>1432.800049</td>\n",
              "      <td>0.045017</td>\n",
              "    </tr>\n",
              "    <tr>\n",
              "      <th>1229</th>\n",
              "      <td>2021-05-24</td>\n",
              "      <td>1503.250000</td>\n",
              "      <td>1520.449951</td>\n",
              "      <td>1498.500000</td>\n",
              "      <td>1509.949951</td>\n",
              "      <td>1509.949951</td>\n",
              "      <td>11073051.0</td>\n",
              "      <td>1497.300049</td>\n",
              "      <td>0.008448</td>\n",
              "    </tr>\n",
              "    <tr>\n",
              "      <th>1230</th>\n",
              "      <td>2021-05-25</td>\n",
              "      <td>1510.500000</td>\n",
              "      <td>1513.750000</td>\n",
              "      <td>1470.500000</td>\n",
              "      <td>1478.949951</td>\n",
              "      <td>1478.949951</td>\n",
              "      <td>9618487.0</td>\n",
              "      <td>1509.949951</td>\n",
              "      <td>-0.020530</td>\n",
              "    </tr>\n",
              "    <tr>\n",
              "      <th>1231</th>\n",
              "      <td>2021-05-26</td>\n",
              "      <td>1480.000000</td>\n",
              "      <td>1487.000000</td>\n",
              "      <td>1470.000000</td>\n",
              "      <td>1477.050049</td>\n",
              "      <td>1477.050049</td>\n",
              "      <td>6141995.0</td>\n",
              "      <td>1478.949951</td>\n",
              "      <td>-0.001285</td>\n",
              "    </tr>\n",
              "    <tr>\n",
              "      <th>1232</th>\n",
              "      <td>2021-05-27</td>\n",
              "      <td>1473.099976</td>\n",
              "      <td>1489.000000</td>\n",
              "      <td>1462.449951</td>\n",
              "      <td>1482.650024</td>\n",
              "      <td>1482.650024</td>\n",
              "      <td>10219748.0</td>\n",
              "      <td>1477.050049</td>\n",
              "      <td>0.003791</td>\n",
              "    </tr>\n",
              "  </tbody>\n",
              "</table>\n",
              "</div>"
            ],
            "text/plain": [
              "            Date         Open         High  ...      Volume   Prev_Close    Return\n",
              "1218  2021-05-06  1407.599976  1410.800049  ...   5738522.0  1402.599976 -0.001212\n",
              "1219  2021-05-07  1412.949951  1424.949951  ...   6024167.0  1400.900024  0.009886\n",
              "1220  2021-05-10  1427.000000  1430.000000  ...   5530025.0  1414.750000  0.003605\n",
              "1221  2021-05-11  1396.000000  1424.199951  ...   7259517.0  1419.849976 -0.011480\n",
              "1222  2021-05-12  1399.750000  1408.599976  ...   6887463.0  1403.550049 -0.002886\n",
              "1223  2021-05-14  1394.349976  1398.900024  ...   5302071.0  1399.500000 -0.009039\n",
              "1224  2021-05-17  1395.150024  1442.599976  ...   7560346.0  1386.849976  0.038505\n",
              "1225  2021-05-18  1458.949951  1482.750000  ...  11082640.0  1440.250000  0.025308\n",
              "1226  2021-05-19  1470.199951  1478.849976  ...   5065458.0  1476.699951 -0.012528\n",
              "1227  2021-05-20  1458.349976  1465.900024  ...   5342092.0  1458.199951 -0.017419\n",
              "1228  2021-05-21  1443.000000  1501.900024  ...   9670823.0  1432.800049  0.045017\n",
              "1229  2021-05-24  1503.250000  1520.449951  ...  11073051.0  1497.300049  0.008448\n",
              "1230  2021-05-25  1510.500000  1513.750000  ...   9618487.0  1509.949951 -0.020530\n",
              "1231  2021-05-26  1480.000000  1487.000000  ...   6141995.0  1478.949951 -0.001285\n",
              "1232  2021-05-27  1473.099976  1489.000000  ...  10219748.0  1477.050049  0.003791\n",
              "\n",
              "[15 rows x 9 columns]"
            ]
          },
          "metadata": {
            "tags": []
          },
          "execution_count": 64
        }
      ]
    },
    {
      "cell_type": "code",
      "metadata": {
        "colab": {
          "base_uri": "https://localhost:8080/"
        },
        "id": "eBiV-A4683NI",
        "outputId": "a7e662b4-db4b-4494-84eb-ed23f7a8cb8f"
      },
      "source": [
        "scaler.inverse_transform(X_test)[-1]"
      ],
      "execution_count": 66,
      "outputs": [
        {
          "output_type": "execute_result",
          "data": {
            "text/plain": [
              "array([[1.39975000e+03, 1.40859998e+03, 1.38884998e+03, 1.39950000e+03,\n",
              "        6.88746300e+06],\n",
              "       [1.39434998e+03, 1.39890002e+03, 1.38234998e+03, 1.38684998e+03,\n",
              "        5.30207100e+06],\n",
              "       [1.39515002e+03, 1.44259998e+03, 1.38130005e+03, 1.44025000e+03,\n",
              "        7.56034600e+06],\n",
              "       [1.45894995e+03, 1.48275000e+03, 1.45500000e+03, 1.47669995e+03,\n",
              "        1.10826400e+07],\n",
              "       [1.47019995e+03, 1.47884998e+03, 1.45255005e+03, 1.45819995e+03,\n",
              "        5.06545800e+06],\n",
              "       [1.45834998e+03, 1.46590002e+03, 1.42850000e+03, 1.43280005e+03,\n",
              "        5.34209200e+06],\n",
              "       [1.44300000e+03, 1.50190002e+03, 1.44300000e+03, 1.49730005e+03,\n",
              "        9.67082300e+06],\n",
              "       [1.50325000e+03, 1.52044995e+03, 1.49850000e+03, 1.50994995e+03,\n",
              "        1.10730510e+07],\n",
              "       [1.51050000e+03, 1.51375000e+03, 1.47050000e+03, 1.47894995e+03,\n",
              "        9.61848700e+06],\n",
              "       [1.48000000e+03, 1.48700000e+03, 1.47000000e+03, 1.47705005e+03,\n",
              "        6.14199500e+06]])"
            ]
          },
          "metadata": {
            "tags": []
          },
          "execution_count": 66
        }
      ]
    },
    {
      "cell_type": "code",
      "metadata": {
        "id": "Q9vjuvYL9NWb"
      },
      "source": [
        "y_next10=1-final_model.predict(X_test[-1].reshape(-1,T,D))"
      ],
      "execution_count": 70,
      "outputs": []
    },
    {
      "cell_type": "code",
      "metadata": {
        "id": "sEnlLdq19w2D"
      },
      "source": [
        "y_next=[i for i in y_next10[0]  ]#m= [thing for thing in list_of_things]"
      ],
      "execution_count": 86,
      "outputs": []
    },
    {
      "cell_type": "code",
      "metadata": {
        "id": "Q3VD8uZA-n_F"
      },
      "source": [
        "for i in range(len(y_next)):#value_when_true if condition else value_when_false\n",
        "  y_next[i]=-y_next[i] if y_next[i]<0.5 else y_next[i]"
      ],
      "execution_count": 88,
      "outputs": []
    },
    {
      "cell_type": "code",
      "metadata": {
        "colab": {
          "base_uri": "https://localhost:8080/"
        },
        "id": "tFpI1c3o_m0M",
        "outputId": "ea865f1c-0662-4b5f-be32-638be8b98213"
      },
      "source": [
        "y_next"
      ],
      "execution_count": 89,
      "outputs": [
        {
          "output_type": "execute_result",
          "data": {
            "text/plain": [
              "[0.57986206,\n",
              " 0.5216068,\n",
              " -0.39273155,\n",
              " -0.31666577,\n",
              " -0.2816686,\n",
              " -0.38758475,\n",
              " 0.5125055,\n",
              " 0.5752021,\n",
              " 0.7514639,\n",
              " 0.67692125]"
            ]
          },
          "metadata": {
            "tags": []
          },
          "execution_count": 89
        }
      ]
    },
    {
      "cell_type": "code",
      "metadata": {
        "colab": {
          "base_uri": "https://localhost:8080/"
        },
        "id": "p80QfuzD_0Ns",
        "outputId": "41a7f620-34cc-4349-b80c-7c90fcd83507"
      },
      "source": [
        "np.mean(y_next)"
      ],
      "execution_count": 91,
      "outputs": [
        {
          "output_type": "execute_result",
          "data": {
            "text/plain": [
              "0.22389106"
            ]
          },
          "metadata": {
            "tags": []
          },
          "execution_count": 91
        }
      ]
    },
    {
      "cell_type": "code",
      "metadata": {
        "colab": {
          "base_uri": "https://localhost:8080/"
        },
        "id": "2WbwHaGw_093",
        "outputId": "66cb3864-882a-4f57-e59e-baa2217074ee"
      },
      "source": [
        "np.round(y_next)"
      ],
      "execution_count": 92,
      "outputs": [
        {
          "output_type": "execute_result",
          "data": {
            "text/plain": [
              "array([ 1.,  1., -0., -0., -0., -0.,  1.,  1.,  1.,  1.], dtype=float32)"
            ]
          },
          "metadata": {
            "tags": []
          },
          "execution_count": 92
        }
      ]
    },
    {
      "cell_type": "code",
      "metadata": {
        "colab": {
          "base_uri": "https://localhost:8080/"
        },
        "id": "sbUxcy0SBmug",
        "outputId": "69480802-d2ff-49cf-a991-3b4858afd11a"
      },
      "source": [
        "np.round(1-final_model.predict(X_test))[-1]"
      ],
      "execution_count": 114,
      "outputs": [
        {
          "output_type": "execute_result",
          "data": {
            "text/plain": [
              "array([1., 1., 0., 0., 0., 0., 1., 1., 1., 1.], dtype=float32)"
            ]
          },
          "metadata": {
            "tags": []
          },
          "execution_count": 114
        }
      ]
    },
    {
      "cell_type": "code",
      "metadata": {
        "colab": {
          "base_uri": "https://localhost:8080/"
        },
        "id": "s6jGSbOhB006",
        "outputId": "98f57c01-6387-49c4-e770-2e7bd45cde12"
      },
      "source": [
        "y_test[-1]"
      ],
      "execution_count": 115,
      "outputs": [
        {
          "output_type": "execute_result",
          "data": {
            "text/plain": [
              "array([0., 0., 1., 1., 0., 0., 1., 1., 0., 0.])"
            ]
          },
          "metadata": {
            "tags": []
          },
          "execution_count": 115
        }
      ]
    },
    {
      "cell_type": "code",
      "metadata": {
        "id": "Zkx8R7WvDerM"
      },
      "source": [
        ""
      ],
      "execution_count": null,
      "outputs": []
    }
  ]
}